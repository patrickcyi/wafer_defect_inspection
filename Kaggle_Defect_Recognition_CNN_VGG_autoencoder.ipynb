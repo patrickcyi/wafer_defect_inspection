{
  "nbformat": 4,
  "nbformat_minor": 0,
  "metadata": {
    "colab": {
      "name": "Kaggle Defect_Recognition_CNN_VGG_autoencoder.ipynb",
      "provenance": [],
      "collapsed_sections": [],
      "machine_shape": "hm"
    },
    "kernelspec": {
      "name": "python3",
      "display_name": "Python 3"
    },
    "accelerator": "GPU"
  },
  "cells": [
    {
      "cell_type": "code",
      "metadata": {
        "id": "q6qWnxPrHK3t"
      },
      "source": [
        ""
      ],
      "execution_count": null,
      "outputs": []
    },
    {
      "cell_type": "code",
      "metadata": {
        "colab": {
          "base_uri": "https://localhost:8080/"
        },
        "id": "7ApQHJdZqqw6",
        "outputId": "8fe32ec0-1caa-4975-b802-7c6ecd77a45d"
      },
      "source": [
        "from google.colab import drive\n",
        "drive.mount('/content/drive',force_remount=True)\n",
        "\n"
      ],
      "execution_count": null,
      "outputs": [
        {
          "output_type": "stream",
          "text": [
            "Mounted at /content/drive\n"
          ],
          "name": "stdout"
        }
      ]
    },
    {
      "cell_type": "code",
      "metadata": {
        "id": "MrY1mncP79Xq"
      },
      "source": [
        ""
      ],
      "execution_count": null,
      "outputs": []
    },
    {
      "cell_type": "code",
      "metadata": {
        "id": "tgzSi1Kyq594"
      },
      "source": [
        "import pandas as pd\n",
        "import numpy as np\n",
        "import time\n",
        "import gc\n",
        "import sys\n",
        "import pickle\n",
        "import matplotlib.pyplot as plt\n",
        "import warnings\n",
        "warnings.filterwarnings(\"ignore\")\n",
        "import time\n",
        "import seaborn as sns\n",
        "import pandas.core.indexes as i\n",
        "import cv2\n",
        "from sklearn.model_selection import train_test_split\n",
        "from sklearn.utils import shuffle\n",
        "from keras.wrappers.scikit_learn import KerasClassifier \n",
        "from sklearn.model_selection import KFold \n",
        "from sklearn.model_selection import cross_val_score"
      ],
      "execution_count": null,
      "outputs": []
    },
    {
      "cell_type": "code",
      "metadata": {
        "id": "fDbK-Emrq-SZ"
      },
      "source": [
        "import tensorflow as tf\n",
        "from tensorflow.keras.utils import to_categorical\n",
        "from tensorflow.keras.models import Sequential\n",
        "from tensorflow.keras.layers import Dense, Dropout, Input\n",
        "from tensorflow.keras.layers import Activation, Flatten\n",
        "from tensorflow.keras.layers import Conv2D, MaxPooling2D, ZeroPadding2D\n",
        "from tensorflow.keras.optimizers import SGD\n",
        "from tensorflow.keras.optimizers import Adam\n",
        "from tensorflow.keras.layers import  Conv2DTranspose\n",
        "from tensorflow.keras.layers import BatchNormalization\n",
        "import keras\n",
        "from keras import layers\n"
      ],
      "execution_count": null,
      "outputs": []
    },
    {
      "cell_type": "code",
      "metadata": {
        "id": "fRkNn7Nzq_4d"
      },
      "source": [
        "copied_path='/content/drive/MyDrive/9z_ML_Bootcamp/Wafer_Defects/1LSWMD.pkl'\n",
        "data=pd.read_pickle(copied_path)\n"
      ],
      "execution_count": null,
      "outputs": []
    },
    {
      "cell_type": "code",
      "metadata": {
        "colab": {
          "base_uri": "https://localhost:8080/"
        },
        "id": "MZeN_8SXrA8N",
        "outputId": "9f4abaf6-8df5-4e0f-eb93-ddc1315c108c"
      },
      "source": [
        "data_backup=data\n",
        "df=data\n",
        "data.info()\n"
      ],
      "execution_count": null,
      "outputs": [
        {
          "output_type": "stream",
          "text": [
            "<class 'pandas.core.frame.DataFrame'>\n",
            "Int64Index: 811457 entries, 68241 to 52137\n",
            "Data columns (total 6 columns):\n",
            " #   Column          Non-Null Count   Dtype  \n",
            "---  ------          --------------   -----  \n",
            " 0   waferMap        811457 non-null  object \n",
            " 1   dieSize         811457 non-null  float64\n",
            " 2   lotName         811457 non-null  object \n",
            " 3   waferIndex      811457 non-null  float64\n",
            " 4   trianTestLabel  811457 non-null  object \n",
            " 5   failureType     811457 non-null  object \n",
            "dtypes: float64(2), object(4)\n",
            "memory usage: 83.3+ MB\n"
          ],
          "name": "stdout"
        }
      ]
    },
    {
      "cell_type": "code",
      "metadata": {
        "id": "6vFVq39RhiGM"
      },
      "source": [
        "df = df.drop(['waferIndex'], axis = 1)"
      ],
      "execution_count": null,
      "outputs": []
    },
    {
      "cell_type": "code",
      "metadata": {
        "colab": {
          "base_uri": "https://localhost:8080/",
          "height": 195
        },
        "id": "QbdEDq-ChiI2",
        "outputId": "359c2367-e7bf-4245-dc32-654336380bf1"
      },
      "source": [
        "def find_dim(x):\n",
        "    dim0=np.size(x,axis=0)\n",
        "    dim1=np.size(x,axis=1)\n",
        "    return dim0,dim1\n",
        "df['waferMapDim']=df.waferMap.apply(find_dim)\n",
        "df.sample(5)"
      ],
      "execution_count": null,
      "outputs": [
        {
          "output_type": "execute_result",
          "data": {
            "text/html": [
              "<div>\n",
              "<style scoped>\n",
              "    .dataframe tbody tr th:only-of-type {\n",
              "        vertical-align: middle;\n",
              "    }\n",
              "\n",
              "    .dataframe tbody tr th {\n",
              "        vertical-align: top;\n",
              "    }\n",
              "\n",
              "    .dataframe thead th {\n",
              "        text-align: right;\n",
              "    }\n",
              "</style>\n",
              "<table border=\"1\" class=\"dataframe\">\n",
              "  <thead>\n",
              "    <tr style=\"text-align: right;\">\n",
              "      <th></th>\n",
              "      <th>waferMap</th>\n",
              "      <th>dieSize</th>\n",
              "      <th>lotName</th>\n",
              "      <th>trianTestLabel</th>\n",
              "      <th>failureType</th>\n",
              "      <th>waferMapDim</th>\n",
              "    </tr>\n",
              "  </thead>\n",
              "  <tbody>\n",
              "    <tr>\n",
              "      <th>509241</th>\n",
              "      <td>[[0, 0, 0, 0, 0, 0, 0, 0, 0, 0, 0, 2, 1, 2, 2,...</td>\n",
              "      <td>515.0</td>\n",
              "      <td>lot31777</td>\n",
              "      <td>[]</td>\n",
              "      <td>[]</td>\n",
              "      <td>(25, 27)</td>\n",
              "    </tr>\n",
              "    <tr>\n",
              "      <th>355625</th>\n",
              "      <td>[[0, 0, 0, 0, 0, 0, 0, 0, 0, 0, 0, 0, 0, 0, 0,...</td>\n",
              "      <td>6052.0</td>\n",
              "      <td>lot21253</td>\n",
              "      <td>[]</td>\n",
              "      <td>[]</td>\n",
              "      <td>(86, 89)</td>\n",
              "    </tr>\n",
              "    <tr>\n",
              "      <th>182608</th>\n",
              "      <td>[[0, 0, 0, 0, 0, 0, 0, 0, 0, 0, 0, 0, 0, 0, 0,...</td>\n",
              "      <td>3036.0</td>\n",
              "      <td>lot11631</td>\n",
              "      <td>[[Training]]</td>\n",
              "      <td>[[Edge-Ring]]</td>\n",
              "      <td>(63, 62)</td>\n",
              "    </tr>\n",
              "    <tr>\n",
              "      <th>21667</th>\n",
              "      <td>[[0, 0, 0, 0, 0, 0, 0, 0, 0, 0, 0, 1, 1, 1, 1,...</td>\n",
              "      <td>600.0</td>\n",
              "      <td>lot2529</td>\n",
              "      <td>[]</td>\n",
              "      <td>[]</td>\n",
              "      <td>(26, 30)</td>\n",
              "    </tr>\n",
              "    <tr>\n",
              "      <th>393670</th>\n",
              "      <td>[[0, 0, 0, 0, 0, 0, 0, 0, 0, 0, 0, 0, 0, 0, 0,...</td>\n",
              "      <td>1226.0</td>\n",
              "      <td>lot23606</td>\n",
              "      <td>[]</td>\n",
              "      <td>[]</td>\n",
              "      <td>(40, 40)</td>\n",
              "    </tr>\n",
              "  </tbody>\n",
              "</table>\n",
              "</div>"
            ],
            "text/plain": [
              "                                                 waferMap  ...  waferMapDim\n",
              "509241  [[0, 0, 0, 0, 0, 0, 0, 0, 0, 0, 0, 2, 1, 2, 2,...  ...     (25, 27)\n",
              "355625  [[0, 0, 0, 0, 0, 0, 0, 0, 0, 0, 0, 0, 0, 0, 0,...  ...     (86, 89)\n",
              "182608  [[0, 0, 0, 0, 0, 0, 0, 0, 0, 0, 0, 0, 0, 0, 0,...  ...     (63, 62)\n",
              "21667   [[0, 0, 0, 0, 0, 0, 0, 0, 0, 0, 0, 1, 1, 1, 1,...  ...     (26, 30)\n",
              "393670  [[0, 0, 0, 0, 0, 0, 0, 0, 0, 0, 0, 0, 0, 0, 0,...  ...     (40, 40)\n",
              "\n",
              "[5 rows x 6 columns]"
            ]
          },
          "metadata": {
            "tags": []
          },
          "execution_count": 187
        }
      ]
    },
    {
      "cell_type": "code",
      "metadata": {
        "id": "sYs2XCDHhiLI"
      },
      "source": [
        "sub_df = df.loc[df['waferMapDim'] == (26, 26)]\n",
        "sub_wafer = sub_df['waferMap'].values\n",
        "\n",
        "sw = np.ones((1, 26, 26))\n",
        "label = list()\n",
        "\n",
        "for i in range(len(sub_df)):\n",
        "    # skip null label\n",
        "    if len(sub_df.iloc[i,:]['failureType']) == 0:\n",
        "        continue\n",
        "    sw = np.concatenate((sw, sub_df.iloc[i,:]['waferMap'].reshape(1, 26, 26)))\n",
        "    label.append(sub_df.iloc[i,:]['failureType'][0][0])"
      ],
      "execution_count": null,
      "outputs": []
    },
    {
      "cell_type": "code",
      "metadata": {
        "id": "NxICN-G6hiNu"
      },
      "source": [
        "x = sw[1:]\n",
        "y = np.array(label).reshape((-1,1))"
      ],
      "execution_count": null,
      "outputs": []
    },
    {
      "cell_type": "code",
      "metadata": {
        "colab": {
          "base_uri": "https://localhost:8080/",
          "height": 282
        },
        "id": "KIg6s6rmhrpd",
        "outputId": "a1eec074-8401-4d84-bfd1-c802f445212a"
      },
      "source": [
        "# plot 1st data\n",
        "plt.imshow(x[0])\n",
        "plt.show()\n",
        "\n",
        "# check faulty case\n",
        "print('Faulty case : {} '.format(y[0]))"
      ],
      "execution_count": null,
      "outputs": [
        {
          "output_type": "display_data",
          "data": {
            "image/png": "[encoded data removed]",
            "text/plain": [
              "<Figure size 432x288 with 1 Axes>"
            ]
          },
          "metadata": {
            "tags": [],
            "needs_background": "light"
          }
        },
        {
          "output_type": "stream",
          "text": [
            "Faulty case : ['none'] \n"
          ],
          "name": "stdout"
        }
      ]
    },
    {
      "cell_type": "code",
      "metadata": {
        "id": "2Ya_zIRKhrtm"
      },
      "source": [
        "x = x.reshape((-1, 26, 26, 1))"
      ],
      "execution_count": null,
      "outputs": []
    },
    {
      "cell_type": "code",
      "metadata": {
        "colab": {
          "base_uri": "https://localhost:8080/"
        },
        "id": "1qX5XRSehrwT",
        "outputId": "89a1a2e8-c957-4442-d1b7-bb490084b490"
      },
      "source": [
        "faulty_case = np.unique(y)\n",
        "print('Faulty case list : {}'.format(faulty_case))"
      ],
      "execution_count": null,
      "outputs": [
        {
          "output_type": "stream",
          "text": [
            "Faulty case list : ['Center' 'Donut' 'Edge-Loc' 'Edge-Ring' 'Loc' 'Near-full' 'Random'\n",
            " 'Scratch' 'none']\n"
          ],
          "name": "stdout"
        }
      ]
    },
    {
      "cell_type": "code",
      "metadata": {
        "colab": {
          "base_uri": "https://localhost:8080/"
        },
        "id": "VXq94nTfhrzC",
        "outputId": "c51ea719-382f-4d88-8566-20ec20d68b79"
      },
      "source": [
        "for f in faulty_case :\n",
        "    print('{} : {}'.format(f, len(y[y==f])))"
      ],
      "execution_count": null,
      "outputs": [
        {
          "output_type": "stream",
          "text": [
            "Center : 90\n",
            "Donut : 1\n",
            "Edge-Loc : 296\n",
            "Edge-Ring : 31\n",
            "Loc : 297\n",
            "Near-full : 16\n",
            "Random : 74\n",
            "Scratch : 72\n",
            "none : 13489\n"
          ],
          "name": "stdout"
        }
      ]
    },
    {
      "cell_type": "code",
      "metadata": {
        "id": "xcIhkiFjhr1T"
      },
      "source": [
        "# One-hot-Encoding faulty categorical variable as channel\n",
        "new_x = np.zeros((len(x), 26, 26, 3))\n",
        "\n",
        "for w in range(len(x)):\n",
        "    for i in range(26):\n",
        "        for j in range(26):\n",
        "            new_x[w, i, j, int(x[w, i, j])] = 1"
      ],
      "execution_count": null,
      "outputs": []
    },
    {
      "cell_type": "code",
      "metadata": {
        "colab": {
          "base_uri": "https://localhost:8080/"
        },
        "id": "fJXsCz9whr3d",
        "outputId": "f39809d3-cc7d-4730-eea8-20119599691d"
      },
      "source": [
        "#check new x dimension\n",
        "new_x.shape"
      ],
      "execution_count": null,
      "outputs": [
        {
          "output_type": "execute_result",
          "data": {
            "text/plain": [
              "(14366, 26, 26, 3)"
            ]
          },
          "metadata": {
            "tags": []
          },
          "execution_count": 195
        }
      ]
    },
    {
      "cell_type": "code",
      "metadata": {
        "id": "pHX2ONfghiQE"
      },
      "source": [
        "# parameter\n",
        "epoch=15\n",
        "batch_size=1024"
      ],
      "execution_count": null,
      "outputs": []
    },
    {
      "cell_type": "code",
      "metadata": {
        "id": "yVmVXeoYhiSN"
      },
      "source": [
        "# Encoder\n",
        "input_shape = (26, 26, 3)\n",
        "input_tensor = Input(input_shape)\n",
        "encode = layers.Conv2D(64, (3,3), padding='same', activation='relu')(input_tensor)\n",
        "\n",
        "latent_vector = layers.MaxPool2D()(encode)\n",
        "\n",
        "# Decoder\n",
        "decode_layer_1 = layers.Conv2DTranspose(64, (3,3), padding='same', activation='relu')\n",
        "decode_layer_2 = layers.UpSampling2D()\n",
        "output_tensor = layers.Conv2DTranspose(3, (3,3), padding='same', activation='sigmoid')\n",
        "\n",
        "# connect decoder layers\n",
        "decode = decode_layer_1(latent_vector)\n",
        "decode = decode_layer_2(decode)\n",
        "\n",
        "ae = models.Model(input_tensor, output_tensor(decode))\n",
        "ae.compile(optimizer = 'Adam',\n",
        "              loss = 'mse',\n",
        "             )"
      ],
      "execution_count": null,
      "outputs": []
    },
    {
      "cell_type": "code",
      "metadata": {
        "colab": {
          "base_uri": "https://localhost:8080/"
        },
        "id": "JmCTKBPGhx_l",
        "outputId": "0ae70732-a9cd-41dc-a646-74c60ea0967b"
      },
      "source": [
        "# start train\n",
        "ae.fit(new_x, new_x,\n",
        "       batch_size=64,\n",
        "       epochs=30)"
      ],
      "execution_count": null,
      "outputs": [
        {
          "output_type": "stream",
          "text": [
            "Epoch 1/30\n",
            "225/225 [==============================] - 1s 3ms/step - loss: 0.0969\n",
            "Epoch 2/30\n",
            "225/225 [==============================] - 1s 3ms/step - loss: 0.0187\n",
            "Epoch 3/30\n",
            "225/225 [==============================] - 1s 3ms/step - loss: 0.0084\n",
            "Epoch 4/30\n",
            "225/225 [==============================] - 1s 3ms/step - loss: 0.0050\n",
            "Epoch 5/30\n",
            "225/225 [==============================] - 1s 3ms/step - loss: 0.0035\n",
            "Epoch 6/30\n",
            "225/225 [==============================] - 1s 3ms/step - loss: 0.0026\n",
            "Epoch 7/30\n",
            "225/225 [==============================] - 1s 3ms/step - loss: 0.0020\n",
            "Epoch 8/30\n",
            "225/225 [==============================] - 1s 3ms/step - loss: 0.0017\n",
            "Epoch 9/30\n",
            "225/225 [==============================] - 1s 3ms/step - loss: 0.0014\n",
            "Epoch 10/30\n",
            "225/225 [==============================] - 1s 3ms/step - loss: 0.0012\n",
            "Epoch 11/30\n",
            "225/225 [==============================] - 1s 3ms/step - loss: 0.0011\n",
            "Epoch 12/30\n",
            "225/225 [==============================] - 1s 3ms/step - loss: 9.4504e-04\n",
            "Epoch 13/30\n",
            "225/225 [==============================] - 1s 3ms/step - loss: 8.4280e-04\n",
            "Epoch 14/30\n",
            "225/225 [==============================] - 1s 3ms/step - loss: 8.0434e-04\n",
            "Epoch 15/30\n",
            "225/225 [==============================] - 1s 3ms/step - loss: 7.1145e-04\n",
            "Epoch 16/30\n",
            "225/225 [==============================] - 1s 3ms/step - loss: 6.6048e-04\n",
            "Epoch 17/30\n",
            "225/225 [==============================] - 1s 3ms/step - loss: 5.9633e-04\n",
            "Epoch 18/30\n",
            "225/225 [==============================] - 1s 3ms/step - loss: 5.8026e-04\n",
            "Epoch 19/30\n",
            "225/225 [==============================] - 1s 3ms/step - loss: 5.0927e-04\n",
            "Epoch 20/30\n",
            "225/225 [==============================] - 1s 3ms/step - loss: 5.2740e-04\n",
            "Epoch 21/30\n",
            "225/225 [==============================] - 1s 3ms/step - loss: 4.5310e-04\n",
            "Epoch 22/30\n",
            "225/225 [==============================] - 1s 3ms/step - loss: 4.0831e-04\n",
            "Epoch 23/30\n",
            "225/225 [==============================] - 1s 3ms/step - loss: 4.0467e-04\n",
            "Epoch 24/30\n",
            "225/225 [==============================] - 1s 3ms/step - loss: 3.7922e-04\n",
            "Epoch 25/30\n",
            "225/225 [==============================] - 1s 3ms/step - loss: 3.7002e-04\n",
            "Epoch 26/30\n",
            "225/225 [==============================] - 1s 3ms/step - loss: 4.2261e-04\n",
            "Epoch 27/30\n",
            "225/225 [==============================] - 1s 3ms/step - loss: 3.2337e-04\n",
            "Epoch 28/30\n",
            "225/225 [==============================] - 1s 3ms/step - loss: 3.2118e-04\n",
            "Epoch 29/30\n",
            "225/225 [==============================] - 1s 3ms/step - loss: 2.9574e-04\n",
            "Epoch 30/30\n",
            "225/225 [==============================] - 1s 3ms/step - loss: 2.8716e-04\n"
          ],
          "name": "stdout"
        },
        {
          "output_type": "execute_result",
          "data": {
            "text/plain": [
              "<tensorflow.python.keras.callbacks.History at 0x7fda820668d0>"
            ]
          },
          "metadata": {
            "tags": []
          },
          "execution_count": 198
        }
      ]
    },
    {
      "cell_type": "code",
      "metadata": {
        "id": "0DM8rlM7hyB1"
      },
      "source": [
        "# Make encoder model with part of autoencoder model layers\n",
        "encoder = models.Model(input_tensor, latent_vector)"
      ],
      "execution_count": null,
      "outputs": []
    },
    {
      "cell_type": "code",
      "metadata": {
        "id": "k7XFrdE8hyEo"
      },
      "source": [
        "# Make decoder model with part of autoencoder model layers\n",
        "decoder_input = Input((13, 13, 64))\n",
        "decode = decode_layer_1(decoder_input)\n",
        "decode = decode_layer_2(decode)\n",
        "\n",
        "decoder = models.Model(decoder_input, output_tensor(decode))"
      ],
      "execution_count": null,
      "outputs": []
    },
    {
      "cell_type": "code",
      "metadata": {
        "id": "oyMNbS_rhyHA"
      },
      "source": [
        "# Encode original faulty wafer\n",
        "encoded_x = encoder.predict(new_x)"
      ],
      "execution_count": null,
      "outputs": []
    },
    {
      "cell_type": "code",
      "metadata": {
        "id": "7GmW0asehyL9"
      },
      "source": [
        "# Add noise to encoded latent faulty wafers vector.\n",
        "noised_encoded_x = encoded_x + np.random.normal(loc=0, scale=0.1, size = (len(encoded_x), 13, 13, 64))"
      ],
      "execution_count": null,
      "outputs": []
    },
    {
      "cell_type": "code",
      "metadata": {
        "colab": {
          "base_uri": "https://localhost:8080/",
          "height": 282
        },
        "id": "qF4bIrjphyRf",
        "outputId": "cecf56ab-4aff-447b-fbce-9aee23c3d02b"
      },
      "source": [
        "# check original faulty wafer data\n",
        "plt.imshow(np.argmax(new_x[3], axis=2))"
      ],
      "execution_count": null,
      "outputs": [
        {
          "output_type": "execute_result",
          "data": {
            "text/plain": [
              "<matplotlib.image.AxesImage at 0x7fdac0094210>"
            ]
          },
          "metadata": {
            "tags": []
          },
          "execution_count": 203
        },
        {
          "output_type": "display_data",
          "data": {
            "image/png": "[encoded data removed]",
            "text/plain": [
              "<Figure size 432x288 with 1 Axes>"
            ]
          },
          "metadata": {
            "tags": [],
            "needs_background": "light"
          }
        }
      ]
    },
    {
      "cell_type": "code",
      "metadata": {
        "colab": {
          "base_uri": "https://localhost:8080/",
          "height": 282
        },
        "id": "keJAy14chyUe",
        "outputId": "9825c4b3-4f7c-4fab-ddd5-511c134fa709"
      },
      "source": [
        "# check new noised faulty wafer data\n",
        "noised_gen_x = np.argmax(decoder.predict(noised_encoded_x), axis=3)\n",
        "plt.imshow(noised_gen_x[3])"
      ],
      "execution_count": null,
      "outputs": [
        {
          "output_type": "execute_result",
          "data": {
            "text/plain": [
              "<matplotlib.image.AxesImage at 0x7fdac0026510>"
            ]
          },
          "metadata": {
            "tags": []
          },
          "execution_count": 204
        },
        {
          "output_type": "display_data",
          "data": {
            "image/png": "[encoded data removed]",
            "text/plain": [
              "<Figure size 432x288 with 1 Axes>"
            ]
          },
          "metadata": {
            "tags": [],
            "needs_background": "light"
          }
        }
      ]
    },
    {
      "cell_type": "code",
      "metadata": {
        "colab": {
          "base_uri": "https://localhost:8080/",
          "height": 282
        },
        "id": "M9H8mJLJh3nR",
        "outputId": "e9d9b993-03f8-4d4e-b29c-e85c79921f45"
      },
      "source": [
        "# check reconstructed original faulty wafer data\n",
        "gen_x = np.argmax(ae.predict(new_x), axis=3)\n",
        "plt.imshow(gen_x[3])"
      ],
      "execution_count": null,
      "outputs": [
        {
          "output_type": "execute_result",
          "data": {
            "text/plain": [
              "<matplotlib.image.AxesImage at 0x7fda502d1910>"
            ]
          },
          "metadata": {
            "tags": []
          },
          "execution_count": 205
        },
        {
          "output_type": "display_data",
          "data": {
            "image/png": "[encoded data removed]",
            "text/plain": [
              "<Figure size 432x288 with 1 Axes>"
            ]
          },
          "metadata": {
            "tags": [],
            "needs_background": "light"
          }
        }
      ]
    },
    {
      "cell_type": "code",
      "metadata": {
        "id": "lxpVe30Eh3qO"
      },
      "source": [
        "# augment function define\n",
        "def gen_data(wafer, label):\n",
        "    # Encode input wafer\n",
        "    encoded_x = encoder.predict(wafer)\n",
        "    \n",
        "    # dummy array for collecting noised wafer\n",
        "    gen_x = np.zeros((1, 26, 26, 3))\n",
        "    \n",
        "    # Make wafer until total # of wafer to 2000\n",
        "    for i in range((2000//len(wafer)) + 1):\n",
        "        noised_encoded_x = encoded_x + np.random.normal(loc=0, scale=0.1, size = (len(encoded_x), 13, 13, 64)) \n",
        "        noised_gen_x = decoder.predict(noised_encoded_x)\n",
        "        gen_x = np.concatenate((gen_x, noised_gen_x), axis=0)\n",
        "    # also make label vector with same length\n",
        "    gen_y = np.full((len(gen_x), 1), label)\n",
        "    \n",
        "    # return date without 1st dummy data.\n",
        "    return gen_x[1:], gen_y[1:]"
      ],
      "execution_count": null,
      "outputs": []
    },
    {
      "cell_type": "code",
      "metadata": {
        "id": "Vu2uoNKlh3tl"
      },
      "source": [
        "# Augmentation for all faulty case.\n",
        "for f in faulty_case : \n",
        "    # skip none case\n",
        "    if f == 'none' : \n",
        "        continue\n",
        "    \n",
        "    gen_x, gen_y = gen_data(new_x[np.where(y==f)[0]], f)\n",
        "    new_x = np.concatenate((new_x, gen_x), axis=0)\n",
        "    y = np.concatenate((y, gen_y))"
      ],
      "execution_count": null,
      "outputs": []
    },
    {
      "cell_type": "code",
      "metadata": {
        "colab": {
          "base_uri": "https://localhost:8080/"
        },
        "id": "S6NQ0Noah3wb",
        "outputId": "c015cbdb-c5cc-48fc-cf7a-8576fdbae890"
      },
      "source": [
        "print('After Generate new_x shape : {}, new_y shape : {}'.format(new_x.shape, y.shape))\n"
      ],
      "execution_count": null,
      "outputs": [
        {
          "output_type": "stream",
          "text": [
            "After Generate new_x shape : (30707, 26, 26, 3), new_y shape : (30707, 1)\n"
          ],
          "name": "stdout"
        }
      ]
    },
    {
      "cell_type": "code",
      "metadata": {
        "colab": {
          "base_uri": "https://localhost:8080/"
        },
        "id": "yOG1bIZMh3zC",
        "outputId": "243731fa-2be1-46b6-dc7b-bd9bc577745b"
      },
      "source": [
        "for f in faulty_case :\n",
        "    print('{} : {}'.format(f, len(y[y==f])))"
      ],
      "execution_count": null,
      "outputs": [
        {
          "output_type": "stream",
          "text": [
            "Center : 2160\n",
            "Donut : 2002\n",
            "Edge-Loc : 2368\n",
            "Edge-Ring : 2046\n",
            "Loc : 2376\n",
            "Near-full : 2032\n",
            "Random : 2146\n",
            "Scratch : 2088\n",
            "none : 13489\n"
          ],
          "name": "stdout"
        }
      ]
    },
    {
      "cell_type": "code",
      "metadata": {
        "id": "CUQUiZE4h31C"
      },
      "source": [
        "# choice index without replace.\n",
        "none_idx = np.where(y=='none')[0][np.random.choice(len(np.where(y=='none')[0]), size=1100, replace=False)]"
      ],
      "execution_count": null,
      "outputs": []
    },
    {
      "cell_type": "code",
      "metadata": {
        "id": "_lgmzuhlh33N"
      },
      "source": [
        "# delete choiced index data.\n",
        "new_x = np.delete(new_x, none_idx, axis=0)\n",
        "new_y = np.delete(y, none_idx, axis=0)"
      ],
      "execution_count": null,
      "outputs": []
    },
    {
      "cell_type": "code",
      "metadata": {
        "colab": {
          "base_uri": "https://localhost:8080/"
        },
        "id": "AFOKUQPLh9pW",
        "outputId": "c4244403-9aed-4f0d-df76-7976f38c2f8d"
      },
      "source": [
        "print('After Delete \"none\" class new_x shape : {}, new_y shape : {}'.format(new_x.shape, new_y.shape))"
      ],
      "execution_count": null,
      "outputs": [
        {
          "output_type": "stream",
          "text": [
            "After Delete \"none\" class new_x shape : (18607, 26, 26, 3), new_y shape : (29607, 1)\n"
          ],
          "name": "stdout"
        }
      ]
    },
    {
      "cell_type": "code",
      "metadata": {
        "colab": {
          "base_uri": "https://localhost:8080/"
        },
        "id": "4t5Rmt02h9r5",
        "outputId": "9ab22d40-67d0-4346-fb5d-bbaa58613213"
      },
      "source": [
        "for f in faulty_case :\n",
        "    print('{} : {}'.format(f, len(new_y[new_y==f])))"
      ],
      "execution_count": null,
      "outputs": [
        {
          "output_type": "stream",
          "text": [
            "Center : 2160\n",
            "Donut : 2002\n",
            "Edge-Loc : 2368\n",
            "Edge-Ring : 2046\n",
            "Loc : 2376\n",
            "Near-full : 2032\n",
            "Random : 2146\n",
            "Scratch : 2088\n",
            "none : 12389\n"
          ],
          "name": "stdout"
        }
      ]
    },
    {
      "cell_type": "code",
      "metadata": {
        "id": "J2zN4gfhh9vK"
      },
      "source": [
        "# make string label data to numerical data\n",
        "for i, l in enumerate(faulty_case):\n",
        "    new_y[new_y==l] = i\n",
        "    \n",
        "# one-hot-encoding\n",
        "new_y = to_categorical(new_y)"
      ],
      "execution_count": null,
      "outputs": []
    },
    {
      "cell_type": "code",
      "metadata": {
        "colab": {
          "base_uri": "https://localhost:8080/",
          "height": 337
        },
        "id": "c9NrDTsrh9xy",
        "outputId": "93b446b9-5fb5-4e78-c553-1d8fe5bb6eb9"
      },
      "source": [
        "# split data train, test\n",
        "x_train, x_test, y_train, y_test = train_test_split(new_x, new_y,\n",
        "                                                    test_size=0.33,\n",
        "                                                    random_state=2019)"
      ],
      "execution_count": null,
      "outputs": [
        {
          "output_type": "error",
          "ename": "ValueError",
          "evalue": "ignored",
          "traceback": [
            "\u001b[0;31m---------------------------------------------------------------------------\u001b[0m",
            "\u001b[0;31mValueError\u001b[0m                                Traceback (most recent call last)",
            "\u001b[0;32m<ipython-input-281-3febd9bef461>\u001b[0m in \u001b[0;36m<module>\u001b[0;34m()\u001b[0m\n\u001b[1;32m      2\u001b[0m x_train, x_test, y_train, y_test = train_test_split(new_x, new_y,\n\u001b[1;32m      3\u001b[0m                                                     \u001b[0mtest_size\u001b[0m\u001b[0;34m=\u001b[0m\u001b[0;36m0.33\u001b[0m\u001b[0;34m,\u001b[0m\u001b[0;34m\u001b[0m\u001b[0;34m\u001b[0m\u001b[0m\n\u001b[0;32m----> 4\u001b[0;31m                                                     random_state=2019)\n\u001b[0m",
            "\u001b[0;32m/usr/local/lib/python3.7/dist-packages/sklearn/model_selection/_split.py\u001b[0m in \u001b[0;36mtrain_test_split\u001b[0;34m(*arrays, **options)\u001b[0m\n\u001b[1;32m   2116\u001b[0m         \u001b[0;32mraise\u001b[0m \u001b[0mTypeError\u001b[0m\u001b[0;34m(\u001b[0m\u001b[0;34m\"Invalid parameters passed: %s\"\u001b[0m \u001b[0;34m%\u001b[0m \u001b[0mstr\u001b[0m\u001b[0;34m(\u001b[0m\u001b[0moptions\u001b[0m\u001b[0;34m)\u001b[0m\u001b[0;34m)\u001b[0m\u001b[0;34m\u001b[0m\u001b[0;34m\u001b[0m\u001b[0m\n\u001b[1;32m   2117\u001b[0m \u001b[0;34m\u001b[0m\u001b[0m\n\u001b[0;32m-> 2118\u001b[0;31m     \u001b[0marrays\u001b[0m \u001b[0;34m=\u001b[0m \u001b[0mindexable\u001b[0m\u001b[0;34m(\u001b[0m\u001b[0;34m*\u001b[0m\u001b[0marrays\u001b[0m\u001b[0;34m)\u001b[0m\u001b[0;34m\u001b[0m\u001b[0;34m\u001b[0m\u001b[0m\n\u001b[0m\u001b[1;32m   2119\u001b[0m \u001b[0;34m\u001b[0m\u001b[0m\n\u001b[1;32m   2120\u001b[0m     \u001b[0mn_samples\u001b[0m \u001b[0;34m=\u001b[0m \u001b[0m_num_samples\u001b[0m\u001b[0;34m(\u001b[0m\u001b[0marrays\u001b[0m\u001b[0;34m[\u001b[0m\u001b[0;36m0\u001b[0m\u001b[0;34m]\u001b[0m\u001b[0;34m)\u001b[0m\u001b[0;34m\u001b[0m\u001b[0;34m\u001b[0m\u001b[0m\n",
            "\u001b[0;32m/usr/local/lib/python3.7/dist-packages/sklearn/utils/validation.py\u001b[0m in \u001b[0;36mindexable\u001b[0;34m(*iterables)\u001b[0m\n\u001b[1;32m    246\u001b[0m     \"\"\"\n\u001b[1;32m    247\u001b[0m     \u001b[0mresult\u001b[0m \u001b[0;34m=\u001b[0m \u001b[0;34m[\u001b[0m\u001b[0m_make_indexable\u001b[0m\u001b[0;34m(\u001b[0m\u001b[0mX\u001b[0m\u001b[0;34m)\u001b[0m \u001b[0;32mfor\u001b[0m \u001b[0mX\u001b[0m \u001b[0;32min\u001b[0m \u001b[0miterables\u001b[0m\u001b[0;34m]\u001b[0m\u001b[0;34m\u001b[0m\u001b[0;34m\u001b[0m\u001b[0m\n\u001b[0;32m--> 248\u001b[0;31m     \u001b[0mcheck_consistent_length\u001b[0m\u001b[0;34m(\u001b[0m\u001b[0;34m*\u001b[0m\u001b[0mresult\u001b[0m\u001b[0;34m)\u001b[0m\u001b[0;34m\u001b[0m\u001b[0;34m\u001b[0m\u001b[0m\n\u001b[0m\u001b[1;32m    249\u001b[0m     \u001b[0;32mreturn\u001b[0m \u001b[0mresult\u001b[0m\u001b[0;34m\u001b[0m\u001b[0;34m\u001b[0m\u001b[0m\n\u001b[1;32m    250\u001b[0m \u001b[0;34m\u001b[0m\u001b[0m\n",
            "\u001b[0;32m/usr/local/lib/python3.7/dist-packages/sklearn/utils/validation.py\u001b[0m in \u001b[0;36mcheck_consistent_length\u001b[0;34m(*arrays)\u001b[0m\n\u001b[1;32m    210\u001b[0m     \u001b[0;32mif\u001b[0m \u001b[0mlen\u001b[0m\u001b[0;34m(\u001b[0m\u001b[0muniques\u001b[0m\u001b[0;34m)\u001b[0m \u001b[0;34m>\u001b[0m \u001b[0;36m1\u001b[0m\u001b[0;34m:\u001b[0m\u001b[0;34m\u001b[0m\u001b[0;34m\u001b[0m\u001b[0m\n\u001b[1;32m    211\u001b[0m         raise ValueError(\"Found input variables with inconsistent numbers of\"\n\u001b[0;32m--> 212\u001b[0;31m                          \" samples: %r\" % [int(l) for l in lengths])\n\u001b[0m\u001b[1;32m    213\u001b[0m \u001b[0;34m\u001b[0m\u001b[0m\n\u001b[1;32m    214\u001b[0m \u001b[0;34m\u001b[0m\u001b[0m\n",
            "\u001b[0;31mValueError\u001b[0m: Found input variables with inconsistent numbers of samples: [18607, 29607]"
          ]
        }
      ]
    },
    {
      "cell_type": "code",
      "metadata": {
        "id": "fTZPSFnrh9z2"
      },
      "source": [
        "print('Train x : {}, y : {}'.format(x_train.shape, y_train.shape))\n",
        "print('Test x: {}, y : {}'.format(x_test.shape, y_test.shape))"
      ],
      "execution_count": null,
      "outputs": []
    },
    {
      "cell_type": "code",
      "metadata": {
        "id": "9d8WFsnJh92u"
      },
      "source": [
        "model = Sequential()\n",
        "\n",
        "model.add(Conv2D(32, kernel_size = (2,2), padding='same', activation='relu', input_shape = (int(resize_img),int(resize_img),RGB)))\n",
        "\n",
        "model.add(Conv2D(64, kernel_size = (3,3), padding='same', activation='relu'))\n",
        "model.add(Conv2D(128, kernel_size = (3,3), padding='same', activation='relu'))\n",
        "model.add(BatchNormalization(momentum=0.1))\n",
        "model.add(MaxPooling2D(3,3))\n",
        "model.add(Dropout(0.25))\n",
        "\n",
        "model.add(Flatten())\n",
        "\n",
        "\n",
        "\n",
        "\n",
        "model.add(Dense(512, activation='relu'))\n",
        "model.add(Dropout(0.4))\n",
        "model.add(Dense(128, activation='relu'))\n",
        "model.add(Dropout(0.4))\n",
        "\n",
        "\n",
        "model.add(Dense(9, activation='softmax'))"
      ],
      "execution_count": null,
      "outputs": []
    },
    {
      "cell_type": "code",
      "metadata": {
        "id": "WwworwSPiCIf"
      },
      "source": [
        "# Make keras model to sklearn classifier.\n",
        "model = KerasClassifier(build_fn=create_model, epochs=10, batch_size=1024, verbose=2) \n",
        "# 3-Fold Crossvalidation\n",
        "kfold = KFold(n_splits=3, shuffle=True, random_state=2019) \n",
        "results = cross_val_score(model, x_train, y_train, cv=kfold)\n",
        "# Check 3-fold model's mean accuracy\n",
        "print('Simple CNN Cross validation score : {:.4f}'.format(np.mean(results)))"
      ],
      "execution_count": null,
      "outputs": []
    },
    {
      "cell_type": "code",
      "metadata": {
        "id": "SkHo40WxiCLU"
      },
      "source": [
        "\n",
        "model.compile(loss='categorical_crossentropy', optimizer='adam', metrics=['accuracy'])\n",
        "history = model.fit(x_train, y_train,\n",
        "         validation_data=(x_test, y_test),\n",
        "         epochs=epoch,\n",
        "         batch_size=batch_size,\n",
        "         )"
      ],
      "execution_count": null,
      "outputs": []
    },
    {
      "cell_type": "code",
      "metadata": {
        "colab": {
          "base_uri": "https://localhost:8080/",
          "height": 284
        },
        "id": "8AEAYmEqiCN7",
        "outputId": "87e398a2-90d8-4c74-81b9-6c6000cd68d9"
      },
      "source": [
        "c=history\n",
        "accuracy  = c.history['accuracy']\n",
        "val_accuracy = c.history['val_accuracy']\n",
        "\n",
        "val_loss=c.history['val_loss']\n",
        "loss=c.history['loss']\n",
        "\n",
        "train_epoch=range(1,16)\n",
        "plt.plot(train_epoch,accuracy , label='accuracy')\n",
        "plt.plot(train_epoch,val_accuracy , label='val_accuracy')\n",
        "\n",
        "plt.xlabel('Epoch', fontsize=15)\n",
        "plt.ylabel('accuracy',fontsize=15)\n",
        "plt.legend(fontsize=15)\n",
        "\n",
        "text=('best accuracy' ,max(val_accuracy),)\n",
        "\n",
        "#plt.text(1,0.9940,text,fontsize =12)"
      ],
      "execution_count": null,
      "outputs": [
        {
          "output_type": "display_data",
          "data": {
            "image/png": "[encoded data removed]",
            "text/plain": [
              "<Figure size 432x288 with 1 Axes>"
            ]
          },
          "metadata": {
            "tags": [],
            "needs_background": "light"
          }
        }
      ]
    },
    {
      "cell_type": "code",
      "metadata": {
        "id": "5gLPUMFmiCQX"
      },
      "source": [
        "df=pd.DataFrame()\n",
        "df['epoch']=train_epoch\n",
        "df['val_acc']=val_accuracy\n",
        "df['test_acc']=accuracy\n",
        "df['val_loss']=val_loss\n",
        "df['test_loss']=loss\n",
        "df.to_csv('Alexnet1.csv') \n",
        "\n",
        "#from google.colab import files\n",
        "#files.download(\"Alexnet1.csv\")"
      ],
      "execution_count": null,
      "outputs": []
    },
    {
      "cell_type": "code",
      "metadata": {
        "colab": {
          "base_uri": "https://localhost:8080/"
        },
        "id": "_Mh2pioplDBG",
        "outputId": "5dac441b-f533-4f3c-8df5-5b22a878afdd"
      },
      "source": [
        "y_test_pred=np.round(model.predict(x_test),0)\n",
        "y_test_pred.shape\n",
        "\n",
        "y_predict_classes = [np.argmax(y, axis=None, out=None) for y in y_test_pred]\n",
        "y_test_class= [np.argmax(y, axis=None, out=None) for y in y_test]\n",
        "len(y_test_class)"
      ],
      "execution_count": null,
      "outputs": [
        {
          "output_type": "execute_result",
          "data": {
            "text/plain": [
              "6504"
            ]
          },
          "metadata": {
            "tags": []
          },
          "execution_count": 293
        }
      ]
    },
    {
      "cell_type": "code",
      "metadata": {
        "colab": {
          "base_uri": "https://localhost:8080/"
        },
        "id": "_kUq3ILIiCSh",
        "outputId": "2834ac2c-217d-4b67-a175-3ed01784e5e2"
      },
      "source": [
        "from sklearn import metrics\n",
        "\n",
        "classification_metrics=metrics.classification_report(y_predict_classes,y_test_class, target_names=n_classes)\n",
        "print(classification_metrics)"
      ],
      "execution_count": null,
      "outputs": [
        {
          "output_type": "stream",
          "text": [
            "              precision    recall  f1-score   support\n",
            "\n",
            "      Center       1.00      0.99      0.99       721\n",
            "       Donut       1.00      1.00      1.00       671\n",
            "    Edge-Loc       1.00      0.97      0.99       796\n",
            "   Edge-Ring       1.00      1.00      1.00       676\n",
            "         Loc       0.98      0.98      0.98       790\n",
            "   Near-full       1.00      1.00      1.00       699\n",
            "      Random       1.00      1.00      1.00       701\n",
            "     Scratch       1.00      0.99      1.00       680\n",
            "        none       0.95      1.00      0.97       770\n",
            "\n",
            "    accuracy                           0.99      6504\n",
            "   macro avg       0.99      0.99      0.99      6504\n",
            "weighted avg       0.99      0.99      0.99      6504\n",
            "\n"
          ],
          "name": "stdout"
        }
      ]
    },
    {
      "cell_type": "code",
      "metadata": {
        "id": "0J5VzGHRiCUo"
      },
      "source": [
        ""
      ],
      "execution_count": null,
      "outputs": []
    },
    {
      "cell_type": "code",
      "metadata": {
        "colab": {
          "base_uri": "https://localhost:8080/"
        },
        "id": "zpuloEvCTCcV",
        "outputId": "c44b90b0-6e76-4b5f-c9a6-ffbba25c40e5"
      },
      "source": [
        "y_predict_classes=pd.DataFrame(y_predict_classes)\n",
        "y_test_class=pd.DataFrame(y_test_class)\n",
        "\n",
        "for i, j in enumerate(n_classes):\n",
        "\n",
        "  y_predict_classes[y_predict_classes==i]=n_classes[i]\n",
        "  y_test_class[y_test_class==i]=n_classes[i]\n",
        "y_predict_classes=y_predict_classes.to_numpy()\n",
        "y_test_class=y_test_class.to_numpy()\n",
        "y_predict_classes"
      ],
      "execution_count": null,
      "outputs": [
        {
          "output_type": "execute_result",
          "data": {
            "text/plain": [
              "array([['none'],\n",
              "       ['Near-full'],\n",
              "       ['Donut'],\n",
              "       ...,\n",
              "       ['Scratch'],\n",
              "       ['Donut'],\n",
              "       ['Edge-Loc']], dtype=object)"
            ]
          },
          "metadata": {
            "tags": []
          },
          "execution_count": 295
        }
      ]
    },
    {
      "cell_type": "code",
      "metadata": {
        "colab": {
          "base_uri": "https://localhost:8080/"
        },
        "id": "6Szw2XfPnjqM",
        "outputId": "3a42bf58-5d49-4dae-b1ad-70987095590b"
      },
      "source": [
        "n_classes"
      ],
      "execution_count": null,
      "outputs": [
        {
          "output_type": "execute_result",
          "data": {
            "text/plain": [
              "array(['Center', 'Donut', 'Edge-Loc', 'Edge-Ring', 'Loc', 'Near-full',\n",
              "       'Random', 'Scratch', 'none'], dtype=object)"
            ]
          },
          "metadata": {
            "tags": []
          },
          "execution_count": 296
        }
      ]
    },
    {
      "cell_type": "code",
      "metadata": {
        "id": "GQO_txrjK3hx"
      },
      "source": [
        "import itertools\n",
        "from sklearn.metrics import confusion_matrix\n",
        "\n",
        "def plot_confusion_matrix(cm, normalize=False, title='Confusion matrix', cmap=plt.cm.Blues):\n",
        "    \"\"\"\n",
        "    This function prints and plots the confusion matrix.\n",
        "    Normalization can be applied by setting `normalize=True`.\n",
        "    \"\"\"\n",
        "    if normalize:\n",
        "        cm = cm.astype('float') / cm.sum(axis=1)[:, np.newaxis]\n",
        "        print(\"Normalized confusion matrix\")\n",
        "    else:\n",
        "        print('Confusion matrix, without normalization')\n",
        "\n",
        "    #print(cm)\n",
        "\n",
        "    plt.imshow(cm, interpolation='nearest', cmap=cmap)\n",
        "    plt.title(title)\n",
        "    plt.colorbar()\n",
        "\n",
        "    fmt = '.2f' if normalize else 'd'\n",
        "    thresh = cm.max() / 2.\n",
        "    for i, j in itertools.product(range(cm.shape[0]), range(cm.shape[1])):\n",
        "        plt.text(j, i, format(cm[i, j], fmt),\n",
        "                 horizontalalignment=\"center\",\n",
        "                 color=\"white\" if cm[i, j] > thresh else \"black\")\n",
        "\n",
        "    plt.tight_layout()\n",
        "    plt.ylabel('True label')\n",
        "    plt.xlabel('Predicted label')    "
      ],
      "execution_count": null,
      "outputs": []
    },
    {
      "cell_type": "code",
      "metadata": {
        "id": "fqi4Oq0ystTZ",
        "colab": {
          "base_uri": "https://localhost:8080/",
          "height": 602
        },
        "outputId": "c0130283-9c3d-46e4-e9a8-7accefd19e44"
      },
      "source": [
        "import itertools\n",
        "from sklearn.metrics import confusion_matrix\n",
        "from sklearn.metrics import ConfusionMatrixDisplay\n",
        "\n",
        "\n",
        "cnf_matrix = confusion_matrix(y_predict_classes, y_test_class)\n",
        "np.set_printoptions(precision=2)\n",
        "\n",
        "from matplotlib import gridspec\n",
        "fig = plt.figure(figsize=(15, 8)) \n",
        "gs = gridspec.GridSpec(1, 2, width_ratios=[1, 1]) \n",
        "\n",
        "\n",
        "# Plot normalized confusion matrix\n",
        "plt.subplot(gs[1])\n",
        "plot_confusion_matrix(cnf_matrix,   title='Normalized confusion matrix', normalize=True )\n",
        "\n",
        "\n",
        "plt.show()"
      ],
      "execution_count": null,
      "outputs": [
        {
          "output_type": "stream",
          "text": [
            "Normalized confusion matrix\n"
          ],
          "name": "stdout"
        },
        {
          "output_type": "display_data",
          "data": {
            "image/png": "[encoded data removed]",
            "text/plain": [
              "<Figure size 1080x576 with 2 Axes>"
            ]
          },
          "metadata": {
            "tags": [],
            "needs_background": "light"
          }
        }
      ]
    },
    {
      "cell_type": "code",
      "metadata": {
        "id": "8KUUcX52Mu98",
        "colab": {
          "base_uri": "https://localhost:8080/"
        },
        "outputId": "a0de98ab-83db-4296-9c4e-82003e67c10c"
      },
      "source": [
        "n_classes"
      ],
      "execution_count": null,
      "outputs": [
        {
          "output_type": "execute_result",
          "data": {
            "text/plain": [
              "array(['Center', 'Donut', 'Edge-Loc', 'Edge-Ring', 'Loc', 'Near-full',\n",
              "       'Random', 'Scratch', 'none'], dtype=object)"
            ]
          },
          "metadata": {
            "tags": []
          },
          "execution_count": 286
        }
      ]
    },
    {
      "cell_type": "markdown",
      "metadata": {
        "id": "tgsc9GFdYCmg"
      },
      "source": [
        ""
      ]
    },
    {
      "cell_type": "code",
      "metadata": {
        "id": "Jpb1q_wjstWw",
        "colab": {
          "base_uri": "https://localhost:8080/"
        },
        "outputId": "5f59d241-0b61-4f83-bc31-605a626da3ac"
      },
      "source": [
        "y_predict_classes"
      ],
      "execution_count": null,
      "outputs": [
        {
          "output_type": "execute_result",
          "data": {
            "text/plain": [
              "array([['none'],\n",
              "       ['Near-full'],\n",
              "       ['Donut'],\n",
              "       ...,\n",
              "       ['Scratch'],\n",
              "       ['Donut'],\n",
              "       ['Edge-Loc']], dtype=object)"
            ]
          },
          "metadata": {
            "tags": []
          },
          "execution_count": 287
        }
      ]
    },
    {
      "cell_type": "code",
      "metadata": {
        "id": "6Ozpge4rstY-",
        "colab": {
          "base_uri": "https://localhost:8080/"
        },
        "outputId": "40e2e5d3-f849-4553-d715-0b4be1a335b9"
      },
      "source": [
        "y_predict_classes\n"
      ],
      "execution_count": null,
      "outputs": [
        {
          "output_type": "execute_result",
          "data": {
            "text/plain": [
              "array([['none'],\n",
              "       ['Near-full'],\n",
              "       ['Donut'],\n",
              "       ...,\n",
              "       ['Scratch'],\n",
              "       ['Donut'],\n",
              "       ['Edge-Loc']], dtype=object)"
            ]
          },
          "metadata": {
            "tags": []
          },
          "execution_count": 288
        }
      ]
    },
    {
      "cell_type": "code",
      "metadata": {
        "id": "4oHfNVFHstbZ"
      },
      "source": [
        "n_classes[1]"
      ],
      "execution_count": null,
      "outputs": []
    },
    {
      "cell_type": "code",
      "metadata": {
        "id": "gyhqjuh2std0"
      },
      "source": [
        "y_predict_classes"
      ],
      "execution_count": null,
      "outputs": []
    },
    {
      "cell_type": "code",
      "metadata": {
        "id": "PPj0qcc5stgT"
      },
      "source": [
        ""
      ],
      "execution_count": null,
      "outputs": []
    },
    {
      "cell_type": "code",
      "metadata": {
        "id": "AtWTM48bstiq"
      },
      "source": [
        ""
      ],
      "execution_count": null,
      "outputs": []
    },
    {
      "cell_type": "markdown",
      "metadata": {
        "id": "iaHf75Wa1doy"
      },
      "source": [
        ""
      ]
    }
  ]
}