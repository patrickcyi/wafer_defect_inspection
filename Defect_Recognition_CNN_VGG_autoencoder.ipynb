{
  "nbformat": 4,
  "nbformat_minor": 0,
  "metadata": {
    "colab": {
      "name": "Defect_Recognition_CNN_VGG_autoencoder.ipynb",
      "provenance": [],
      "collapsed_sections": [],
      "machine_shape": "hm"
    },
    "kernelspec": {
      "name": "python3",
      "display_name": "Python 3"
    },
    "accelerator": "GPU"
  },
  "cells": [
    {
      "cell_type": "code",
      "metadata": {
        "id": "q6qWnxPrHK3t"
      },
      "source": [
        ""
      ],
      "execution_count": null,
      "outputs": []
    },
    {
      "cell_type": "code",
      "metadata": {
        "colab": {
          "base_uri": "https://localhost:8080/"
        },
        "id": "7ApQHJdZqqw6",
        "outputId": "12465916-8a86-4ff7-d014-64c83d3b4031"
      },
      "source": [
        "from google.colab import drive\n",
        "drive.mount('/content/drive',force_remount=True)\n",
        "\n"
      ],
      "execution_count": null,
      "outputs": [
        {
          "output_type": "stream",
          "text": [
            "Mounted at /content/drive\n"
          ],
          "name": "stdout"
        }
      ]
    },
    {
      "cell_type": "code",
      "metadata": {
        "id": "MrY1mncP79Xq"
      },
      "source": [
        ""
      ],
      "execution_count": null,
      "outputs": []
    },
    {
      "cell_type": "code",
      "metadata": {
        "id": "tgzSi1Kyq594"
      },
      "source": [
        "import pandas as pd\n",
        "import numpy as np\n",
        "import time\n",
        "import gc\n",
        "import sys\n",
        "import pickle\n",
        "import matplotlib.pyplot as plt\n",
        "import warnings\n",
        "warnings.filterwarnings(\"ignore\")\n",
        "import time\n",
        "import seaborn as sns\n",
        "import pandas.core.indexes as i\n",
        "import cv2\n",
        "from sklearn.model_selection import train_test_split\n",
        "from sklearn.utils import shuffle\n",
        "from keras.wrappers.scikit_learn import KerasClassifier \n",
        "from sklearn.model_selection import KFold \n",
        "from sklearn.model_selection import cross_val_score"
      ],
      "execution_count": null,
      "outputs": []
    },
    {
      "cell_type": "code",
      "metadata": {
        "id": "fDbK-Emrq-SZ"
      },
      "source": [
        "import tensorflow as tf\n",
        "from tensorflow.keras.utils import to_categorical\n",
        "from tensorflow.keras.models import Sequential\n",
        "from tensorflow.keras.layers import Dense, Dropout, Input\n",
        "from tensorflow.keras.layers import Activation, Flatten\n",
        "from tensorflow.keras.layers import Conv2D, MaxPooling2D, ZeroPadding2D\n",
        "from tensorflow.keras.optimizers import SGD\n",
        "from tensorflow.keras.optimizers import Adam\n",
        "from tensorflow.keras.layers import  Conv2DTranspose\n",
        "from tensorflow.keras.layers import BatchNormalization\n",
        "import keras\n",
        "from keras import layers\n"
      ],
      "execution_count": null,
      "outputs": []
    },
    {
      "cell_type": "code",
      "metadata": {
        "id": "fRkNn7Nzq_4d"
      },
      "source": [
        "copied_path='/content/drive/MyDrive/9z_ML_Bootcamp/Wafer_Defects/1LSWMD.pkl'\n",
        "data=pd.read_pickle(copied_path)\n"
      ],
      "execution_count": null,
      "outputs": []
    },
    {
      "cell_type": "code",
      "metadata": {
        "colab": {
          "base_uri": "https://localhost:8080/"
        },
        "id": "MZeN_8SXrA8N",
        "outputId": "108a9e17-0cdf-4148-fc6d-a75233bfe098"
      },
      "source": [
        "data_backup=data\n",
        "data.info()\n"
      ],
      "execution_count": null,
      "outputs": [
        {
          "output_type": "stream",
          "text": [
            "<class 'pandas.core.frame.DataFrame'>\n",
            "RangeIndex: 811457 entries, 0 to 811456\n",
            "Data columns (total 6 columns):\n",
            " #   Column          Non-Null Count   Dtype  \n",
            "---  ------          --------------   -----  \n",
            " 0   waferMap        811457 non-null  object \n",
            " 1   dieSize         811457 non-null  float64\n",
            " 2   lotName         811457 non-null  object \n",
            " 3   waferIndex      811457 non-null  float64\n",
            " 4   trianTestLabel  811457 non-null  object \n",
            " 5   failureType     811457 non-null  object \n",
            "dtypes: float64(2), object(4)\n",
            "memory usage: 37.1+ MB\n"
          ],
          "name": "stdout"
        }
      ]
    },
    {
      "cell_type": "code",
      "metadata": {
        "id": "rbp-a2ghq-Xy"
      },
      "source": [
        "# if need restart, restart from here. reading data took too long\n",
        "resize_img=26\n",
        "RGB=1\n",
        "\n",
        "\n",
        "\n",
        "data=data_backup\n",
        "data=shuffle(data)\n",
        "\n",
        "\n"
      ],
      "execution_count": null,
      "outputs": []
    },
    {
      "cell_type": "code",
      "metadata": {
        "colab": {
          "base_uri": "https://localhost:8080/"
        },
        "id": "_pmOX5n6q-aZ",
        "outputId": "b9d02caf-1aa3-4821-ae99-ba6b6130fb76"
      },
      "source": [
        "# remove the [] in failure type. easier for onehot encoder\n",
        "label=data.trianTestLabel.values\n",
        "label = [ str(obj).replace(\"[[\", \"\").replace(\"]]\", \"\") for obj in label ]\n",
        "label = np.array(label)\n",
        "len(label)"
      ],
      "execution_count": null,
      "outputs": [
        {
          "output_type": "execute_result",
          "data": {
            "text/plain": [
              "811457"
            ]
          },
          "metadata": {
            "tags": []
          },
          "execution_count": 7
        }
      ]
    },
    {
      "cell_type": "code",
      "metadata": {
        "colab": {
          "base_uri": "https://localhost:8080/",
          "height": 402
        },
        "id": "eTOei89Gq-c6",
        "outputId": "3bb594bf-97c1-40e3-b7c3-f5e3c6724ae3"
      },
      "source": [
        "data"
      ],
      "execution_count": null,
      "outputs": [
        {
          "output_type": "execute_result",
          "data": {
            "text/html": [
              "<div>\n",
              "<style scoped>\n",
              "    .dataframe tbody tr th:only-of-type {\n",
              "        vertical-align: middle;\n",
              "    }\n",
              "\n",
              "    .dataframe tbody tr th {\n",
              "        vertical-align: top;\n",
              "    }\n",
              "\n",
              "    .dataframe thead th {\n",
              "        text-align: right;\n",
              "    }\n",
              "</style>\n",
              "<table border=\"1\" class=\"dataframe\">\n",
              "  <thead>\n",
              "    <tr style=\"text-align: right;\">\n",
              "      <th></th>\n",
              "      <th>waferMap</th>\n",
              "      <th>dieSize</th>\n",
              "      <th>lotName</th>\n",
              "      <th>waferIndex</th>\n",
              "      <th>trianTestLabel</th>\n",
              "      <th>failureType</th>\n",
              "    </tr>\n",
              "  </thead>\n",
              "  <tbody>\n",
              "    <tr>\n",
              "      <th>337620</th>\n",
              "      <td>[[0, 0, 0, 0, 0, 0, 0, 0, 0, 0, 0, 0, 0, 0, 0,...</td>\n",
              "      <td>5168.0</td>\n",
              "      <td>lot20322</td>\n",
              "      <td>18.0</td>\n",
              "      <td>[]</td>\n",
              "      <td>[]</td>\n",
              "    </tr>\n",
              "    <tr>\n",
              "      <th>133130</th>\n",
              "      <td>[[0, 0, 0, 0, 0, 0, 0, 0, 0, 0, 0, 0, 0, 0, 0,...</td>\n",
              "      <td>2418.0</td>\n",
              "      <td>lot8754</td>\n",
              "      <td>25.0</td>\n",
              "      <td>[]</td>\n",
              "      <td>[]</td>\n",
              "    </tr>\n",
              "    <tr>\n",
              "      <th>278010</th>\n",
              "      <td>[[0, 0, 0, 0, 0, 0, 0, 0, 0, 0, 0, 0, 0, 0, 0,...</td>\n",
              "      <td>3026.0</td>\n",
              "      <td>lot17074</td>\n",
              "      <td>1.0</td>\n",
              "      <td>[]</td>\n",
              "      <td>[]</td>\n",
              "    </tr>\n",
              "    <tr>\n",
              "      <th>449800</th>\n",
              "      <td>[[0, 0, 0, 0, 0, 0, 0, 0, 0, 0, 0, 0, 1, 1, 1,...</td>\n",
              "      <td>712.0</td>\n",
              "      <td>lot27592</td>\n",
              "      <td>2.0</td>\n",
              "      <td>[]</td>\n",
              "      <td>[]</td>\n",
              "    </tr>\n",
              "    <tr>\n",
              "      <th>665221</th>\n",
              "      <td>[[0, 0, 0, 0, 0, 0, 0, 0, 0, 0, 0, 0, 2, 2, 2,...</td>\n",
              "      <td>712.0</td>\n",
              "      <td>lot41432</td>\n",
              "      <td>21.0</td>\n",
              "      <td>[]</td>\n",
              "      <td>[]</td>\n",
              "    </tr>\n",
              "    <tr>\n",
              "      <th>...</th>\n",
              "      <td>...</td>\n",
              "      <td>...</td>\n",
              "      <td>...</td>\n",
              "      <td>...</td>\n",
              "      <td>...</td>\n",
              "      <td>...</td>\n",
              "    </tr>\n",
              "    <tr>\n",
              "      <th>409956</th>\n",
              "      <td>[[0, 0, 0, 0, 0, 0, 0, 0, 0, 0, 0, 0, 0, 0, 0,...</td>\n",
              "      <td>1970.0</td>\n",
              "      <td>lot24451</td>\n",
              "      <td>9.0</td>\n",
              "      <td>[]</td>\n",
              "      <td>[]</td>\n",
              "    </tr>\n",
              "    <tr>\n",
              "      <th>706334</th>\n",
              "      <td>[[0, 0, 0, 0, 0, 0, 0, 0, 0, 0, 0, 0, 1, 2, 2,...</td>\n",
              "      <td>516.0</td>\n",
              "      <td>lot43278</td>\n",
              "      <td>16.0</td>\n",
              "      <td>[]</td>\n",
              "      <td>[]</td>\n",
              "    </tr>\n",
              "    <tr>\n",
              "      <th>671284</th>\n",
              "      <td>[[0, 0, 0, 0, 0, 0, 0, 0, 0, 0, 0, 0, 1, 2, 2,...</td>\n",
              "      <td>712.0</td>\n",
              "      <td>lot41785</td>\n",
              "      <td>20.0</td>\n",
              "      <td>[]</td>\n",
              "      <td>[]</td>\n",
              "    </tr>\n",
              "    <tr>\n",
              "      <th>575811</th>\n",
              "      <td>[[0, 0, 0, 0, 0, 0, 0, 0, 0, 0, 1, 1, 1, 1, 1,...</td>\n",
              "      <td>686.0</td>\n",
              "      <td>lot36014</td>\n",
              "      <td>22.0</td>\n",
              "      <td>[]</td>\n",
              "      <td>[]</td>\n",
              "    </tr>\n",
              "    <tr>\n",
              "      <th>747575</th>\n",
              "      <td>[[0, 0, 0, 0, 0, 0, 0, 0, 0, 0, 2, 2, 2, 1, 2,...</td>\n",
              "      <td>518.0</td>\n",
              "      <td>lot44947</td>\n",
              "      <td>13.0</td>\n",
              "      <td>[[Training]]</td>\n",
              "      <td>[[none]]</td>\n",
              "    </tr>\n",
              "  </tbody>\n",
              "</table>\n",
              "<p>811457 rows × 6 columns</p>\n",
              "</div>"
            ],
            "text/plain": [
              "                                                 waferMap  ...  failureType\n",
              "337620  [[0, 0, 0, 0, 0, 0, 0, 0, 0, 0, 0, 0, 0, 0, 0,...  ...           []\n",
              "133130  [[0, 0, 0, 0, 0, 0, 0, 0, 0, 0, 0, 0, 0, 0, 0,...  ...           []\n",
              "278010  [[0, 0, 0, 0, 0, 0, 0, 0, 0, 0, 0, 0, 0, 0, 0,...  ...           []\n",
              "449800  [[0, 0, 0, 0, 0, 0, 0, 0, 0, 0, 0, 0, 1, 1, 1,...  ...           []\n",
              "665221  [[0, 0, 0, 0, 0, 0, 0, 0, 0, 0, 0, 0, 2, 2, 2,...  ...           []\n",
              "...                                                   ...  ...          ...\n",
              "409956  [[0, 0, 0, 0, 0, 0, 0, 0, 0, 0, 0, 0, 0, 0, 0,...  ...           []\n",
              "706334  [[0, 0, 0, 0, 0, 0, 0, 0, 0, 0, 0, 0, 1, 2, 2,...  ...           []\n",
              "671284  [[0, 0, 0, 0, 0, 0, 0, 0, 0, 0, 0, 0, 1, 2, 2,...  ...           []\n",
              "575811  [[0, 0, 0, 0, 0, 0, 0, 0, 0, 0, 1, 1, 1, 1, 1,...  ...           []\n",
              "747575  [[0, 0, 0, 0, 0, 0, 0, 0, 0, 0, 2, 2, 2, 1, 2,...  ...     [[none]]\n",
              "\n",
              "[811457 rows x 6 columns]"
            ]
          },
          "metadata": {
            "tags": []
          },
          "execution_count": 8
        }
      ]
    },
    {
      "cell_type": "code",
      "metadata": {
        "colab": {
          "base_uri": "https://localhost:8080/"
        },
        "id": "ZLLX35rDq-fC",
        "outputId": "1d5933a1-074a-461f-8646-e77b3b099ae9"
      },
      "source": [
        "failuretype=data.failureType.values\n",
        "failuretype = [ str(obj).replace(\"[['\", \"\").replace(\"']]\", \"\") for obj in failuretype ]\n",
        "failuretype = np.array(failuretype)\n",
        "len(failuretype)"
      ],
      "execution_count": null,
      "outputs": [
        {
          "output_type": "execute_result",
          "data": {
            "text/plain": [
              "811457"
            ]
          },
          "metadata": {
            "tags": []
          },
          "execution_count": 9
        }
      ]
    },
    {
      "cell_type": "code",
      "metadata": {
        "colab": {
          "base_uri": "https://localhost:8080/"
        },
        "id": "IktPbustq-hK",
        "outputId": "13359dbe-e4f6-4c0c-e7a8-7949276e47c8"
      },
      "source": [
        "df=pd.DataFrame()\n",
        "df['label']=label\n",
        "df['type']=failuretype\n",
        "df['wafermap']=data.waferMap.values\n",
        "df['diesize']=data['dieSize'].values\n",
        "df['lot']=data.lotName.values\n",
        "df['waferindex']=data.waferIndex\n",
        "df.drop(df[df['type']=='[]'].index,axis=0, inplace=True)\n",
        "df.info()"
      ],
      "execution_count": null,
      "outputs": [
        {
          "output_type": "stream",
          "text": [
            "<class 'pandas.core.frame.DataFrame'>\n",
            "Int64Index: 172950 entries, 12 to 811456\n",
            "Data columns (total 6 columns):\n",
            " #   Column      Non-Null Count   Dtype  \n",
            "---  ------      --------------   -----  \n",
            " 0   label       172950 non-null  object \n",
            " 1   type        172950 non-null  object \n",
            " 2   wafermap    172950 non-null  object \n",
            " 3   diesize     172950 non-null  float64\n",
            " 4   lot         172950 non-null  object \n",
            " 5   waferindex  172950 non-null  float64\n",
            "dtypes: float64(2), object(4)\n",
            "memory usage: 9.2+ MB\n"
          ],
          "name": "stdout"
        }
      ]
    },
    {
      "cell_type": "code",
      "metadata": {
        "colab": {
          "base_uri": "https://localhost:8080/"
        },
        "id": "fVON_LMjq-jh",
        "outputId": "6f83ca5e-f6d9-4835-b79f-71941dea76a2"
      },
      "source": [
        "types=df['type'].unique()\n",
        "types"
      ],
      "execution_count": null,
      "outputs": [
        {
          "output_type": "execute_result",
          "data": {
            "text/plain": [
              "array(['none', 'Loc', 'Random', 'Edge-Ring', 'Edge-Loc', 'Scratch',\n",
              "       'Center', 'Near-full', 'Donut'], dtype=object)"
            ]
          },
          "metadata": {
            "tags": []
          },
          "execution_count": 11
        }
      ]
    },
    {
      "cell_type": "code",
      "metadata": {
        "colab": {
          "base_uri": "https://localhost:8080/",
          "height": 284
        },
        "id": "0436WuNcq-mK",
        "outputId": "455d53da-55a9-4749-b68a-776401975e5a"
      },
      "source": [
        "map_temp=df[df.type==\"Near-full\"].wafermap.to_numpy()\n",
        "c=map_temp[1]\n",
        "c.shape\n",
        "plt.imshow(c.flatten().reshape(c.shape[0],c.shape[1]))\n"
      ],
      "execution_count": null,
      "outputs": [
        {
          "output_type": "execute_result",
          "data": {
            "text/plain": [
              "<matplotlib.image.AxesImage at 0x7f880082c650>"
            ]
          },
          "metadata": {
            "tags": []
          },
          "execution_count": 12
        },
        {
          "output_type": "display_data",
          "data": {
            "image/png": "[encoded data removed]",
            "text/plain": [
              "<Figure size 432x288 with 1 Axes>"
            ]
          },
          "metadata": {
            "tags": [],
            "needs_background": "light"
          }
        }
      ]
    },
    {
      "cell_type": "code",
      "metadata": {
        "colab": {
          "base_uri": "https://localhost:8080/",
          "height": 206
        },
        "id": "hiZ_95n2q-n9",
        "outputId": "e17f4c66-6b36-470b-ed95-1d97ccd98a75"
      },
      "source": [
        "# example of each defects\n",
        "rows=3\n",
        "m=len(types)\n",
        "fig,ax=plt.subplots(rows, m,figsize=(60,9))\n",
        "for f,ftype in enumerate(types):\n",
        "    for i in range(rows):\n",
        "        plt.subplot(rows,len(types),i*len(types)+f+1) \n",
        "        plt.axis('off')\n",
        "        map_temp=df[df.type==ftype].wafermap.to_numpy()[i]\n",
        "        plt.figsize=(3,3)\n",
        "        plt.imshow(map_temp.flatten().reshape(map_temp.shape[0],map_temp.shape[1]), cmap=\"gray\")\n",
        "        plt.title(ftype,fontsize=30)\n"
      ],
      "execution_count": null,
      "outputs": [
        {
          "output_type": "display_data",
          "data": {
            "image/png": "[encoded data removed]",
            "text/plain": [
              "<Figure size 4320x648 with 27 Axes>"
            ]
          },
          "metadata": {
            "tags": [],
            "needs_background": "light"
          }
        }
      ]
    },
    {
      "cell_type": "code",
      "metadata": {
        "colab": {
          "base_uri": "https://localhost:8080/",
          "height": 296
        },
        "id": "6r5humBbq-qL",
        "outputId": "de6dfc65-abc5-4ec3-a36a-8ab47a66b5b7"
      },
      "source": [
        "\n",
        "sns.countplot(df.type) # need undersample, perfect wafer has too many samples!"
      ],
      "execution_count": null,
      "outputs": [
        {
          "output_type": "execute_result",
          "data": {
            "text/plain": [
              "<matplotlib.axes._subplots.AxesSubplot at 0x7f880082f810>"
            ]
          },
          "metadata": {
            "tags": []
          },
          "execution_count": 14
        },
        {
          "output_type": "display_data",
          "data": {
            "image/png": "[encoded data removed]",
            "text/plain": [
              "<Figure size 432x288 with 1 Axes>"
            ]
          },
          "metadata": {
            "tags": [],
            "needs_background": "light"
          }
        }
      ]
    },
    {
      "cell_type": "code",
      "metadata": {
        "colab": {
          "base_uri": "https://localhost:8080/"
        },
        "id": "8QvTlGU6rjTR",
        "outputId": "d874670b-aa62-4b6a-ed2a-7f5d695f0f0f"
      },
      "source": [
        "# downsample \n",
        "imgs=df[df.type != 'none']['wafermap']\n",
        "label=df[df.type != 'none']['type']\n",
        "\n",
        "len(imgs.to_numpy())\n",
        "label"
      ],
      "execution_count": null,
      "outputs": [
        {
          "output_type": "execute_result",
          "data": {
            "text/plain": [
              "22              Loc\n",
              "52              Loc\n",
              "126          Random\n",
              "216       Edge-Ring\n",
              "241        Edge-Loc\n",
              "            ...    \n",
              "811123       Center\n",
              "811173    Edge-Ring\n",
              "811220          Loc\n",
              "811382       Random\n",
              "811407     Edge-Loc\n",
              "Name: type, Length: 25519, dtype: object"
            ]
          },
          "metadata": {
            "tags": []
          },
          "execution_count": 15
        }
      ]
    },
    {
      "cell_type": "code",
      "metadata": {
        "colab": {
          "base_uri": "https://localhost:8080/"
        },
        "id": "3mbAxKatrlYF",
        "outputId": "1069b233-d04e-4e0a-adeb-b58a0d86bae6"
      },
      "source": [
        "none_sample=shuffle(df[df.type == 'none'])\n",
        "\n",
        "none_downsample=df[df.type == 'none'].iloc[1:len(imgs.to_numpy())//3,:]\n",
        "imgs_none= none_downsample.wafermap\n",
        "label_none=none_downsample.type\n",
        "len(imgs_none)"
      ],
      "execution_count": null,
      "outputs": [
        {
          "output_type": "execute_result",
          "data": {
            "text/plain": [
              "8505"
            ]
          },
          "metadata": {
            "tags": []
          },
          "execution_count": 16
        }
      ]
    },
    {
      "cell_type": "code",
      "metadata": {
        "colab": {
          "base_uri": "https://localhost:8080/",
          "height": 283
        },
        "id": "R-3fldVarmpS",
        "outputId": "610f47c8-6533-42aa-9417-2eaaae9e7207"
      },
      "source": [
        "x=imgs.append(imgs_none).to_numpy()\n",
        "y=label.append(label_none).to_numpy()\n",
        "len(y)\n",
        "sns.countplot(y)"
      ],
      "execution_count": null,
      "outputs": [
        {
          "output_type": "execute_result",
          "data": {
            "text/plain": [
              "<matplotlib.axes._subplots.AxesSubplot at 0x7f87ffec0a10>"
            ]
          },
          "metadata": {
            "tags": []
          },
          "execution_count": 17
        },
        {
          "output_type": "display_data",
          "data": {
            "image/png": "[encoded data removed]",
            "text/plain": [
              "<Figure size 432x288 with 1 Axes>"
            ]
          },
          "metadata": {
            "tags": [],
            "needs_background": "light"
          }
        }
      ]
    },
    {
      "cell_type": "code",
      "metadata": {
        "colab": {
          "base_uri": "https://localhost:8080/"
        },
        "id": "b3Rn0h-qrnki",
        "outputId": "72d5b3f7-7b4e-4f92-9f95-c2c3531162f1"
      },
      "source": [
        "# downsample, sample too large to fit\n",
        "batch_fit=pd.DataFrame({'x':x,'y':y})\n",
        "batch_fit=shuffle(batch_fit)\n",
        "#batch_fit= batch_fit.iloc[1:20000,:]\n",
        "x_map=batch_fit['x']\n",
        "y=batch_fit['y']\n",
        "batch_fit.shape"
      ],
      "execution_count": null,
      "outputs": [
        {
          "output_type": "execute_result",
          "data": {
            "text/plain": [
              "(34024, 2)"
            ]
          },
          "metadata": {
            "tags": []
          },
          "execution_count": 18
        }
      ]
    },
    {
      "cell_type": "code",
      "metadata": {
        "colab": {
          "base_uri": "https://localhost:8080/"
        },
        "id": "XQVRtAj0q-sJ",
        "outputId": "9b04b973-d407-4a6e-d99e-aa614a86f451"
      },
      "source": [
        "batch_fit.y.unique()"
      ],
      "execution_count": null,
      "outputs": [
        {
          "output_type": "execute_result",
          "data": {
            "text/plain": [
              "array(['Loc', 'none', 'Center', 'Edge-Ring', 'Edge-Loc', 'Scratch',\n",
              "       'Random', 'Donut', 'Near-full'], dtype=object)"
            ]
          },
          "metadata": {
            "tags": []
          },
          "execution_count": 19
        }
      ]
    },
    {
      "cell_type": "code",
      "metadata": {
        "colab": {
          "base_uri": "https://localhost:8080/",
          "height": 297
        },
        "id": "uy7f29LMq-uW",
        "outputId": "d1d1545b-5979-4a2b-a696-9cbb3e4325ee"
      },
      "source": [
        "sns.countplot(batch_fit.y)"
      ],
      "execution_count": null,
      "outputs": [
        {
          "output_type": "execute_result",
          "data": {
            "text/plain": [
              "<matplotlib.axes._subplots.AxesSubplot at 0x7f87ffe8bad0>"
            ]
          },
          "metadata": {
            "tags": []
          },
          "execution_count": 20
        },
        {
          "output_type": "display_data",
          "data": {
            "image/png": "[encoded data removed]",
            "text/plain": [
              "<Figure size 432x288 with 1 Axes>"
            ]
          },
          "metadata": {
            "tags": [],
            "needs_background": "light"
          }
        }
      ]
    },
    {
      "cell_type": "code",
      "metadata": {
        "id": "-X057jTo1gnm"
      },
      "source": [
        "# Start to clean the wafer map data for CNN"
      ],
      "execution_count": null,
      "outputs": []
    },
    {
      "cell_type": "code",
      "metadata": {
        "id": "UATNmxC6q-wp"
      },
      "source": [
        "# resize, the dimension of wafer maps are different. \n",
        "# need to resize to 1 dimenions. \n",
        "x_map=np.array([cv2.resize(img,dsize=(resize_img,resize_img),interpolation=cv2.INTER_CUBIC) for img in x_map])\n",
        "xmap=x_map/2"
      ],
      "execution_count": null,
      "outputs": []
    },
    {
      "cell_type": "code",
      "metadata": {
        "id": "lN48pLDpq-y6"
      },
      "source": [
        "xmap_reshape=xmap.reshape((xmap.shape[0], resize_img,resize_img,1))"
      ],
      "execution_count": null,
      "outputs": []
    },
    {
      "cell_type": "code",
      "metadata": {
        "id": "H4RuiZuju1BM",
        "colab": {
          "base_uri": "https://localhost:8080/"
        },
        "outputId": "e901c73d-f5a3-4d30-ed57-ba6657d012cb"
      },
      "source": [
        "batch_fit.y.unique()\n"
      ],
      "execution_count": null,
      "outputs": [
        {
          "output_type": "execute_result",
          "data": {
            "text/plain": [
              "array(['Loc', 'none', 'Center', 'Edge-Ring', 'Edge-Loc', 'Scratch',\n",
              "       'Random', 'Donut', 'Near-full'], dtype=object)"
            ]
          },
          "metadata": {
            "tags": []
          },
          "execution_count": 24
        }
      ]
    },
    {
      "cell_type": "code",
      "metadata": {
        "id": "DHJSobjGq-09"
      },
      "source": [
        ""
      ],
      "execution_count": null,
      "outputs": []
    },
    {
      "cell_type": "code",
      "metadata": {
        "id": "WUqIWApk9Zo4"
      },
      "source": [
        "def gray_rgb(X_data):\n",
        "    X=[]\n",
        "\n",
        "    for i in range(X_data.shape[0]):\n",
        "        X_temp=X_data[i,:].reshape(resize_img,resize_img,1)\n",
        "        X_temp_resize= tf.image.resize(X_temp, [resize_img,resize_img])\n",
        "        X.append(np.concatenate((X_temp_resize,X_temp_resize,X_temp_resize),axis=-1))\n",
        "    return X"
      ],
      "execution_count": null,
      "outputs": []
    },
    {
      "cell_type": "code",
      "metadata": {
        "id": "RSHbhP4L9aqo"
      },
      "source": [
        "if RGB==3:\n",
        "  xmap_reshape=np.asarray(gray_rgb(xmap_reshape))\n"
      ],
      "execution_count": null,
      "outputs": []
    },
    {
      "cell_type": "code",
      "metadata": {
        "id": "-wF4_OuIq-3T"
      },
      "source": [
        "X_train, X_test, y_train, y_test = train_test_split(xmap_reshape, y, test_size=0.2, random_state=101)\n"
      ],
      "execution_count": null,
      "outputs": []
    },
    {
      "cell_type": "code",
      "metadata": {
        "colab": {
          "base_uri": "https://localhost:8080/"
        },
        "id": "N0HAkKGQq-5j",
        "outputId": "f2fc12a0-d00b-4b72-9899-e0a3e1bc271f"
      },
      "source": [
        "print(X_train.shape)\n",
        "print(y_train.shape)\n",
        "print(len(X_train), len(y_train))"
      ],
      "execution_count": null,
      "outputs": [
        {
          "output_type": "stream",
          "text": [
            "(27219, 26, 26, 1)\n",
            "(27219,)\n",
            "27219 27219\n"
          ],
          "name": "stdout"
        }
      ]
    },
    {
      "cell_type": "code",
      "metadata": {
        "id": "C4VPSNCc-zRO"
      },
      "source": [
        "\n"
      ],
      "execution_count": null,
      "outputs": []
    },
    {
      "cell_type": "code",
      "metadata": {
        "id": "5WmhIkAI_rZR"
      },
      "source": [
        ""
      ],
      "execution_count": null,
      "outputs": []
    },
    {
      "cell_type": "code",
      "metadata": {
        "id": "Lpn2tpEY-S8b"
      },
      "source": [
        "# Auto Encoder\n",
        "# Encoder\n",
        "from keras import layers, Input, models\n",
        "\n",
        "input_shape = (resize_img,resize_img, RGB)\n",
        "input_tensor = Input(input_shape)\n",
        "encode = layers.Conv2D(64, (3,3), padding='same', activation='relu')(input_tensor)\n",
        "\n",
        "latent_vector = layers.MaxPool2D()(encode)\n",
        "\n",
        "# Decoder\n",
        "decode_layer_1 = layers.Conv2DTranspose(64, (3,3), padding='same', activation='relu')\n",
        "decode_layer_2 = layers.UpSampling2D()\n",
        "output_tensor = layers.Conv2DTranspose(RGB, (3,3), padding='same', activation='relu')\n",
        "\n",
        "# connect decoder layers\n",
        "decode = decode_layer_1(latent_vector)\n",
        "decode = decode_layer_2(decode)\n",
        "\n",
        "ae = models.Model(input_tensor, output_tensor(decode))\n",
        "ae.compile(optimizer = 'Adam',\n",
        "              loss = 'mse',\n",
        "             )"
      ],
      "execution_count": null,
      "outputs": []
    },
    {
      "cell_type": "code",
      "metadata": {
        "id": "B6wZcUIY-S_O",
        "colab": {
          "base_uri": "https://localhost:8080/"
        },
        "outputId": "be0111d7-2008-4725-ada2-86ae19cf7939"
      },
      "source": [
        "ae.summary()\n"
      ],
      "execution_count": null,
      "outputs": [
        {
          "output_type": "stream",
          "text": [
            "Model: \"model\"\n",
            "_________________________________________________________________\n",
            "Layer (type)                 Output Shape              Param #   \n",
            "=================================================================\n",
            "input_1 (InputLayer)         [(None, 26, 26, 1)]       0         \n",
            "_________________________________________________________________\n",
            "conv2d (Conv2D)              (None, 26, 26, 64)        640       \n",
            "_________________________________________________________________\n",
            "max_pooling2d (MaxPooling2D) (None, 13, 13, 64)        0         \n",
            "_________________________________________________________________\n",
            "conv2d_transpose (Conv2DTran (None, 13, 13, 64)        36928     \n",
            "_________________________________________________________________\n",
            "up_sampling2d (UpSampling2D) (None, 26, 26, 64)        0         \n",
            "_________________________________________________________________\n",
            "conv2d_transpose_1 (Conv2DTr (None, 26, 26, 1)         577       \n",
            "=================================================================\n",
            "Total params: 38,145\n",
            "Trainable params: 38,145\n",
            "Non-trainable params: 0\n",
            "_________________________________________________________________\n"
          ],
          "name": "stdout"
        }
      ]
    },
    {
      "cell_type": "code",
      "metadata": {
        "colab": {
          "base_uri": "https://localhost:8080/"
        },
        "id": "aXJmMLtq7-f0",
        "outputId": "8db9860d-e3cb-437f-8932-f8d17a90c50d"
      },
      "source": [
        "ae.fit(X_train, X_train,\n",
        "       batch_size=32,\n",
        "       epochs=30,\n",
        "       verbose=2)"
      ],
      "execution_count": null,
      "outputs": [
        {
          "output_type": "stream",
          "text": [
            "Epoch 1/30\n",
            "851/851 - 18s - loss: 0.0123\n",
            "Epoch 2/30\n",
            "851/851 - 2s - loss: 0.0059\n",
            "Epoch 3/30\n",
            "851/851 - 2s - loss: 0.0050\n",
            "Epoch 4/30\n",
            "851/851 - 2s - loss: 0.0045\n",
            "Epoch 5/30\n",
            "851/851 - 2s - loss: 0.0042\n",
            "Epoch 6/30\n",
            "851/851 - 2s - loss: 0.0040\n",
            "Epoch 7/30\n",
            "851/851 - 2s - loss: 0.0038\n",
            "Epoch 8/30\n",
            "851/851 - 2s - loss: 0.0037\n",
            "Epoch 9/30\n",
            "851/851 - 2s - loss: 0.0036\n",
            "Epoch 10/30\n",
            "851/851 - 2s - loss: 0.0035\n",
            "Epoch 11/30\n",
            "851/851 - 2s - loss: 0.0034\n",
            "Epoch 12/30\n",
            "851/851 - 2s - loss: 0.0034\n",
            "Epoch 13/30\n",
            "851/851 - 2s - loss: 0.0033\n",
            "Epoch 14/30\n",
            "851/851 - 2s - loss: 0.0033\n",
            "Epoch 15/30\n",
            "851/851 - 2s - loss: 0.0033\n",
            "Epoch 16/30\n",
            "851/851 - 2s - loss: 0.0032\n",
            "Epoch 17/30\n",
            "851/851 - 2s - loss: 0.0032\n",
            "Epoch 18/30\n",
            "851/851 - 2s - loss: 0.0032\n",
            "Epoch 19/30\n",
            "851/851 - 2s - loss: 0.0031\n",
            "Epoch 20/30\n",
            "851/851 - 2s - loss: 0.0031\n",
            "Epoch 21/30\n",
            "851/851 - 2s - loss: 0.0031\n",
            "Epoch 22/30\n",
            "851/851 - 2s - loss: 0.0031\n",
            "Epoch 23/30\n",
            "851/851 - 2s - loss: 0.0031\n",
            "Epoch 24/30\n",
            "851/851 - 2s - loss: 0.0030\n",
            "Epoch 25/30\n",
            "851/851 - 2s - loss: 0.0030\n",
            "Epoch 26/30\n",
            "851/851 - 2s - loss: 0.0030\n",
            "Epoch 27/30\n",
            "851/851 - 2s - loss: 0.0030\n",
            "Epoch 28/30\n",
            "851/851 - 2s - loss: 0.0030\n",
            "Epoch 29/30\n",
            "851/851 - 2s - loss: 0.0030\n",
            "Epoch 30/30\n",
            "851/851 - 2s - loss: 0.0030\n"
          ],
          "name": "stdout"
        },
        {
          "output_type": "execute_result",
          "data": {
            "text/plain": [
              "<tensorflow.python.keras.callbacks.History at 0x7f87ffe0bf10>"
            ]
          },
          "metadata": {
            "tags": []
          },
          "execution_count": 31
        }
      ]
    },
    {
      "cell_type": "code",
      "metadata": {
        "id": "HQ6foTJS7-ih"
      },
      "source": [
        "encoder = models.Model(input_tensor, latent_vector)\n"
      ],
      "execution_count": null,
      "outputs": []
    },
    {
      "cell_type": "code",
      "metadata": {
        "id": "fxtepqza7-lP"
      },
      "source": [
        "decoder_input = Input((int(resize_img/2), int(resize_img/2), 64))\n",
        "decode = decode_layer_1(decoder_input)\n",
        "decode = decode_layer_2(decode)\n",
        "\n",
        "decoder = models.Model(decoder_input, output_tensor(decode))"
      ],
      "execution_count": null,
      "outputs": []
    },
    {
      "cell_type": "code",
      "metadata": {
        "id": "v7D1Hkrl7-nf"
      },
      "source": [
        "encoded_x = encoder.predict(X_train)\n"
      ],
      "execution_count": null,
      "outputs": []
    },
    {
      "cell_type": "code",
      "metadata": {
        "id": "ix0jhU257-p2"
      },
      "source": [
        "noised_encoded_x = encoded_x + np.random.normal(loc=0, scale=0.001, size = (len(encoded_x), int(resize_img/2), int(resize_img/2), 64))"
      ],
      "execution_count": null,
      "outputs": []
    },
    {
      "cell_type": "code",
      "metadata": {
        "id": "clJt2j8K7-sL"
      },
      "source": [
        "ae_X_train=decoder.predict(noised_encoded_x)"
      ],
      "execution_count": null,
      "outputs": []
    },
    {
      "cell_type": "code",
      "metadata": {
        "colab": {
          "base_uri": "https://localhost:8080/"
        },
        "id": "igEx8AxM7-vL",
        "outputId": "6fd8c7b4-93b4-4b51-b12c-518b01050e92"
      },
      "source": [
        "ae_X_train.shape"
      ],
      "execution_count": null,
      "outputs": [
        {
          "output_type": "execute_result",
          "data": {
            "text/plain": [
              "(27219, 26, 26, 1)"
            ]
          },
          "metadata": {
            "tags": []
          },
          "execution_count": 37
        }
      ]
    },
    {
      "cell_type": "code",
      "metadata": {
        "colab": {
          "base_uri": "https://localhost:8080/"
        },
        "id": "1LlKbksr7-xV",
        "outputId": "b20269b7-e52b-463b-bbd9-9779b2d8c9da"
      },
      "source": [
        "X_train.shape"
      ],
      "execution_count": null,
      "outputs": [
        {
          "output_type": "execute_result",
          "data": {
            "text/plain": [
              "(27219, 26, 26, 1)"
            ]
          },
          "metadata": {
            "tags": []
          },
          "execution_count": 38
        }
      ]
    },
    {
      "cell_type": "code",
      "metadata": {
        "colab": {
          "base_uri": "https://localhost:8080/"
        },
        "id": "IALwqmchuIUS",
        "outputId": "7e71f153-47c8-49fa-97fa-12d1ef63905a"
      },
      "source": [
        "ccc=ae_X_train[12340]/np.max(ae_X_train[12340])\n",
        "np.max(ccc)\n",
        "np.min(ccc)"
      ],
      "execution_count": null,
      "outputs": [
        {
          "output_type": "execute_result",
          "data": {
            "text/plain": [
              "0.0"
            ]
          },
          "metadata": {
            "tags": []
          },
          "execution_count": 39
        }
      ]
    },
    {
      "cell_type": "code",
      "metadata": {
        "id": "sx4c0CHA7-z5"
      },
      "source": [
        ""
      ],
      "execution_count": null,
      "outputs": []
    },
    {
      "cell_type": "code",
      "metadata": {
        "colab": {
          "base_uri": "https://localhost:8080/",
          "height": 265
        },
        "id": "oEIuGvFR7-2N",
        "outputId": "8ae93b24-da28-4c33-b52d-481b4aa2428d"
      },
      "source": [
        "plt.imshow(ae_X_train[13320].reshape(resize_img,resize_img),  cmap=\"gray\")\n",
        "plt.axis('off')"
      ],
      "execution_count": null,
      "outputs": [
        {
          "output_type": "execute_result",
          "data": {
            "text/plain": [
              "(-0.5, 25.5, 25.5, -0.5)"
            ]
          },
          "metadata": {
            "tags": []
          },
          "execution_count": 40
        },
        {
          "output_type": "display_data",
          "data": {
            "image/png": "[encoded data removed]",
            "text/plain": [
              "<Figure size 432x288 with 1 Axes>"
            ]
          },
          "metadata": {
            "tags": [],
            "needs_background": "light"
          }
        }
      ]
    },
    {
      "cell_type": "code",
      "metadata": {
        "colab": {
          "base_uri": "https://localhost:8080/",
          "height": 265
        },
        "id": "sawKOZnrt3Jh",
        "outputId": "43432127-bb5e-42f3-f6cc-23a4a2c92688"
      },
      "source": [
        "plt.imshow(X_train[13320].reshape(resize_img,resize_img),  cmap=\"gray\")\n",
        "plt.axis('off')\n"
      ],
      "execution_count": null,
      "outputs": [
        {
          "output_type": "execute_result",
          "data": {
            "text/plain": [
              "(-0.5, 25.5, 25.5, -0.5)"
            ]
          },
          "metadata": {
            "tags": []
          },
          "execution_count": 41
        },
        {
          "output_type": "display_data",
          "data": {
            "image/png": "[encoded data removed]",
            "text/plain": [
              "<Figure size 432x288 with 1 Axes>"
            ]
          },
          "metadata": {
            "tags": [],
            "needs_background": "light"
          }
        }
      ]
    },
    {
      "cell_type": "code",
      "metadata": {
        "id": "IydLcONg7-4l"
      },
      "source": [
        ""
      ],
      "execution_count": null,
      "outputs": []
    },
    {
      "cell_type": "code",
      "metadata": {
        "id": "iK_cs78NSNjd"
      },
      "source": [
        ""
      ],
      "execution_count": null,
      "outputs": []
    },
    {
      "cell_type": "code",
      "metadata": {
        "colab": {
          "base_uri": "https://localhost:8080/"
        },
        "id": "wLNTfE0nGb1g",
        "outputId": "27de9b10-df30-4b43-ab09-a746328aebb3"
      },
      "source": [
        "print(len(y_train[y_train=='Donut']))\n",
        "print(len(y_train[y_train=='Random']))\n",
        "print(len(y_train[y_train=='Scratch']))\n",
        "print(len(y_train[y_train=='Near-full']))\n",
        "repeat_num=2000//116\n",
        "repeat_num\n"
      ],
      "execution_count": null,
      "outputs": [
        {
          "output_type": "stream",
          "text": [
            "442\n",
            "671\n",
            "979\n",
            "117\n"
          ],
          "name": "stdout"
        },
        {
          "output_type": "execute_result",
          "data": {
            "text/plain": [
              "17"
            ]
          },
          "metadata": {
            "tags": []
          },
          "execution_count": 42
        }
      ]
    },
    {
      "cell_type": "code",
      "metadata": {
        "id": "jvCz4pU3Gb4c"
      },
      "source": [
        ""
      ],
      "execution_count": null,
      "outputs": []
    },
    {
      "cell_type": "code",
      "metadata": {
        "colab": {
          "base_uri": "https://localhost:8080/"
        },
        "id": "Hm_Bf5PEMeG0",
        "outputId": "cbd399c8-30c6-446e-86e3-c44ccc891971"
      },
      "source": [
        "X_train_gene=np.zeros((1, resize_img, resize_img, RGB))\n",
        "y_train_gene=np.zeros((1))\n",
        "\n",
        "for label in y_train.unique():\n",
        "  print(label)\n",
        "  if len(y_train[y_train==label])<2000:\n",
        "    for i in range(1+2000//len(y_train[y_train==label])):\n",
        "      label_index=np.where(y_train==label)\n",
        "      X_train[label_index].shape\n",
        "      encoded_x = encoder.predict(X_train[label_index])\n",
        "      noised_encoded_x = encoded_x + np.random.normal(loc=0, scale=0.001, size = (len(encoded_x), int(resize_img/2), int(resize_img/2), 64))\n",
        "      label_index_X_train=decoder.predict(noised_encoded_x)\n",
        "\n",
        "      X_train_gene=np.append(X_train_gene, label_index_X_train, axis=0)\n",
        "      y_train_gene=np.append(y_train_gene, y_train[y_train==label], axis=0)\n",
        "\n",
        "  else:\n",
        "    label_index=np.where(y_train==label)\n",
        "    X_train_temp=shuffle(X_train[label_index])\n",
        "    label_index_X_train2=X_train_temp[0:2000]\n",
        "    y_train_gene=np.append(y_train_gene, y_train[y_train==label][0:2000], axis=0)\n",
        "    X_train_gene=np.append(X_train_gene, label_index_X_train2, axis=0)\n",
        "\n"
      ],
      "execution_count": null,
      "outputs": [
        {
          "output_type": "stream",
          "text": [
            "Center\n",
            "none\n",
            "Loc\n",
            "Edge-Loc\n",
            "Edge-Ring\n",
            "Scratch\n",
            "Donut\n",
            "Random\n",
            "Near-full\n"
          ],
          "name": "stdout"
        }
      ]
    },
    {
      "cell_type": "code",
      "metadata": {
        "colab": {
          "base_uri": "https://localhost:8080/",
          "height": 315
        },
        "id": "HnG9YveMa6bL",
        "outputId": "1a1220dc-3095-41d9-9a5b-07a2fd43b22b"
      },
      "source": [
        "X_train_gene=X_train_gene[1:]\n",
        "y_train_gene=y_train_gene[1:]\n",
        "print(X_train_gene.shape)\n",
        "print(y_train_gene.shape)\n",
        "sns.countplot(y_train_gene)"
      ],
      "execution_count": null,
      "outputs": [
        {
          "output_type": "stream",
          "text": [
            "(19266, 26, 26, 1)\n",
            "(19266,)\n"
          ],
          "name": "stdout"
        },
        {
          "output_type": "execute_result",
          "data": {
            "text/plain": [
              "<matplotlib.axes._subplots.AxesSubplot at 0x7f87ffe80c50>"
            ]
          },
          "metadata": {
            "tags": []
          },
          "execution_count": 44
        },
        {
          "output_type": "display_data",
          "data": {
            "image/png": "[encoded data removed]",
            "text/plain": [
              "<Figure size 432x288 with 1 Axes>"
            ]
          },
          "metadata": {
            "tags": [],
            "needs_background": "light"
          }
        }
      ]
    },
    {
      "cell_type": "code",
      "metadata": {
        "id": "IZs5ePP6RzZa"
      },
      "source": [
        "X_train_gene_backup=X_train_gene[1:]\n",
        "y_train_gene_backup=y_train_gene[1:]"
      ],
      "execution_count": null,
      "outputs": []
    },
    {
      "cell_type": "code",
      "metadata": {
        "id": "9GArMR1wTh26",
        "colab": {
          "base_uri": "https://localhost:8080/",
          "height": 282
        },
        "outputId": "d658eac4-ea83-4c42-b3d2-fe44374e2dc2"
      },
      "source": [
        "sns.countplot(y_train_gene_backup)"
      ],
      "execution_count": null,
      "outputs": [
        {
          "output_type": "execute_result",
          "data": {
            "text/plain": [
              "<matplotlib.axes._subplots.AxesSubplot at 0x7f87ffb92050>"
            ]
          },
          "metadata": {
            "tags": []
          },
          "execution_count": 46
        },
        {
          "output_type": "display_data",
          "data": {
            "image/png": "[encoded data removed]",
            "text/plain": [
              "<Figure size 432x288 with 1 Axes>"
            ]
          },
          "metadata": {
            "tags": [],
            "needs_background": "light"
          }
        }
      ]
    },
    {
      "cell_type": "code",
      "metadata": {
        "id": "yMGeQ3cpTh58"
      },
      "source": [
        ""
      ],
      "execution_count": null,
      "outputs": []
    },
    {
      "cell_type": "code",
      "metadata": {
        "id": "wKya_67BTh8O"
      },
      "source": [
        ""
      ],
      "execution_count": null,
      "outputs": []
    },
    {
      "cell_type": "code",
      "metadata": {
        "id": "397TCt3MWQ98"
      },
      "source": [
        ""
      ],
      "execution_count": null,
      "outputs": []
    },
    {
      "cell_type": "code",
      "metadata": {
        "id": "bulZswg7Gb7b"
      },
      "source": [
        ""
      ],
      "execution_count": null,
      "outputs": []
    },
    {
      "cell_type": "code",
      "metadata": {
        "id": "LXfg_WgaGb-W"
      },
      "source": [
        ""
      ],
      "execution_count": null,
      "outputs": []
    },
    {
      "cell_type": "code",
      "metadata": {
        "id": "Cp0Wj6hPGcAm"
      },
      "source": [
        ""
      ],
      "execution_count": null,
      "outputs": []
    },
    {
      "cell_type": "code",
      "metadata": {
        "id": "tE1vCazv7-6_"
      },
      "source": [
        ""
      ],
      "execution_count": null,
      "outputs": []
    },
    {
      "cell_type": "code",
      "metadata": {
        "id": "egM8vfhKYtYv"
      },
      "source": [
        ""
      ],
      "execution_count": null,
      "outputs": []
    },
    {
      "cell_type": "code",
      "metadata": {
        "id": "laZd8nkAYtdW"
      },
      "source": [
        "encoded_x = encoder.predict(X_test)\n",
        "ae_X_test=decoder.predict(encoded_x)\n"
      ],
      "execution_count": null,
      "outputs": []
    },
    {
      "cell_type": "code",
      "metadata": {
        "colab": {
          "base_uri": "https://localhost:8080/"
        },
        "id": "L1yyjsVkYtg2",
        "outputId": "64add0c6-fc36-47da-e42d-e5a971f618c6"
      },
      "source": [
        "X_train_gene.shape"
      ],
      "execution_count": null,
      "outputs": [
        {
          "output_type": "execute_result",
          "data": {
            "text/plain": [
              "(19266, 26, 26, 1)"
            ]
          },
          "metadata": {
            "tags": []
          },
          "execution_count": 48
        }
      ]
    },
    {
      "cell_type": "code",
      "metadata": {
        "colab": {
          "base_uri": "https://localhost:8080/"
        },
        "id": "B9HLymq9Ytj2",
        "outputId": "9386abed-d7dd-4af1-e6a3-94fb568fcc61"
      },
      "source": [
        "y_train_gene.shape\n"
      ],
      "execution_count": null,
      "outputs": [
        {
          "output_type": "execute_result",
          "data": {
            "text/plain": [
              "(19266,)"
            ]
          },
          "metadata": {
            "tags": []
          },
          "execution_count": 49
        }
      ]
    },
    {
      "cell_type": "code",
      "metadata": {
        "colab": {
          "base_uri": "https://localhost:8080/"
        },
        "id": "FtOdx_677-9P",
        "outputId": "36b05198-ef19-494c-dd11-712ad1e91374"
      },
      "source": [
        "# one hot failure labels\n",
        "n_classes=batch_fit.y.unique()\n",
        "n_classes=np.sort(n_classes)\n",
        "for i, j in enumerate(n_classes):\n",
        "  y_train_gene[y_train_gene==j]=i\n",
        "  y_test[y_test==j]=i\n",
        "y_train_gene=to_categorical(y_train_gene)\n",
        "y_test=to_categorical(y_test)\n",
        "n_classes"
      ],
      "execution_count": null,
      "outputs": [
        {
          "output_type": "execute_result",
          "data": {
            "text/plain": [
              "array(['Center', 'Donut', 'Edge-Loc', 'Edge-Ring', 'Loc', 'Near-full',\n",
              "       'Random', 'Scratch', 'none'], dtype=object)"
            ]
          },
          "metadata": {
            "tags": []
          },
          "execution_count": 50
        }
      ]
    },
    {
      "cell_type": "code",
      "metadata": {
        "colab": {
          "base_uri": "https://localhost:8080/",
          "height": 315
        },
        "id": "d_ASI4VlstCf",
        "outputId": "b6f66a45-b004-4790-dc91-f8c0362d7762"
      },
      "source": [
        "\n",
        "print(y_train_gene.shape)\n",
        "print(y_test.shape)\n",
        "if RGB==3:\n",
        "  plt.imshow(X_train_gene[11342].reshape(resize_img,resize_img,RGB))\n",
        "else:\n",
        "  plt.imshow(X_train_gene[1542].reshape(resize_img,resize_img))\n",
        "\n",
        "# show resized image\n",
        "y_train_gene[11342]\n"
      ],
      "execution_count": null,
      "outputs": [
        {
          "output_type": "stream",
          "text": [
            "(19266, 9)\n",
            "(6805, 9)\n"
          ],
          "name": "stdout"
        },
        {
          "output_type": "execute_result",
          "data": {
            "text/plain": [
              "array([0., 0., 0., 0., 0., 0., 0., 1., 0.], dtype=float32)"
            ]
          },
          "metadata": {
            "tags": []
          },
          "execution_count": 51
        },
        {
          "output_type": "display_data",
          "data": {
            "image/png": "[encoded data removed]",
            "text/plain": [
              "<Figure size 432x288 with 1 Axes>"
            ]
          },
          "metadata": {
            "tags": [],
            "needs_background": "light"
          }
        }
      ]
    },
    {
      "cell_type": "code",
      "metadata": {
        "id": "TivT80uu6U1J"
      },
      "source": [
        "model = Sequential()\n",
        "\n",
        "model.add(Conv2D(32, kernel_size = (2,2), padding='same', activation='relu', input_shape = (int(resize_img),int(resize_img),RGB)))\n",
        "\n",
        "model.add(Conv2D(64, kernel_size = (3,3), padding='same', activation='relu'))\n",
        "model.add(Conv2D(128, kernel_size = (3,3), padding='same', activation='relu'))\n",
        "model.add(BatchNormalization(momentum=0.1))\n",
        "model.add(MaxPooling2D(3,3))\n",
        "model.add(Dropout(0.25))\n",
        "\n",
        "model.add(Flatten())\n",
        "\n",
        "\n",
        "\n",
        "\n",
        "model.add(Dense(512, activation='relu'))\n",
        "model.add(Dropout(0.4))\n",
        "model.add(Dense(128, activation='relu'))\n",
        "model.add(Dropout(0.4))\n",
        "\n",
        "\n",
        "model.add(Dense(9, activation='softmax'))"
      ],
      "execution_count": null,
      "outputs": []
    },
    {
      "cell_type": "code",
      "metadata": {
        "id": "gHXN_XrystFJ"
      },
      "source": [
        "from tensorflow.keras.callbacks import ReduceLROnPlateau\n",
        "learning_rate_reduction=ReduceLROnPlateau(monitor= 'loss', patience=3, # loss stop drop and change LR after 3 rounds\n",
        "                                          verbose=1, # call back factor\n",
        "                                          factor =0.5, # LR x factor\n",
        "                                          min_lr=0.0001)"
      ],
      "execution_count": null,
      "outputs": []
    },
    {
      "cell_type": "code",
      "metadata": {
        "id": "k9H7eOC765ng"
      },
      "source": [
        "optimizer=Adam(learning_rate=0.001, beta_1=0.9,beta_2= 0.999)\n",
        "model.compile(loss='categorical_crossentropy', optimizer=optimizer, metrics=['accuracy'])"
      ],
      "execution_count": null,
      "outputs": []
    },
    {
      "cell_type": "code",
      "metadata": {
        "id": "JzTFYUHg65um"
      },
      "source": [
        "X_train2, X_test2, y_train2, y_test2 = train_test_split(X_train_gene, y_train_gene, test_size=0.2, random_state=101)\n"
      ],
      "execution_count": null,
      "outputs": []
    },
    {
      "cell_type": "code",
      "metadata": {
        "id": "XA4gqdKBJnso"
      },
      "source": [
        "# Data augmentation\n",
        "from tensorflow.keras.preprocessing.image import ImageDataGenerator # for data augmentation\n",
        "\n",
        "datagen = ImageDataGenerator(zoom_range=0.2,\n",
        "                             width_shift_range=0.2,\n",
        "                             height_shift_range=0.2,\n",
        "                             rotation_range=20)\n",
        "datagen.fit(X_train_gene)"
      ],
      "execution_count": null,
      "outputs": []
    },
    {
      "cell_type": "code",
      "metadata": {
        "id": "82GhghoAJn7S"
      },
      "source": [
        "train_generator=datagen.flow(X_train2, y_train2, batch_size=1024, shuffle=True)\n"
      ],
      "execution_count": null,
      "outputs": []
    },
    {
      "cell_type": "code",
      "metadata": {
        "colab": {
          "base_uri": "https://localhost:8080/"
        },
        "id": "yDGuqmAc65w3",
        "outputId": "f10b4e3c-2a6b-4c99-cbdc-8bcdb11459a8"
      },
      "source": [
        "CNN2=model.fit(x=X_train2, y= y_train2,epochs=50,batch_size=128, verbose=2 , validation_data=(X_test,y_test), callbacks=[learning_rate_reduction])\n",
        "\n",
        "#CNN2=model.fit(x=X_train_gene, y= y_train_gene,epochs=50,batch_size=128, verbose=2 , validation_data=(X_test,y_test), callbacks=[learning_rate_reduction])\n",
        "#CNN2=model.fit_generator(train_generator, steps_per_epoch = (X_train2.shape[0]//1024), epochs=50, verbose=2,    validation_data=(X_test2,y_test2), callbacks=[learning_rate_reduction])"
      ],
      "execution_count": null,
      "outputs": [
        {
          "output_type": "stream",
          "text": [
            "Epoch 1/50\n",
            "120/120 - 2s - loss: 0.1386 - accuracy: 0.9512 - val_loss: 1.0734 - val_accuracy: 0.8334\n",
            "Epoch 2/50\n",
            "120/120 - 2s - loss: 0.1277 - accuracy: 0.9569 - val_loss: 0.9036 - val_accuracy: 0.8275\n",
            "Epoch 3/50\n",
            "120/120 - 2s - loss: 0.1200 - accuracy: 0.9570 - val_loss: 0.9472 - val_accuracy: 0.8464\n",
            "Epoch 4/50\n",
            "120/120 - 2s - loss: 0.1097 - accuracy: 0.9621 - val_loss: 0.9991 - val_accuracy: 0.8398\n",
            "Epoch 5/50\n",
            "120/120 - 2s - loss: 0.1033 - accuracy: 0.9638 - val_loss: 0.8685 - val_accuracy: 0.8529\n",
            "Epoch 6/50\n",
            "120/120 - 2s - loss: 0.0948 - accuracy: 0.9681 - val_loss: 0.7584 - val_accuracy: 0.8557\n",
            "Epoch 7/50\n",
            "120/120 - 2s - loss: 0.0828 - accuracy: 0.9722 - val_loss: 1.1674 - val_accuracy: 0.8398\n",
            "Epoch 8/50\n",
            "120/120 - 2s - loss: 0.0796 - accuracy: 0.9739 - val_loss: 0.8979 - val_accuracy: 0.8497\n",
            "Epoch 9/50\n",
            "120/120 - 2s - loss: 0.0867 - accuracy: 0.9711 - val_loss: 0.9655 - val_accuracy: 0.8414\n",
            "Epoch 10/50\n",
            "120/120 - 2s - loss: 0.0709 - accuracy: 0.9767 - val_loss: 0.9694 - val_accuracy: 0.8454\n",
            "Epoch 11/50\n",
            "120/120 - 2s - loss: 0.0687 - accuracy: 0.9778 - val_loss: 1.1937 - val_accuracy: 0.8475\n",
            "Epoch 12/50\n",
            "120/120 - 2s - loss: 0.0654 - accuracy: 0.9785 - val_loss: 1.0065 - val_accuracy: 0.8501\n",
            "Epoch 13/50\n",
            "120/120 - 2s - loss: 0.0667 - accuracy: 0.9791 - val_loss: 1.2317 - val_accuracy: 0.8458\n",
            "Epoch 14/50\n",
            "120/120 - 2s - loss: 0.0645 - accuracy: 0.9795 - val_loss: 1.5924 - val_accuracy: 0.8416\n",
            "Epoch 15/50\n",
            "120/120 - 2s - loss: 0.0608 - accuracy: 0.9799 - val_loss: 1.0052 - val_accuracy: 0.8539\n",
            "Epoch 16/50\n",
            "120/120 - 2s - loss: 0.0516 - accuracy: 0.9825 - val_loss: 1.0406 - val_accuracy: 0.8448\n",
            "Epoch 17/50\n",
            "120/120 - 2s - loss: 0.0490 - accuracy: 0.9848 - val_loss: 1.1544 - val_accuracy: 0.8492\n",
            "Epoch 18/50\n",
            "120/120 - 2s - loss: 0.0435 - accuracy: 0.9859 - val_loss: 1.2557 - val_accuracy: 0.8476\n",
            "Epoch 19/50\n",
            "120/120 - 2s - loss: 0.0575 - accuracy: 0.9823 - val_loss: 1.2681 - val_accuracy: 0.8423\n",
            "Epoch 20/50\n",
            "120/120 - 2s - loss: 0.0520 - accuracy: 0.9830 - val_loss: 1.1695 - val_accuracy: 0.8555\n",
            "Epoch 21/50\n",
            "120/120 - 2s - loss: 0.0466 - accuracy: 0.9847 - val_loss: 1.0344 - val_accuracy: 0.8672\n",
            "\n",
            "Epoch 00021: ReduceLROnPlateau reducing learning rate to 0.0005000000237487257.\n",
            "Epoch 22/50\n",
            "120/120 - 2s - loss: 0.0324 - accuracy: 0.9894 - val_loss: 1.4670 - val_accuracy: 0.8570\n",
            "Epoch 23/50\n",
            "120/120 - 2s - loss: 0.0225 - accuracy: 0.9935 - val_loss: 1.0964 - val_accuracy: 0.8579\n",
            "Epoch 24/50\n",
            "120/120 - 2s - loss: 0.0199 - accuracy: 0.9941 - val_loss: 1.3164 - val_accuracy: 0.8497\n",
            "Epoch 25/50\n",
            "120/120 - 2s - loss: 0.0180 - accuracy: 0.9943 - val_loss: 1.4583 - val_accuracy: 0.8547\n",
            "Epoch 26/50\n",
            "120/120 - 2s - loss: 0.0169 - accuracy: 0.9952 - val_loss: 1.0814 - val_accuracy: 0.8610\n",
            "Epoch 27/50\n",
            "120/120 - 2s - loss: 0.0217 - accuracy: 0.9930 - val_loss: 1.3610 - val_accuracy: 0.8551\n",
            "Epoch 28/50\n",
            "120/120 - 2s - loss: 0.0186 - accuracy: 0.9945 - val_loss: 1.4748 - val_accuracy: 0.8498\n",
            "Epoch 29/50\n",
            "120/120 - 2s - loss: 0.0210 - accuracy: 0.9943 - val_loss: 1.3335 - val_accuracy: 0.8500\n",
            "\n",
            "Epoch 00029: ReduceLROnPlateau reducing learning rate to 0.0002500000118743628.\n",
            "Epoch 30/50\n",
            "120/120 - 2s - loss: 0.0135 - accuracy: 0.9960 - val_loss: 1.5925 - val_accuracy: 0.8503\n",
            "Epoch 31/50\n",
            "120/120 - 2s - loss: 0.0114 - accuracy: 0.9971 - val_loss: 1.4016 - val_accuracy: 0.8558\n",
            "Epoch 32/50\n",
            "120/120 - 2s - loss: 0.0120 - accuracy: 0.9970 - val_loss: 1.5121 - val_accuracy: 0.8569\n",
            "Epoch 33/50\n",
            "120/120 - 2s - loss: 0.0135 - accuracy: 0.9960 - val_loss: 1.3470 - val_accuracy: 0.8476\n",
            "Epoch 34/50\n",
            "120/120 - 2s - loss: 0.0105 - accuracy: 0.9971 - val_loss: 1.4161 - val_accuracy: 0.8482\n",
            "Epoch 35/50\n",
            "120/120 - 2s - loss: 0.0095 - accuracy: 0.9969 - val_loss: 1.6806 - val_accuracy: 0.8542\n",
            "Epoch 36/50\n",
            "120/120 - 2s - loss: 0.0097 - accuracy: 0.9974 - val_loss: 1.5547 - val_accuracy: 0.8544\n",
            "Epoch 37/50\n",
            "120/120 - 2s - loss: 0.0079 - accuracy: 0.9973 - val_loss: 1.5481 - val_accuracy: 0.8475\n",
            "Epoch 38/50\n",
            "120/120 - 2s - loss: 0.0108 - accuracy: 0.9963 - val_loss: 1.3605 - val_accuracy: 0.8547\n",
            "Epoch 39/50\n",
            "120/120 - 2s - loss: 0.0087 - accuracy: 0.9971 - val_loss: 1.6908 - val_accuracy: 0.8608\n",
            "Epoch 40/50\n",
            "120/120 - 2s - loss: 0.0097 - accuracy: 0.9973 - val_loss: 1.6580 - val_accuracy: 0.8498\n",
            "\n",
            "Epoch 00040: ReduceLROnPlateau reducing learning rate to 0.0001250000059371814.\n",
            "Epoch 41/50\n",
            "120/120 - 2s - loss: 0.0096 - accuracy: 0.9972 - val_loss: 1.5029 - val_accuracy: 0.8525\n",
            "Epoch 42/50\n",
            "120/120 - 2s - loss: 0.0060 - accuracy: 0.9984 - val_loss: 1.5722 - val_accuracy: 0.8522\n",
            "Epoch 43/50\n",
            "120/120 - 2s - loss: 0.0085 - accuracy: 0.9975 - val_loss: 1.5897 - val_accuracy: 0.8530\n",
            "Epoch 44/50\n",
            "120/120 - 2s - loss: 0.0064 - accuracy: 0.9980 - val_loss: 1.6343 - val_accuracy: 0.8485\n",
            "Epoch 45/50\n",
            "120/120 - 2s - loss: 0.0094 - accuracy: 0.9966 - val_loss: 1.4516 - val_accuracy: 0.8514\n",
            "\n",
            "Epoch 00045: ReduceLROnPlateau reducing learning rate to 0.0001.\n",
            "Epoch 46/50\n",
            "120/120 - 2s - loss: 0.0061 - accuracy: 0.9978 - val_loss: 1.6181 - val_accuracy: 0.8517\n",
            "Epoch 47/50\n",
            "120/120 - 2s - loss: 0.0086 - accuracy: 0.9975 - val_loss: 1.4058 - val_accuracy: 0.8530\n",
            "Epoch 48/50\n",
            "120/120 - 2s - loss: 0.0072 - accuracy: 0.9981 - val_loss: 1.5302 - val_accuracy: 0.8538\n",
            "Epoch 49/50\n",
            "120/120 - 2s - loss: 0.0060 - accuracy: 0.9984 - val_loss: 1.6089 - val_accuracy: 0.8504\n",
            "Epoch 50/50\n",
            "120/120 - 2s - loss: 0.0074 - accuracy: 0.9977 - val_loss: 1.6911 - val_accuracy: 0.8469\n"
          ],
          "name": "stdout"
        }
      ]
    },
    {
      "cell_type": "code",
      "metadata": {
        "colab": {
          "base_uri": "https://localhost:8080/"
        },
        "id": "wvCQYfMjpZzj",
        "outputId": "d03ff884-ee79-4f88-ded4-2076808dba45"
      },
      "source": [
        "print(X_train2.shape, X_test2.shape, y_train2.shape, y_test2.shape)"
      ],
      "execution_count": null,
      "outputs": [
        {
          "output_type": "stream",
          "text": [
            "(15412, 26, 26, 1) (3854, 26, 26, 1) (15412, 9) (3854, 9)\n"
          ],
          "name": "stdout"
        }
      ]
    },
    {
      "cell_type": "code",
      "metadata": {
        "id": "i-mCcE-P7_5U"
      },
      "source": [
        "def gray_rgb(X_data):\n",
        "    X=[]\n",
        "\n",
        "    for i in range(X_data.shape[0]):\n",
        "        X_temp=X_data[i,:].reshape(26,26,1)\n",
        "        X_temp_resize= tf.image.resize(X_temp, [112,112])\n",
        "        X.append(np.concatenate((X_temp_resize,X_temp_resize,X_temp_resize),axis=-1))\n",
        "    return X"
      ],
      "execution_count": null,
      "outputs": []
    },
    {
      "cell_type": "code",
      "metadata": {
        "id": "6314S59Ap2Hx"
      },
      "source": [
        "X_train3=np.asarray(gray_rgb(X_train2))\n",
        "X_test3=np.asarray(gray_rgb(X_test2))\n",
        "\n"
      ],
      "execution_count": null,
      "outputs": []
    },
    {
      "cell_type": "code",
      "metadata": {
        "id": "Wc175WhsjolV"
      },
      "source": [
        "X_train4=np.asarray(gray_rgb(X_train))\n",
        "X_test4=np.asarray(gray_rgb(X_test))"
      ],
      "execution_count": null,
      "outputs": []
    },
    {
      "cell_type": "code",
      "metadata": {
        "colab": {
          "base_uri": "https://localhost:8080/"
        },
        "id": "i0bhQJKBjq46",
        "outputId": "42624998-300b-4e04-9b72-da919f1f0d96"
      },
      "source": [
        "print(X_train4.shape, X_test4.shape, y_train.shape, y_test.shape)"
      ],
      "execution_count": null,
      "outputs": [
        {
          "output_type": "stream",
          "text": [
            "(27219, 112, 112, 3) (6805, 112, 112, 3) (27219,) (6805, 9)\n"
          ],
          "name": "stdout"
        }
      ]
    },
    {
      "cell_type": "code",
      "metadata": {
        "colab": {
          "base_uri": "https://localhost:8080/"
        },
        "id": "0GD3XWa0p2Ks",
        "outputId": "ecb5bd43-6d71-40ec-95c7-e7538fec260f"
      },
      "source": [
        ""
      ],
      "execution_count": null,
      "outputs": [
        {
          "output_type": "stream",
          "text": [
            "(15412, 112, 112, 3) (3854, 112, 112, 3) (15412, 9) (3854, 9)\n"
          ],
          "name": "stdout"
        }
      ]
    },
    {
      "cell_type": "code",
      "metadata": {
        "id": "w687-wrqk3D4"
      },
      "source": [
        ""
      ],
      "execution_count": null,
      "outputs": []
    },
    {
      "cell_type": "code",
      "metadata": {
        "id": "8AuJBB1Ako8C"
      },
      "source": [
        "for i, j in enumerate(n_classes):\n",
        "  y_train[y_train==j]=i\n",
        "y_train=to_categorical(y_train)\n"
      ],
      "execution_count": null,
      "outputs": []
    },
    {
      "cell_type": "code",
      "metadata": {
        "colab": {
          "base_uri": "https://localhost:8080/"
        },
        "id": "oOtSlLUTk3hA",
        "outputId": "610faa99-feb6-4074-afcf-89ac99d9b531"
      },
      "source": [
        "print(X_train3.shape, X_test3.shape, y_train2.shape, y_test2.shape)"
      ],
      "execution_count": null,
      "outputs": [
        {
          "output_type": "stream",
          "text": [
            "(15412, 112, 112, 3) (3854, 112, 112, 3) (15412, 9) (3854, 9)\n"
          ],
          "name": "stdout"
        }
      ]
    },
    {
      "cell_type": "code",
      "metadata": {
        "colab": {
          "base_uri": "https://localhost:8080/"
        },
        "id": "2fE6PD6pp2NM",
        "outputId": "2d10bcd9-df6e-45f1-a951-ab88f2c363db"
      },
      "source": [
        "base_model=tf.keras.applications.MobileNetV2(\n",
        "    input_shape=(112,112,3), alpha=1.0, include_top=False, weights='imagenet',\n",
        "    input_tensor=None, pooling=None)"
      ],
      "execution_count": null,
      "outputs": [
        {
          "output_type": "stream",
          "text": [
            "WARNING:tensorflow:`input_shape` is undefined or non-square, or `rows` is not in [96, 128, 160, 192, 224]. Weights for input shape (224, 224) will be loaded as the default.\n"
          ],
          "name": "stdout"
        }
      ]
    },
    {
      "cell_type": "code",
      "metadata": {
        "id": "vWCvMJcgstHf"
      },
      "source": [
        "model2 = tf.keras.Sequential([\n",
        "  base_model,\n",
        "  tf.keras.layers.Conv2D(128, 3, activation='relu'),\n",
        "  tf.keras.layers.Dropout(0.2),\n",
        "  tf.keras.layers.GlobalAveragePooling2D(),\n",
        "  tf.keras.layers.Dense(9, activation='softmax')\n",
        "])"
      ],
      "execution_count": null,
      "outputs": []
    },
    {
      "cell_type": "code",
      "metadata": {
        "id": "PwrxAArnstJ8"
      },
      "source": [
        "  model2.compile(loss='categorical_crossentropy', optimizer='adam', metrics=['accuracy'])"
      ],
      "execution_count": null,
      "outputs": []
    },
    {
      "cell_type": "code",
      "metadata": {
        "id": "u5ykz5slstL9",
        "colab": {
          "base_uri": "https://localhost:8080/"
        },
        "outputId": "39a648f0-3e39-4d7d-f70c-b80e14f75b53"
      },
      "source": [
        "c=model2.fit(x=X_train4, y=y_train,epochs=100,batch_size=32, validation_data=(X_test4,y_test), shuffle=True)"
      ],
      "execution_count": null,
      "outputs": [
        {
          "output_type": "stream",
          "text": [
            "Epoch 1/100\n",
            "851/851 [==============================] - 48s 52ms/step - loss: 0.9929 - accuracy: 0.6958 - val_loss: 6.9877 - val_accuracy: 0.3142\n",
            "Epoch 2/100\n",
            "851/851 [==============================] - 43s 51ms/step - loss: 0.4721 - accuracy: 0.8426 - val_loss: 8.6694 - val_accuracy: 0.3978\n",
            "Epoch 3/100\n",
            "851/851 [==============================] - 42s 50ms/step - loss: 0.4174 - accuracy: 0.8576 - val_loss: 4.1862 - val_accuracy: 0.5542\n",
            "Epoch 4/100\n",
            "851/851 [==============================] - 43s 51ms/step - loss: 0.3735 - accuracy: 0.8732 - val_loss: 2.9390 - val_accuracy: 0.5436\n",
            "Epoch 5/100\n",
            "851/851 [==============================] - 43s 51ms/step - loss: 0.3365 - accuracy: 0.8845 - val_loss: 1.1752 - val_accuracy: 0.7195\n",
            "Epoch 6/100\n",
            "851/851 [==============================] - 44s 51ms/step - loss: 0.3216 - accuracy: 0.8895 - val_loss: 4.1285 - val_accuracy: 0.6429\n",
            "Epoch 7/100\n",
            "851/851 [==============================] - 43s 51ms/step - loss: 0.2937 - accuracy: 0.8993 - val_loss: 2.7990 - val_accuracy: 0.5984\n",
            "Epoch 8/100\n",
            "851/851 [==============================] - 44s 51ms/step - loss: 0.2789 - accuracy: 0.9039 - val_loss: 1.2097 - val_accuracy: 0.7459\n",
            "Epoch 9/100\n",
            "851/851 [==============================] - 44s 51ms/step - loss: 0.2552 - accuracy: 0.9153 - val_loss: 1.3556 - val_accuracy: 0.7384\n",
            "Epoch 10/100\n",
            "851/851 [==============================] - 42s 50ms/step - loss: 0.2443 - accuracy: 0.9168 - val_loss: 0.9238 - val_accuracy: 0.8176\n",
            "Epoch 11/100\n",
            "851/851 [==============================] - 42s 49ms/step - loss: 0.2262 - accuracy: 0.9218 - val_loss: 2.5590 - val_accuracy: 0.6660\n",
            "Epoch 12/100\n",
            "851/851 [==============================] - 43s 51ms/step - loss: 0.2039 - accuracy: 0.9293 - val_loss: 225.4610 - val_accuracy: 0.2901\n",
            "Epoch 13/100\n",
            "851/851 [==============================] - 42s 49ms/step - loss: 0.2798 - accuracy: 0.9055 - val_loss: 0.7666 - val_accuracy: 0.8342\n",
            "Epoch 14/100\n",
            "851/851 [==============================] - 44s 51ms/step - loss: 0.1777 - accuracy: 0.9385 - val_loss: 0.7218 - val_accuracy: 0.8197\n",
            "Epoch 15/100\n",
            "851/851 [==============================] - 43s 51ms/step - loss: 0.1573 - accuracy: 0.9453 - val_loss: 0.7177 - val_accuracy: 0.8329\n",
            "Epoch 16/100\n",
            "851/851 [==============================] - 42s 49ms/step - loss: 0.1539 - accuracy: 0.9460 - val_loss: 0.9485 - val_accuracy: 0.7806\n",
            "Epoch 17/100\n",
            "851/851 [==============================] - 43s 51ms/step - loss: 0.1892 - accuracy: 0.9418 - val_loss: 3.6163 - val_accuracy: 0.7079\n",
            "Epoch 18/100\n",
            "851/851 [==============================] - 43s 51ms/step - loss: 0.1448 - accuracy: 0.9497 - val_loss: 0.8526 - val_accuracy: 0.8301\n",
            "Epoch 19/100\n",
            "851/851 [==============================] - 44s 51ms/step - loss: 0.1170 - accuracy: 0.9590 - val_loss: 1.1513 - val_accuracy: 0.7493\n",
            "Epoch 20/100\n",
            "851/851 [==============================] - 43s 51ms/step - loss: 0.1421 - accuracy: 0.9513 - val_loss: 2.0693 - val_accuracy: 0.6647\n",
            "Epoch 21/100\n",
            "851/851 [==============================] - 43s 51ms/step - loss: 0.1364 - accuracy: 0.9541 - val_loss: 0.8545 - val_accuracy: 0.8623\n",
            "Epoch 22/100\n",
            "851/851 [==============================] - 42s 49ms/step - loss: 0.1023 - accuracy: 0.9663 - val_loss: 0.6237 - val_accuracy: 0.8526\n",
            "Epoch 23/100\n",
            "851/851 [==============================] - 42s 49ms/step - loss: 0.0838 - accuracy: 0.9717 - val_loss: 0.5866 - val_accuracy: 0.8598\n",
            "Epoch 24/100\n",
            "851/851 [==============================] - 44s 51ms/step - loss: 0.0989 - accuracy: 0.9675 - val_loss: 0.8899 - val_accuracy: 0.7984\n",
            "Epoch 25/100\n",
            "851/851 [==============================] - 44s 52ms/step - loss: 0.2394 - accuracy: 0.9196 - val_loss: 0.5147 - val_accuracy: 0.8774\n",
            "Epoch 26/100\n",
            "851/851 [==============================] - 43s 51ms/step - loss: 0.0736 - accuracy: 0.9744 - val_loss: 0.6568 - val_accuracy: 0.8658\n",
            "Epoch 27/100\n",
            "851/851 [==============================] - 43s 51ms/step - loss: 0.0587 - accuracy: 0.9793 - val_loss: 0.5665 - val_accuracy: 0.8755\n",
            "Epoch 28/100\n",
            "851/851 [==============================] - 43s 51ms/step - loss: 0.0640 - accuracy: 0.9778 - val_loss: 0.7463 - val_accuracy: 0.8595\n",
            "Epoch 29/100\n",
            "851/851 [==============================] - 44s 51ms/step - loss: 0.1097 - accuracy: 0.9660 - val_loss: 0.9561 - val_accuracy: 0.8065\n",
            "Epoch 30/100\n",
            "851/851 [==============================] - 44s 51ms/step - loss: 0.0539 - accuracy: 0.9812 - val_loss: 0.5882 - val_accuracy: 0.8551\n",
            "Epoch 31/100\n",
            "851/851 [==============================] - 44s 51ms/step - loss: 0.0642 - accuracy: 0.9782 - val_loss: 0.5741 - val_accuracy: 0.8816\n",
            "Epoch 32/100\n",
            "851/851 [==============================] - 43s 51ms/step - loss: 0.0591 - accuracy: 0.9792 - val_loss: 0.8175 - val_accuracy: 0.8232\n",
            "Epoch 33/100\n",
            "851/851 [==============================] - 44s 52ms/step - loss: 0.0625 - accuracy: 0.9782 - val_loss: 0.7464 - val_accuracy: 0.8361\n",
            "Epoch 34/100\n",
            "851/851 [==============================] - 44s 52ms/step - loss: 0.0533 - accuracy: 0.9815 - val_loss: 0.8258 - val_accuracy: 0.8486\n",
            "Epoch 35/100\n",
            "851/851 [==============================] - 43s 51ms/step - loss: 0.0597 - accuracy: 0.9792 - val_loss: 0.9081 - val_accuracy: 0.8304\n",
            "Epoch 36/100\n",
            "851/851 [==============================] - 43s 51ms/step - loss: 0.0565 - accuracy: 0.9803 - val_loss: 0.6676 - val_accuracy: 0.8573\n",
            "Epoch 37/100\n",
            "851/851 [==============================] - 44s 51ms/step - loss: 0.0492 - accuracy: 0.9830 - val_loss: 0.6694 - val_accuracy: 0.8697\n",
            "Epoch 38/100\n",
            "851/851 [==============================] - 43s 51ms/step - loss: 0.0489 - accuracy: 0.9830 - val_loss: 0.6411 - val_accuracy: 0.8644\n",
            "Epoch 39/100\n",
            "851/851 [==============================] - 43s 51ms/step - loss: 0.0624 - accuracy: 0.9797 - val_loss: 0.7785 - val_accuracy: 0.8436\n",
            "Epoch 40/100\n",
            "851/851 [==============================] - 43s 51ms/step - loss: 0.0804 - accuracy: 0.9747 - val_loss: 0.8397 - val_accuracy: 0.8569\n",
            "Epoch 41/100\n",
            "851/851 [==============================] - 44s 52ms/step - loss: 0.0387 - accuracy: 0.9876 - val_loss: 0.6968 - val_accuracy: 0.8692\n",
            "Epoch 42/100\n",
            "851/851 [==============================] - 44s 51ms/step - loss: 0.0344 - accuracy: 0.9888 - val_loss: 0.6888 - val_accuracy: 0.8608\n",
            "Epoch 43/100\n",
            "851/851 [==============================] - 43s 51ms/step - loss: 0.0388 - accuracy: 0.9869 - val_loss: 0.7063 - val_accuracy: 0.8691\n",
            "Epoch 44/100\n",
            "851/851 [==============================] - 42s 49ms/step - loss: 0.0431 - accuracy: 0.9855 - val_loss: 0.6987 - val_accuracy: 0.8782\n",
            "Epoch 45/100\n",
            "851/851 [==============================] - 44s 52ms/step - loss: 0.0416 - accuracy: 0.9865 - val_loss: 0.6430 - val_accuracy: 0.8710\n",
            "Epoch 46/100\n",
            "851/851 [==============================] - 44s 51ms/step - loss: 0.0375 - accuracy: 0.9868 - val_loss: 0.7860 - val_accuracy: 0.8525\n",
            "Epoch 47/100\n",
            "851/851 [==============================] - 43s 50ms/step - loss: 0.0420 - accuracy: 0.9858 - val_loss: 0.8993 - val_accuracy: 0.8492\n",
            "Epoch 48/100\n",
            "851/851 [==============================] - 42s 50ms/step - loss: 0.0375 - accuracy: 0.9873 - val_loss: 1.0204 - val_accuracy: 0.7919\n",
            "Epoch 49/100\n",
            "851/851 [==============================] - 43s 50ms/step - loss: 0.0341 - accuracy: 0.9890 - val_loss: 0.8202 - val_accuracy: 0.8364\n",
            "Epoch 50/100\n",
            "851/851 [==============================] - 42s 50ms/step - loss: 0.0393 - accuracy: 0.9867 - val_loss: 0.8214 - val_accuracy: 0.8648\n",
            "Epoch 51/100\n",
            "851/851 [==============================] - 41s 48ms/step - loss: 0.0449 - accuracy: 0.9848 - val_loss: 0.6828 - val_accuracy: 0.8752\n",
            "Epoch 52/100\n",
            "851/851 [==============================] - 42s 50ms/step - loss: 0.0300 - accuracy: 0.9901 - val_loss: 0.6067 - val_accuracy: 0.8819\n",
            "Epoch 53/100\n",
            "851/851 [==============================] - 42s 50ms/step - loss: 0.0306 - accuracy: 0.9903 - val_loss: 1.0003 - val_accuracy: 0.8163\n",
            "Epoch 54/100\n",
            "851/851 [==============================] - 43s 50ms/step - loss: 0.0386 - accuracy: 0.9871 - val_loss: 0.8750 - val_accuracy: 0.8432\n",
            "Epoch 55/100\n",
            "851/851 [==============================] - 42s 50ms/step - loss: 0.0262 - accuracy: 0.9916 - val_loss: 0.6886 - val_accuracy: 0.8688\n",
            "Epoch 56/100\n",
            "851/851 [==============================] - 42s 50ms/step - loss: 0.0302 - accuracy: 0.9904 - val_loss: 0.7934 - val_accuracy: 0.8811\n",
            "Epoch 57/100\n",
            "851/851 [==============================] - 40s 48ms/step - loss: 0.0359 - accuracy: 0.9895 - val_loss: 0.7195 - val_accuracy: 0.8698\n",
            "Epoch 58/100\n",
            "851/851 [==============================] - 43s 50ms/step - loss: 0.0310 - accuracy: 0.9896 - val_loss: 0.8278 - val_accuracy: 0.8535\n",
            "Epoch 59/100\n",
            "851/851 [==============================] - 42s 50ms/step - loss: 0.0292 - accuracy: 0.9908 - val_loss: 0.8055 - val_accuracy: 0.8523\n",
            "Epoch 60/100\n",
            "851/851 [==============================] - 43s 50ms/step - loss: 0.0326 - accuracy: 0.9898 - val_loss: 0.7376 - val_accuracy: 0.8620\n",
            "Epoch 61/100\n",
            "851/851 [==============================] - 42s 49ms/step - loss: 0.0291 - accuracy: 0.9911 - val_loss: 0.6626 - val_accuracy: 0.8691\n",
            "Epoch 62/100\n",
            "851/851 [==============================] - 43s 50ms/step - loss: 0.0320 - accuracy: 0.9899 - val_loss: 0.7714 - val_accuracy: 0.8738\n",
            "Epoch 63/100\n",
            "851/851 [==============================] - 43s 50ms/step - loss: 0.0312 - accuracy: 0.9901 - val_loss: 0.7446 - val_accuracy: 0.8705\n",
            "Epoch 64/100\n",
            "851/851 [==============================] - 43s 50ms/step - loss: 0.0251 - accuracy: 0.9919 - val_loss: 0.8891 - val_accuracy: 0.8464\n",
            "Epoch 65/100\n",
            "851/851 [==============================] - 42s 50ms/step - loss: 0.0267 - accuracy: 0.9917 - val_loss: 0.8885 - val_accuracy: 0.8608\n",
            "Epoch 66/100\n",
            "851/851 [==============================] - 43s 50ms/step - loss: 0.0294 - accuracy: 0.9905 - val_loss: 0.7104 - val_accuracy: 0.8667\n",
            "Epoch 67/100\n",
            "851/851 [==============================] - 41s 49ms/step - loss: 0.0295 - accuracy: 0.9911 - val_loss: 0.7352 - val_accuracy: 0.8788\n",
            "Epoch 68/100\n",
            "851/851 [==============================] - 43s 50ms/step - loss: 0.0272 - accuracy: 0.9914 - val_loss: 0.8388 - val_accuracy: 0.8730\n",
            "Epoch 69/100\n",
            "851/851 [==============================] - 42s 49ms/step - loss: 0.0269 - accuracy: 0.9915 - val_loss: 0.7489 - val_accuracy: 0.8726\n",
            "Epoch 70/100\n",
            "851/851 [==============================] - 42s 50ms/step - loss: 0.0278 - accuracy: 0.9906 - val_loss: 0.7782 - val_accuracy: 0.8652\n",
            "Epoch 71/100\n",
            "851/851 [==============================] - 41s 48ms/step - loss: 0.0175 - accuracy: 0.9940 - val_loss: 0.7508 - val_accuracy: 0.8780\n",
            "Epoch 72/100\n",
            "851/851 [==============================] - 41s 48ms/step - loss: 0.0243 - accuracy: 0.9921 - val_loss: 0.7507 - val_accuracy: 0.8782\n",
            "Epoch 73/100\n",
            "851/851 [==============================] - 42s 49ms/step - loss: 0.0301 - accuracy: 0.9904 - val_loss: 0.7175 - val_accuracy: 0.8657\n",
            "Epoch 74/100\n",
            "851/851 [==============================] - 42s 50ms/step - loss: 0.0218 - accuracy: 0.9932 - val_loss: 0.7621 - val_accuracy: 0.8705\n",
            "Epoch 75/100\n",
            "851/851 [==============================] - 43s 50ms/step - loss: 0.0248 - accuracy: 0.9918 - val_loss: 0.9351 - val_accuracy: 0.8317\n",
            "Epoch 76/100\n",
            "851/851 [==============================] - 42s 50ms/step - loss: 0.0248 - accuracy: 0.9933 - val_loss: 0.8454 - val_accuracy: 0.8636\n",
            "Epoch 77/100\n",
            "851/851 [==============================] - 42s 49ms/step - loss: 0.0248 - accuracy: 0.9921 - val_loss: 0.7397 - val_accuracy: 0.8814\n",
            "Epoch 78/100\n",
            "851/851 [==============================] - 42s 50ms/step - loss: 0.0201 - accuracy: 0.9934 - val_loss: 0.8787 - val_accuracy: 0.8522\n",
            "Epoch 79/100\n",
            "851/851 [==============================] - 42s 50ms/step - loss: 0.0204 - accuracy: 0.9941 - val_loss: 0.8543 - val_accuracy: 0.8764\n",
            "Epoch 80/100\n",
            "851/851 [==============================] - 43s 50ms/step - loss: 0.0178 - accuracy: 0.9941 - val_loss: 0.9157 - val_accuracy: 0.8655\n",
            "Epoch 81/100\n",
            "851/851 [==============================] - 42s 50ms/step - loss: 0.0291 - accuracy: 0.9906 - val_loss: 0.7312 - val_accuracy: 0.8741\n",
            "Epoch 82/100\n",
            "851/851 [==============================] - 43s 50ms/step - loss: 0.0187 - accuracy: 0.9942 - val_loss: 0.8503 - val_accuracy: 0.8792\n",
            "Epoch 83/100\n",
            "851/851 [==============================] - 42s 50ms/step - loss: 0.0230 - accuracy: 0.9924 - val_loss: 0.8422 - val_accuracy: 0.8616\n",
            "Epoch 84/100\n",
            "851/851 [==============================] - 43s 50ms/step - loss: 0.0194 - accuracy: 0.9936 - val_loss: 0.6570 - val_accuracy: 0.8805\n",
            "Epoch 85/100\n",
            "851/851 [==============================] - 44s 51ms/step - loss: 0.0206 - accuracy: 0.9928 - val_loss: 0.7509 - val_accuracy: 0.8716\n",
            "Epoch 86/100\n",
            "851/851 [==============================] - 44s 52ms/step - loss: 0.0225 - accuracy: 0.9935 - val_loss: 0.8083 - val_accuracy: 0.8773\n",
            "Epoch 87/100\n",
            "851/851 [==============================] - 44s 51ms/step - loss: 0.0143 - accuracy: 0.9953 - val_loss: 0.8645 - val_accuracy: 0.8533\n",
            "Epoch 88/100\n",
            "851/851 [==============================] - 44s 52ms/step - loss: 0.0215 - accuracy: 0.9934 - val_loss: 0.7856 - val_accuracy: 0.8688\n",
            "Epoch 89/100\n",
            "851/851 [==============================] - 44s 51ms/step - loss: 0.0169 - accuracy: 0.9948 - val_loss: 0.6864 - val_accuracy: 0.8820\n",
            "Epoch 90/100\n",
            "851/851 [==============================] - 43s 51ms/step - loss: 0.0185 - accuracy: 0.9950 - val_loss: 0.7011 - val_accuracy: 0.8839\n",
            "Epoch 91/100\n",
            "851/851 [==============================] - 43s 51ms/step - loss: 0.0207 - accuracy: 0.9942 - val_loss: 0.7252 - val_accuracy: 0.8816\n",
            "Epoch 92/100\n",
            "851/851 [==============================] - 44s 51ms/step - loss: 0.0209 - accuracy: 0.9940 - val_loss: 0.9288 - val_accuracy: 0.8720\n",
            "Epoch 93/100\n",
            "851/851 [==============================] - 42s 49ms/step - loss: 0.0226 - accuracy: 0.9926 - val_loss: 0.7629 - val_accuracy: 0.8824\n",
            "Epoch 94/100\n",
            "851/851 [==============================] - 42s 49ms/step - loss: 0.0139 - accuracy: 0.9956 - val_loss: 0.8233 - val_accuracy: 0.8601\n",
            "Epoch 95/100\n",
            "851/851 [==============================] - 44s 51ms/step - loss: 0.0172 - accuracy: 0.9940 - val_loss: 0.7876 - val_accuracy: 0.8833\n",
            "Epoch 96/100\n",
            "851/851 [==============================] - 42s 49ms/step - loss: 0.0150 - accuracy: 0.9947 - val_loss: 0.8609 - val_accuracy: 0.8707\n",
            "Epoch 97/100\n",
            "851/851 [==============================] - 44s 51ms/step - loss: 0.0197 - accuracy: 0.9939 - val_loss: 0.7361 - val_accuracy: 0.8786\n",
            "Epoch 98/100\n",
            "851/851 [==============================] - 43s 51ms/step - loss: 0.0123 - accuracy: 0.9963 - val_loss: 0.8327 - val_accuracy: 0.8685\n",
            "Epoch 99/100\n",
            "851/851 [==============================] - 44s 52ms/step - loss: 0.0212 - accuracy: 0.9932 - val_loss: 0.7743 - val_accuracy: 0.8745\n",
            "Epoch 100/100\n",
            "851/851 [==============================] - 44s 52ms/step - loss: 0.0155 - accuracy: 0.9948 - val_loss: 0.9956 - val_accuracy: 0.8507\n"
          ],
          "name": "stdout"
        }
      ]
    },
    {
      "cell_type": "code",
      "metadata": {
        "colab": {
          "base_uri": "https://localhost:8080/",
          "height": 229
        },
        "id": "KLY5Mb3EstO2",
        "outputId": "ffc032ab-17df-413d-8c2d-b1e35ec1ef90"
      },
      "source": [
        "accuracy  = c.history['accuracy']\n",
        "val_accuracy = c.history['val_accuracy']\n",
        "\n",
        "val_loss=c.history['val_loss']\n",
        "loss=c.history['loss']\n",
        "\n",
        "train_epoch=range(1,101)\n",
        "plt.plot(train_epoch,accuracy , label='accuracy')\n",
        "plt.plot(train_epoch,val_accuracy , label='val_accuracy')\n",
        "\n",
        "plt.xlabel('Epoch')\n",
        "plt.ylabel('accuracy')\n",
        "plt.legend()\n",
        "\n",
        "text=('best accuracy' ,max(val_accuracy),)\n",
        "\n",
        "plt.text(1,0.9940,text,fontsize =12)\n"
      ],
      "execution_count": null,
      "outputs": [
        {
          "output_type": "error",
          "ename": "NameError",
          "evalue": "ignored",
          "traceback": [
            "\u001b[0;31m---------------------------------------------------------------------------\u001b[0m",
            "\u001b[0;31mNameError\u001b[0m                                 Traceback (most recent call last)",
            "\u001b[0;32m<ipython-input-1-4b75fa1a321e>\u001b[0m in \u001b[0;36m<module>\u001b[0;34m()\u001b[0m\n\u001b[0;32m----> 1\u001b[0;31m \u001b[0maccuracy\u001b[0m  \u001b[0;34m=\u001b[0m \u001b[0mc\u001b[0m\u001b[0;34m.\u001b[0m\u001b[0mhistory\u001b[0m\u001b[0;34m[\u001b[0m\u001b[0;34m'accuracy'\u001b[0m\u001b[0;34m]\u001b[0m\u001b[0;34m\u001b[0m\u001b[0;34m\u001b[0m\u001b[0m\n\u001b[0m\u001b[1;32m      2\u001b[0m \u001b[0mval_accuracy\u001b[0m \u001b[0;34m=\u001b[0m \u001b[0mc\u001b[0m\u001b[0;34m.\u001b[0m\u001b[0mhistory\u001b[0m\u001b[0;34m[\u001b[0m\u001b[0;34m'val_accuracy'\u001b[0m\u001b[0;34m]\u001b[0m\u001b[0;34m\u001b[0m\u001b[0;34m\u001b[0m\u001b[0m\n\u001b[1;32m      3\u001b[0m \u001b[0;34m\u001b[0m\u001b[0m\n\u001b[1;32m      4\u001b[0m \u001b[0mval_loss\u001b[0m\u001b[0;34m=\u001b[0m\u001b[0mc\u001b[0m\u001b[0;34m.\u001b[0m\u001b[0mhistory\u001b[0m\u001b[0;34m[\u001b[0m\u001b[0;34m'val_loss'\u001b[0m\u001b[0;34m]\u001b[0m\u001b[0;34m\u001b[0m\u001b[0;34m\u001b[0m\u001b[0m\n\u001b[1;32m      5\u001b[0m \u001b[0mloss\u001b[0m\u001b[0;34m=\u001b[0m\u001b[0mc\u001b[0m\u001b[0;34m.\u001b[0m\u001b[0mhistory\u001b[0m\u001b[0;34m[\u001b[0m\u001b[0;34m'loss'\u001b[0m\u001b[0;34m]\u001b[0m\u001b[0;34m\u001b[0m\u001b[0;34m\u001b[0m\u001b[0m\n",
            "\u001b[0;31mNameError\u001b[0m: name 'c' is not defined"
          ]
        }
      ]
    },
    {
      "cell_type": "code",
      "metadata": {
        "id": "jic4FLyjGw75"
      },
      "source": [
        "df=pd.DataFrame()\n",
        "df['epoch']=train_epoch\n",
        "df['val_acc']=val_accuracy\n",
        "df['test_acc']=accuracy\n",
        "df['val_loss']=val_loss\n",
        "df['test_loss']=loss\n",
        "df.to_csv('Alexnet1.csv') \n",
        "\n",
        "from google.colab import files\n",
        "files.download(\"Alexnet1.csv\")"
      ],
      "execution_count": null,
      "outputs": []
    },
    {
      "cell_type": "code",
      "metadata": {
        "id": "PRD5oNPgstQ-"
      },
      "source": [
        "y_test_pred=np.round(model.predict(X_test3),0)\n",
        "y_test_pred.shape\n",
        "\n",
        "y_predict_classes = [np.argmax(y, axis=None, out=None) for y in y_test_pred]\n",
        "y_test_class= [np.argmax(y, axis=None, out=None) for y in y_test]\n",
        "len(y_test_class)"
      ],
      "execution_count": null,
      "outputs": []
    },
    {
      "cell_type": "code",
      "metadata": {
        "id": "oN3WpiMAXdOh"
      },
      "source": [
        "np.sort(n_classes)"
      ],
      "execution_count": null,
      "outputs": []
    },
    {
      "cell_type": "code",
      "metadata": {
        "colab": {
          "base_uri": "https://localhost:8080/"
        },
        "id": "sOO5x7BGIyUg",
        "outputId": "06effbd5-aff2-43c9-dac5-e91d8d9cef5e"
      },
      "source": [
        "from sklearn import metrics\n",
        "\n",
        "classification_metrics=metrics.classification_report(y_predict_classes,y_test_class, target_names=n_classes)\n",
        "print(classification_metrics)"
      ],
      "execution_count": null,
      "outputs": [
        {
          "output_type": "stream",
          "text": [
            "              precision    recall  f1-score   support\n",
            "\n",
            "      Center       0.98      0.88      0.93       997\n",
            "       Donut       0.23      0.97      0.37        30\n",
            "    Edge-Loc       0.86      0.80      0.83      1094\n",
            "   Edge-Ring       0.98      0.97      0.97      2005\n",
            "         Loc       0.80      0.61      0.69       915\n",
            "   Near-full       0.86      0.97      0.91        31\n",
            "      Random       0.08      1.00      0.15        13\n",
            "     Scratch       0.00      0.00      0.00         0\n",
            "        none       0.92      0.89      0.91      1720\n",
            "\n",
            "    accuracy                           0.86      6805\n",
            "   macro avg       0.63      0.79      0.64      6805\n",
            "weighted avg       0.92      0.86      0.89      6805\n",
            "\n"
          ],
          "name": "stdout"
        }
      ]
    },
    {
      "cell_type": "code",
      "metadata": {
        "colab": {
          "base_uri": "https://localhost:8080/"
        },
        "id": "zpuloEvCTCcV",
        "outputId": "c3dbbae9-31a1-4d18-c7bc-18d35810eef6"
      },
      "source": [
        "y_predict_classes=pd.DataFrame(y_predict_classes)\n",
        "y_test_class=pd.DataFrame(y_test_class)\n",
        "\n",
        "for i, j in enumerate(n_classes):\n",
        "\n",
        "  y_predict_classes[y_predict_classes==i]=n_classes[i]\n",
        "  y_test_class[y_test_class==i]=n_classes[i]\n",
        "y_predict_classes=y_predict_classes.to_numpy()\n",
        "y_test_class=y_test_class.to_numpy()\n",
        "y_predict_classes"
      ],
      "execution_count": null,
      "outputs": [
        {
          "output_type": "execute_result",
          "data": {
            "text/plain": [
              "array([['Edge-Ring'],\n",
              "       ['none'],\n",
              "       ['Edge-Loc'],\n",
              "       ...,\n",
              "       ['none'],\n",
              "       ['Edge-Ring'],\n",
              "       ['Edge-Ring']], dtype=object)"
            ]
          },
          "metadata": {
            "tags": []
          },
          "execution_count": 64
        }
      ]
    },
    {
      "cell_type": "code",
      "metadata": {
        "id": "GQO_txrjK3hx"
      },
      "source": [
        "import itertools\n",
        "from sklearn.metrics import confusion_matrix\n",
        "\n",
        "def plot_confusion_matrix(cm, normalize=False, title='Confusion matrix', cmap=plt.cm.Blues):\n",
        "    \"\"\"\n",
        "    This function prints and plots the confusion matrix.\n",
        "    Normalization can be applied by setting `normalize=True`.\n",
        "    \"\"\"\n",
        "    if normalize:\n",
        "        cm = cm.astype('float') / cm.sum(axis=1)[:, np.newaxis]\n",
        "        print(\"Normalized confusion matrix\")\n",
        "    else:\n",
        "        print('Confusion matrix, without normalization')\n",
        "\n",
        "    #print(cm)\n",
        "\n",
        "    plt.imshow(cm, interpolation='nearest', cmap=cmap)\n",
        "    plt.title(title)\n",
        "    plt.colorbar()\n",
        "\n",
        "    fmt = '.2f' if normalize else 'd'\n",
        "    thresh = cm.max() / 2.\n",
        "    for i, j in itertools.product(range(cm.shape[0]), range(cm.shape[1])):\n",
        "        plt.text(j, i, format(cm[i, j], fmt),\n",
        "                 horizontalalignment=\"center\",\n",
        "                 color=\"white\" if cm[i, j] > thresh else \"black\")\n",
        "\n",
        "    plt.tight_layout()\n",
        "    plt.ylabel('True label')\n",
        "    plt.xlabel('Predicted label')    "
      ],
      "execution_count": null,
      "outputs": []
    },
    {
      "cell_type": "code",
      "metadata": {
        "id": "fqi4Oq0ystTZ",
        "colab": {
          "base_uri": "https://localhost:8080/",
          "height": 603
        },
        "outputId": "91cd5abf-d6d6-48e1-ab62-c0051366cbe9"
      },
      "source": [
        "import itertools\n",
        "from sklearn.metrics import confusion_matrix\n",
        "from sklearn.metrics import ConfusionMatrixDisplay\n",
        "\n",
        "\n",
        "cnf_matrix = confusion_matrix(y_predict_classes, y_test_class)\n",
        "np.set_printoptions(precision=2)\n",
        "\n",
        "from matplotlib import gridspec\n",
        "fig = plt.figure(figsize=(15, 8)) \n",
        "gs = gridspec.GridSpec(1, 2, width_ratios=[1, 1]) \n",
        "\n",
        "\n",
        "\n",
        "# Plot normalized confusion matrix\n",
        "plt.subplot(gs[1])\n",
        "plot_confusion_matrix(cnf_matrix,   title='Normalized confusion matrix', normalize=True )\n",
        "\n",
        "\n",
        "plt.show()"
      ],
      "execution_count": null,
      "outputs": [
        {
          "output_type": "stream",
          "text": [
            "Normalized confusion matrix\n"
          ],
          "name": "stdout"
        },
        {
          "output_type": "display_data",
          "data": {
            "image/png": "[encoded data removed]",
            "text/plain": [
              "<Figure size 1080x576 with 2 Axes>"
            ]
          },
          "metadata": {
            "tags": [],
            "needs_background": "light"
          }
        }
      ]
    },
    {
      "cell_type": "code",
      "metadata": {
        "id": "8KUUcX52Mu98",
        "colab": {
          "base_uri": "https://localhost:8080/"
        },
        "outputId": "9426c1f9-b073-421f-84e8-04a6933c3feb"
      },
      "source": [
        "n_classes"
      ],
      "execution_count": null,
      "outputs": [
        {
          "output_type": "execute_result",
          "data": {
            "text/plain": [
              "array(['Center', 'Donut', 'Edge-Loc', 'Edge-Ring', 'Loc', 'Near-full',\n",
              "       'Random', 'Scratch', 'none'], dtype=object)"
            ]
          },
          "metadata": {
            "tags": []
          },
          "execution_count": 67
        }
      ]
    },
    {
      "cell_type": "markdown",
      "metadata": {
        "id": "tgsc9GFdYCmg"
      },
      "source": [
        ""
      ]
    },
    {
      "cell_type": "code",
      "metadata": {
        "id": "Jpb1q_wjstWw",
        "colab": {
          "base_uri": "https://localhost:8080/"
        },
        "outputId": "eddff770-c118-450a-ee1a-7508b66e8fde"
      },
      "source": [
        "y_predict_classes"
      ],
      "execution_count": null,
      "outputs": [
        {
          "output_type": "execute_result",
          "data": {
            "text/plain": [
              "array([['Edge-Ring'],\n",
              "       ['none'],\n",
              "       ['Edge-Loc'],\n",
              "       ...,\n",
              "       ['none'],\n",
              "       ['Edge-Ring'],\n",
              "       ['Edge-Ring']], dtype=object)"
            ]
          },
          "metadata": {
            "tags": []
          },
          "execution_count": 68
        }
      ]
    },
    {
      "cell_type": "code",
      "metadata": {
        "id": "6Ozpge4rstY-"
      },
      "source": [
        "y_predict_classes\n"
      ],
      "execution_count": null,
      "outputs": []
    },
    {
      "cell_type": "code",
      "metadata": {
        "id": "4oHfNVFHstbZ"
      },
      "source": [
        "n_classes[1]"
      ],
      "execution_count": null,
      "outputs": []
    },
    {
      "cell_type": "code",
      "metadata": {
        "id": "gyhqjuh2std0"
      },
      "source": [
        "y_predict_classes"
      ],
      "execution_count": null,
      "outputs": []
    },
    {
      "cell_type": "code",
      "metadata": {
        "id": "PPj0qcc5stgT"
      },
      "source": [
        ""
      ],
      "execution_count": null,
      "outputs": []
    },
    {
      "cell_type": "code",
      "metadata": {
        "id": "AtWTM48bstiq"
      },
      "source": [
        ""
      ],
      "execution_count": null,
      "outputs": []
    },
    {
      "cell_type": "markdown",
      "metadata": {
        "id": "iaHf75Wa1doy"
      },
      "source": [
        ""
      ]
    }
  ]
}