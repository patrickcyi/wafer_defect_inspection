{
  "nbformat": 4,
  "nbformat_minor": 0,
  "metadata": {
    "colab": {
      "name": "wf 811k Autoencoder dimension reduction",
      "provenance": [],
      "collapsed_sections": []
    },
    "kernelspec": {
      "name": "python3",
      "display_name": "Python 3"
    }
  },
  "cells": [
    {
      "cell_type": "code",
      "metadata": {
        "colab": {
          "base_uri": "https://localhost:8080/"
        },
        "id": "C-ZNlvUlpX-P",
        "outputId": "7525ef7c-499d-4c1b-8c5a-4f4ab53e27e0"
      },
      "source": [
        "from google.colab import drive\n",
        "drive.mount('/content/drive',force_remount=True)\n",
        "\n"
      ],
      "execution_count": null,
      "outputs": [
        {
          "output_type": "stream",
          "text": [
            "Mounted at /content/drive\n"
          ],
          "name": "stdout"
        }
      ]
    },
    {
      "cell_type": "code",
      "metadata": {
        "id": "AT_SbqSoph83"
      },
      "source": [
        "import pandas as pd\n",
        "import numpy as np\n",
        "import time\n",
        "import gc\n",
        "import sys\n",
        "import pickle\n",
        "import matplotlib.pyplot as plt\n",
        "import warnings\n",
        "warnings.filterwarnings(\"ignore\")\n",
        "import time\n",
        "import seaborn as sns\n",
        "import pandas.core.indexes as i\n",
        "import cv2\n",
        "from sklearn.model_selection import train_test_split\n",
        "from sklearn.utils import shuffle\n",
        "from keras.wrappers.scikit_learn import KerasClassifier \n",
        "from sklearn.model_selection import KFold \n",
        "from sklearn.model_selection import cross_val_score\n",
        "from matplotlib.offsetbox import (TextArea, DrawingArea, OffsetImage,\n",
        "                                  AnnotationBbox)"
      ],
      "execution_count": null,
      "outputs": []
    },
    {
      "cell_type": "code",
      "metadata": {
        "id": "wuD9RTRqpiTB"
      },
      "source": [
        "import tensorflow as tf\n",
        "from tensorflow.keras.utils import to_categorical\n",
        "from tensorflow.keras.models import Sequential\n",
        "from tensorflow.keras.layers import Dense, Dropout, Input, Reshape\n",
        "from tensorflow.keras.layers import Activation, Flatten\n",
        "from tensorflow.keras.layers import Conv2D, MaxPooling2D, ZeroPadding2D, UpSampling2D\n",
        "from tensorflow.keras.optimizers import SGD\n",
        "from tensorflow.keras.optimizers import Adam\n",
        "from tensorflow.keras.layers import  Conv2DTranspose\n",
        "from tensorflow.keras.layers import BatchNormalization\n",
        "import keras\n",
        "from keras import layers\n",
        "\n"
      ],
      "execution_count": null,
      "outputs": []
    },
    {
      "cell_type": "code",
      "metadata": {
        "id": "NtnFw3AVvP7m"
      },
      "source": [
        "import keras\n",
        "from keras import layers\n",
        "from keras.models import Model\n",
        "from keras import metrics\n",
        "from keras import backend as K   # 'generic' backend so code works with either tensorflow or theano\n",
        "\n",
        "K.clear_session()\n",
        "\n",
        "np.random.seed(237)"
      ],
      "execution_count": null,
      "outputs": []
    },
    {
      "cell_type": "code",
      "metadata": {
        "id": "Sz-855m-pidX"
      },
      "source": [
        "# let's prepare our input data. We are using MNIST digits and we are disregrading the labels (since we are only interested in encoding/decoding the input images)\n",
        "# load the data\n",
        "copied_path='/content/drive/MyDrive/9z_ML_Bootcamp/Wafer_Defects/1LSWMD.pkl'\n",
        "data=pd.read_pickle(copied_path)\n",
        "\n"
      ],
      "execution_count": null,
      "outputs": []
    },
    {
      "cell_type": "code",
      "metadata": {
        "colab": {
          "base_uri": "https://localhost:8080/"
        },
        "id": "xTAxIdBUpifd",
        "outputId": "dde410a0-3bed-41b6-eb36-2cbe9f662582"
      },
      "source": [
        "data_backup=data\n",
        "data.info()\n"
      ],
      "execution_count": null,
      "outputs": [
        {
          "output_type": "stream",
          "text": [
            "<class 'pandas.core.frame.DataFrame'>\n",
            "RangeIndex: 811457 entries, 0 to 811456\n",
            "Data columns (total 6 columns):\n",
            " #   Column          Non-Null Count   Dtype  \n",
            "---  ------          --------------   -----  \n",
            " 0   waferMap        811457 non-null  object \n",
            " 1   dieSize         811457 non-null  float64\n",
            " 2   lotName         811457 non-null  object \n",
            " 3   waferIndex      811457 non-null  float64\n",
            " 4   trianTestLabel  811457 non-null  object \n",
            " 5   failureType     811457 non-null  object \n",
            "dtypes: float64(2), object(4)\n",
            "memory usage: 37.1+ MB\n"
          ],
          "name": "stdout"
        }
      ]
    },
    {
      "cell_type": "code",
      "metadata": {
        "id": "fCS0CarHpih3"
      },
      "source": [
        "# if need restart, restart from here. reading data took too long\n",
        "resize_img=28\n",
        "RGB=1\n",
        "\n",
        "\n",
        "data=data_backup\n",
        "data=shuffle(data)\n",
        "\n",
        "\n"
      ],
      "execution_count": null,
      "outputs": []
    },
    {
      "cell_type": "code",
      "metadata": {
        "colab": {
          "base_uri": "https://localhost:8080/"
        },
        "id": "9teCzLw_pikH",
        "outputId": "da63f6a0-408e-4a25-ce79-5e176e0fd0f6"
      },
      "source": [
        "# remove the [] in failure type. easier for onehot encoder\n",
        "label=data.trianTestLabel.values\n",
        "label = [ str(obj).replace(\"[[\", \"\").replace(\"]]\", \"\") for obj in label ]\n",
        "label = np.array(label)\n",
        "len(label)"
      ],
      "execution_count": null,
      "outputs": [
        {
          "output_type": "execute_result",
          "data": {
            "text/plain": [
              "811457"
            ]
          },
          "metadata": {
            "tags": []
          },
          "execution_count": 11
        }
      ]
    },
    {
      "cell_type": "code",
      "metadata": {
        "colab": {
          "base_uri": "https://localhost:8080/"
        },
        "id": "LHbud0WFpimZ",
        "outputId": "3c3d9f02-250a-4e3b-fc8c-e17d3fda7990"
      },
      "source": [
        "failuretype=data.failureType.values\n",
        "failuretype = [ str(obj).replace(\"[['\", \"\").replace(\"']]\", \"\") for obj in failuretype ]\n",
        "failuretype = np.array(failuretype)\n",
        "len(failuretype)"
      ],
      "execution_count": null,
      "outputs": [
        {
          "output_type": "execute_result",
          "data": {
            "text/plain": [
              "811457"
            ]
          },
          "metadata": {
            "tags": []
          },
          "execution_count": 12
        }
      ]
    },
    {
      "cell_type": "code",
      "metadata": {
        "colab": {
          "base_uri": "https://localhost:8080/"
        },
        "id": "toEl3OjnpioW",
        "outputId": "87023938-f70e-45db-e893-37cf929e0379"
      },
      "source": [
        "df=pd.DataFrame()\n",
        "df['label']=label\n",
        "df['type']=failuretype\n",
        "df['wafermap']=data.waferMap.values\n",
        "df['diesize']=data['dieSize'].values\n",
        "df['lot']=data.lotName.values\n",
        "df['waferindex']=data.waferIndex\n",
        "df.drop(df[df['type']=='[]'].index,axis=0, inplace=True)\n",
        "df.info()"
      ],
      "execution_count": null,
      "outputs": [
        {
          "output_type": "stream",
          "text": [
            "<class 'pandas.core.frame.DataFrame'>\n",
            "Int64Index: 172950 entries, 16 to 811454\n",
            "Data columns (total 6 columns):\n",
            " #   Column      Non-Null Count   Dtype  \n",
            "---  ------      --------------   -----  \n",
            " 0   label       172950 non-null  object \n",
            " 1   type        172950 non-null  object \n",
            " 2   wafermap    172950 non-null  object \n",
            " 3   diesize     172950 non-null  float64\n",
            " 4   lot         172950 non-null  object \n",
            " 5   waferindex  172950 non-null  float64\n",
            "dtypes: float64(2), object(4)\n",
            "memory usage: 9.2+ MB\n"
          ],
          "name": "stdout"
        }
      ]
    },
    {
      "cell_type": "code",
      "metadata": {
        "colab": {
          "base_uri": "https://localhost:8080/"
        },
        "id": "8A2rkJw1piqn",
        "outputId": "7ed7d6c3-6e4f-4039-9b69-67e56632a3a2"
      },
      "source": [
        "types=df['type'].unique()\n",
        "types"
      ],
      "execution_count": null,
      "outputs": [
        {
          "output_type": "execute_result",
          "data": {
            "text/plain": [
              "array(['none', 'Edge-Ring', 'Loc', 'Center', 'Edge-Loc', 'Random',\n",
              "       'Scratch', 'Donut', 'Near-full'], dtype=object)"
            ]
          },
          "metadata": {
            "tags": []
          },
          "execution_count": 14
        }
      ]
    },
    {
      "cell_type": "code",
      "metadata": {
        "colab": {
          "base_uri": "https://localhost:8080/"
        },
        "id": "OFxbpKCCpitH",
        "outputId": "9318c7a3-676e-4f13-83bc-97265676c8b1"
      },
      "source": [
        "# downsample \n",
        "imgs=df[df.type != 'none']['wafermap']\n",
        "label=df[df.type != 'none']['type']\n",
        "\n",
        "len(imgs.to_numpy())\n",
        "label"
      ],
      "execution_count": null,
      "outputs": [
        {
          "output_type": "execute_result",
          "data": {
            "text/plain": [
              "95        Edge-Ring\n",
              "136             Loc\n",
              "152          Center\n",
              "158        Edge-Loc\n",
              "159       Edge-Ring\n",
              "            ...    \n",
              "811248       Center\n",
              "811297       Random\n",
              "811318       Center\n",
              "811355    Edge-Ring\n",
              "811439       Random\n",
              "Name: type, Length: 25519, dtype: object"
            ]
          },
          "metadata": {
            "tags": []
          },
          "execution_count": 15
        }
      ]
    },
    {
      "cell_type": "code",
      "metadata": {
        "colab": {
          "base_uri": "https://localhost:8080/"
        },
        "id": "zsT-E5qtqlR5",
        "outputId": "800498c9-34c7-475d-f2fb-a72c9b53c79d"
      },
      "source": [
        "none_sample=shuffle(df[df.type == 'none'])\n",
        "\n",
        "none_downsample=df[df.type == 'none'].iloc[1:len(imgs.to_numpy())//3,:]\n",
        "imgs_none= none_downsample.wafermap\n",
        "label_none=none_downsample.type\n",
        "len(imgs_none)"
      ],
      "execution_count": null,
      "outputs": [
        {
          "output_type": "execute_result",
          "data": {
            "text/plain": [
              "8505"
            ]
          },
          "metadata": {
            "tags": []
          },
          "execution_count": 16
        }
      ]
    },
    {
      "cell_type": "code",
      "metadata": {
        "colab": {
          "base_uri": "https://localhost:8080/",
          "height": 283
        },
        "id": "E-3GCkHpqmgJ",
        "outputId": "814e39bd-9251-4014-adb8-69d166a45b09"
      },
      "source": [
        "x=imgs.append(imgs_none).to_numpy()\n",
        "y=label.append(label_none).to_numpy()\n",
        "len(y)\n",
        "sns.countplot(y)"
      ],
      "execution_count": null,
      "outputs": [
        {
          "output_type": "execute_result",
          "data": {
            "text/plain": [
              "<matplotlib.axes._subplots.AxesSubplot at 0x7fe9c286e090>"
            ]
          },
          "metadata": {
            "tags": []
          },
          "execution_count": 17
        },
        {
          "output_type": "display_data",
          "data": {
            "image/png": "[encoded data removed]",
            "text/plain": [
              "<Figure size 432x288 with 1 Axes>"
            ]
          },
          "metadata": {
            "tags": [],
            "needs_background": "light"
          }
        }
      ]
    },
    {
      "cell_type": "code",
      "metadata": {
        "colab": {
          "base_uri": "https://localhost:8080/"
        },
        "id": "w02WbcNeqoiO",
        "outputId": "2f004a55-38e5-4788-9ca4-d53f1a9fcc11"
      },
      "source": [
        "# downsample, sample too large to fit\n",
        "batch_fit=pd.DataFrame({'x':x,'y':y})\n",
        "batch_fit=shuffle(batch_fit)\n",
        "#batch_fit= batch_fit.iloc[1:20000,:]\n",
        "x_map=batch_fit['x']\n",
        "y=batch_fit['y']\n",
        "batch_fit.shape"
      ],
      "execution_count": null,
      "outputs": [
        {
          "output_type": "execute_result",
          "data": {
            "text/plain": [
              "(34024, 2)"
            ]
          },
          "metadata": {
            "tags": []
          },
          "execution_count": 18
        }
      ]
    },
    {
      "cell_type": "code",
      "metadata": {
        "id": "G4Btqog7qopz"
      },
      "source": [
        "# resize, the dimension of wafer maps are different. \n",
        "# need to resize to 1 dimenions. \n",
        "x_map=np.array([cv2.resize(img,dsize=(resize_img,resize_img),interpolation=cv2.INTER_CUBIC) for img in x_map])\n",
        "xmap=x_map/2"
      ],
      "execution_count": null,
      "outputs": []
    },
    {
      "cell_type": "code",
      "metadata": {
        "id": "OM9ykJ_-qoso"
      },
      "source": [
        "xmap_reshape=xmap.reshape((xmap.shape[0], resize_img*resize_img))"
      ],
      "execution_count": null,
      "outputs": []
    },
    {
      "cell_type": "code",
      "metadata": {
        "id": "sybbNbnoqou7"
      },
      "source": [
        "def gray_rgb(X_data):\n",
        "    X=[]\n",
        "\n",
        "    for i in range(X_data.shape[0]):\n",
        "        X_temp=X_data[i,:].reshape(resize_img,resize_img,1)\n",
        "        X_temp_resize= tf.image.resize(X_temp, [resize_img,resize_img])\n",
        "        X.append(np.concatenate((X_temp_resize,X_temp_resize,X_temp_resize),axis=-1))\n",
        "    return X"
      ],
      "execution_count": null,
      "outputs": []
    },
    {
      "cell_type": "code",
      "metadata": {
        "id": "cbBQJ1rzqow_"
      },
      "source": [
        "if RGB==3:\n",
        "  xmap_reshape=np.asarray(gray_rgb(xmap_reshape))\n"
      ],
      "execution_count": null,
      "outputs": []
    },
    {
      "cell_type": "code",
      "metadata": {
        "id": "93hkaImrqoza"
      },
      "source": [
        "x_train, x_test, y_train, y_test = train_test_split(xmap.reshape(-1,28,28,1), y, test_size=0.2, random_state=101)\n"
      ],
      "execution_count": null,
      "outputs": []
    },
    {
      "cell_type": "code",
      "metadata": {
        "colab": {
          "base_uri": "https://localhost:8080/"
        },
        "id": "zeLT8suHqo1g",
        "outputId": "88532367-495d-440c-91b6-3d00215501a2"
      },
      "source": [
        "\n",
        "x_train=x_train[1:4000][:][:][:]\n",
        "x_test=x_test[1:2000][:][:][:]\n",
        "y_train=y_train[1:4000]\n",
        "y_test=y_test[1:2000]\n",
        "\n",
        "print(x_train.shape)\n",
        "print(x_test.shape)\n",
        "\n",
        "print(y_train.shape)\n",
        "print(len(x_train), len(x_test))\n",
        "print(len(y_train), len(y_test))"
      ],
      "execution_count": null,
      "outputs": [
        {
          "output_type": "stream",
          "text": [
            "(3999, 28, 28, 1)\n",
            "(1999, 28, 28, 1)\n",
            "(3999,)\n",
            "3999 1999\n",
            "3999 1999\n"
          ],
          "name": "stdout"
        }
      ]
    },
    {
      "cell_type": "code",
      "metadata": {
        "id": "C0e9HU_M8qwr"
      },
      "source": [
        "y_train_backup=y_train\n",
        "y_test_backup=y_test"
      ],
      "execution_count": null,
      "outputs": []
    },
    {
      "cell_type": "code",
      "metadata": {
        "id": "IW59PGRyAU_4"
      },
      "source": [
        "y_train=y_train_backup\n",
        "y_test=y_test_backup"
      ],
      "execution_count": null,
      "outputs": []
    },
    {
      "cell_type": "code",
      "metadata": {
        "colab": {
          "base_uri": "https://localhost:8080/"
        },
        "id": "D9Dfi94D8zZv",
        "outputId": "24d856df-2197-4613-b05a-fe9faa3f9dc7"
      },
      "source": [
        "y_test"
      ],
      "execution_count": null,
      "outputs": [
        {
          "output_type": "execute_result",
          "data": {
            "text/plain": [
              "1243           Loc\n",
              "16799       Center\n",
              "19580    Edge-Ring\n",
              "712      Edge-Ring\n",
              "13741     Edge-Loc\n",
              "           ...    \n",
              "3027     Edge-Ring\n",
              "8927       Scratch\n",
              "30954         none\n",
              "9319        Center\n",
              "5252        Center\n",
              "Name: y, Length: 1999, dtype: object"
            ]
          },
          "metadata": {
            "tags": []
          },
          "execution_count": 106
        }
      ]
    },
    {
      "cell_type": "markdown",
      "metadata": {
        "id": "pntm4FrM8pos"
      },
      "source": [
        ""
      ]
    },
    {
      "cell_type": "code",
      "metadata": {
        "id": "MCI7_AW08niK"
      },
      "source": [
        "n_classes=y.unique()\n",
        "for i, j in enumerate(n_classes):\n",
        "  y_train[y_train==j]=i\n",
        "  y_test[y_test==j]=i"
      ],
      "execution_count": null,
      "outputs": []
    },
    {
      "cell_type": "code",
      "metadata": {
        "colab": {
          "base_uri": "https://localhost:8080/"
        },
        "id": "VbGCTo6R81Ar",
        "outputId": "84d08124-32ad-40d3-e491-289ac44e3ff7"
      },
      "source": [
        "y_test"
      ],
      "execution_count": null,
      "outputs": [
        {
          "output_type": "execute_result",
          "data": {
            "text/plain": [
              "19580    1\n",
              "712      1\n",
              "13741    3\n",
              "11961    1\n",
              "23663    2\n",
              "        ..\n",
              "3027     1\n",
              "8927     0\n",
              "30954    6\n",
              "9319     2\n",
              "5252     2\n",
              "Name: y, Length: 1997, dtype: object"
            ]
          },
          "metadata": {
            "tags": []
          },
          "execution_count": 54
        }
      ]
    },
    {
      "cell_type": "code",
      "metadata": {
        "colab": {
          "base_uri": "https://localhost:8080/"
        },
        "id": "sH1tMMWf8BAt",
        "outputId": "ca056e02-7929-424e-f6c5-c26802b82d37"
      },
      "source": [
        "y_test"
      ],
      "execution_count": null,
      "outputs": [
        {
          "output_type": "execute_result",
          "data": {
            "text/plain": [
              "19580    Edge-Ring\n",
              "712      Edge-Ring\n",
              "13741     Edge-Loc\n",
              "11961    Edge-Ring\n",
              "23663       Center\n",
              "           ...    \n",
              "3027     Edge-Ring\n",
              "8927       Scratch\n",
              "30954         none\n",
              "9319        Center\n",
              "5252        Center\n",
              "Name: y, Length: 1997, dtype: object"
            ]
          },
          "metadata": {
            "tags": []
          },
          "execution_count": 46
        }
      ]
    },
    {
      "cell_type": "code",
      "metadata": {
        "id": "k7j1QrTazgdc"
      },
      "source": [
        "from tensorflow.keras.callbacks import ReduceLROnPlateau"
      ],
      "execution_count": null,
      "outputs": []
    },
    {
      "cell_type": "code",
      "metadata": {
        "colab": {
          "base_uri": "https://localhost:8080/"
        },
        "id": "DGSWwzMhwYPo",
        "outputId": "6e1c32ad-70bb-4089-9da7-1cdf3e751ed0"
      },
      "source": [
        "x_train = x_train.reshape(-1, 28, 28, 1)\n",
        "x_test = x_test.reshape(-1, 28, 28, 1)\n",
        "\n",
        "def make_and_fit():\n",
        "    inputs = Input(shape=(28, 28, 1))\n",
        "\n",
        "    x = Conv2D(32, (3, 3), activation='relu', padding='same')(inputs)\n",
        "    x = Conv2D(32, (3, 3), activation='relu', padding='same')(x)\n",
        "    x = MaxPooling2D((2, 2))(x)\n",
        "    x = BatchNormalization()(x)\n",
        "    x = Conv2D(32, (3, 3), activation='relu', padding='same')(x)\n",
        "    x = Conv2D(32, (3, 3), activation='relu', padding='same')(x)\n",
        "    x = Conv2D(32, (2, 2), activation='relu', padding='same')(x)\n",
        "    x = MaxPooling2D((2, 2))(x)\n",
        "    x = BatchNormalization()(x)\n",
        "    x = Conv2D(16, (2, 2), activation='relu', padding='same')(x)\n",
        "    x = Conv2D(4, (2, 2), activation='relu', padding='same')(x)\n",
        "    x = Conv2D(1, (2, 2), activation='relu', padding='same')(x)\n",
        "    x = Flatten()(x)\n",
        "    encoded = Dense(2, activation='relu')(x)\n",
        "\n",
        "    encoder = Model(inputs=inputs, outputs=encoded)\n",
        "    \n",
        "    encoded_inputs = Input(shape=(2,))\n",
        "\n",
        "    x = Dense(4, activation='relu')(encoded_inputs)\n",
        "    x = Reshape((2, 2, 1))(x)\n",
        "    x = Conv2D(4, (2, 2), activation='relu', padding='same')(x)\n",
        "    x = Conv2D(16, (2, 2), activation='relu', padding='same')(x)\n",
        "    x = BatchNormalization()(x)\n",
        "    x = UpSampling2D((7, 7))(x)\n",
        "    x = Conv2D(32, (3, 3), activation='relu', padding='same')(x)\n",
        "    x = Conv2D(32, (3, 3), activation='relu', padding='same')(x)\n",
        "    x = Conv2D(32, (3, 3), activation='relu', padding='same')(x)\n",
        "    x = BatchNormalization()(x)\n",
        "    x = UpSampling2D((2, 2))(x)\n",
        "    x = Conv2D(32, (3, 3), activation='relu', padding='same')(x)\n",
        "    x = Conv2D(32, (3, 3), activation='relu', padding='same')(x)\n",
        "    decoded = Conv2D(1, (3, 3), activation='sigmoid', padding='same')(x)\n",
        "\n",
        "    decoder = Model(inputs=encoded_inputs, outputs=decoded)\n",
        "    \n",
        "    x = encoder(inputs)\n",
        "    x = decoder(x)\n",
        "    model = Model(inputs=inputs, outputs=x)\n",
        "    optimizer=Adam(learning_rate=0.001, beta_1=0.9,beta_2= 0.999)\n",
        "    model.compile(optimizer=optimizer, loss='binary_crossentropy', metrics=['accuracy', 'mse'])\n",
        "\n",
        "    print(model.summary())\n",
        "    \n",
        "    clr = ReduceLROnPlateau(\n",
        "        monitor='loss',\n",
        "        factor=0.5,\n",
        "        patience=3,\n",
        "        min_delta=0.01,\n",
        "        cooldown=0,\n",
        "        min_lr=1e-7,\n",
        "        verbose=1)\n",
        "\n",
        "    model.fit(\n",
        "        x_train,\n",
        "        x_train,\n",
        "        batch_size=256,\n",
        "        epochs=30,\n",
        "        shuffle=True,\n",
        "        validation_data=(x_test, x_test),\n",
        "        callbacks=[clr])\n",
        "\n",
        "    return model, encoder, decoder\n",
        "\n",
        "model, encoder, decoder = make_and_fit()"
      ],
      "execution_count": null,
      "outputs": [
        {
          "output_type": "stream",
          "text": [
            "Model: \"model_16\"\n",
            "_________________________________________________________________\n",
            "Layer (type)                 Output Shape              Param #   \n",
            "=================================================================\n",
            "input_13 (InputLayer)        [(None, 28, 28, 1)]       0         \n",
            "_________________________________________________________________\n",
            "model_14 (Functional)        (None, 2)                 34889     \n",
            "_________________________________________________________________\n",
            "model_15 (Functional)        (None, 28, 28, 1)         42417     \n",
            "=================================================================\n",
            "Total params: 77,306\n",
            "Trainable params: 77,082\n",
            "Non-trainable params: 224\n",
            "_________________________________________________________________\n",
            "None\n",
            "Epoch 1/30\n",
            "16/16 [==============================] - 39s 2s/step - loss: 0.6690 - accuracy: 0.2424 - mse: 0.0762 - val_loss: 0.6927 - val_accuracy: 0.2153 - val_mse: 0.0860\n",
            "Epoch 2/30\n",
            "16/16 [==============================] - 37s 2s/step - loss: 0.5693 - accuracy: 0.3175 - mse: 0.0384 - val_loss: 0.6932 - val_accuracy: 0.1820 - val_mse: 0.0863\n",
            "Epoch 3/30\n",
            "16/16 [==============================] - 37s 2s/step - loss: 0.5516 - accuracy: 0.3319 - mse: 0.0327 - val_loss: 0.6855 - val_accuracy: 0.2866 - val_mse: 0.0824\n",
            "Epoch 4/30\n",
            "16/16 [==============================] - 36s 2s/step - loss: 0.5453 - accuracy: 0.3368 - mse: 0.0306 - val_loss: 0.6754 - val_accuracy: 0.2191 - val_mse: 0.0776\n",
            "Epoch 5/30\n",
            "16/16 [==============================] - 36s 2s/step - loss: 0.5427 - accuracy: 0.3392 - mse: 0.0299 - val_loss: 0.7196 - val_accuracy: 0.2191 - val_mse: 0.0985\n",
            "Epoch 6/30\n",
            "16/16 [==============================] - 37s 2s/step - loss: 0.5418 - accuracy: 0.3372 - mse: 0.0289 - val_loss: 0.8101 - val_accuracy: 0.2191 - val_mse: 0.1343\n",
            "\n",
            "Epoch 00006: ReduceLROnPlateau reducing learning rate to 0.0005000000237487257.\n",
            "Epoch 7/30\n",
            "16/16 [==============================] - 37s 2s/step - loss: 0.5414 - accuracy: 0.3370 - mse: 0.0287 - val_loss: 0.9372 - val_accuracy: 0.2191 - val_mse: 0.1728\n",
            "Epoch 8/30\n",
            "16/16 [==============================] - 36s 2s/step - loss: 0.5406 - accuracy: 0.3384 - mse: 0.0285 - val_loss: 1.1073 - val_accuracy: 0.2191 - val_mse: 0.2094\n",
            "Epoch 9/30\n",
            "16/16 [==============================] - 36s 2s/step - loss: 0.5399 - accuracy: 0.3387 - mse: 0.0283 - val_loss: 1.3082 - val_accuracy: 0.2191 - val_mse: 0.2377\n",
            "Epoch 10/30\n",
            "16/16 [==============================] - 36s 2s/step - loss: 0.5391 - accuracy: 0.3400 - mse: 0.0283 - val_loss: 1.4667 - val_accuracy: 0.2191 - val_mse: 0.2526\n",
            "Epoch 11/30\n",
            "16/16 [==============================] - 36s 2s/step - loss: 0.5397 - accuracy: 0.3373 - mse: 0.0278 - val_loss: 1.6915 - val_accuracy: 0.2191 - val_mse: 0.2664\n",
            "Epoch 12/30\n",
            "16/16 [==============================] - 36s 2s/step - loss: 0.5392 - accuracy: 0.3395 - mse: 0.0281 - val_loss: 1.8958 - val_accuracy: 0.2191 - val_mse: 0.2743\n",
            "\n",
            "Epoch 00012: ReduceLROnPlateau reducing learning rate to 0.0002500000118743628.\n",
            "Epoch 13/30\n",
            "16/16 [==============================] - 36s 2s/step - loss: 0.5391 - accuracy: 0.3375 - mse: 0.0276 - val_loss: 2.0666 - val_accuracy: 0.2191 - val_mse: 0.2787\n",
            "Epoch 14/30\n",
            "16/16 [==============================] - 35s 2s/step - loss: 0.5387 - accuracy: 0.3385 - mse: 0.0276 - val_loss: 2.2472 - val_accuracy: 0.2191 - val_mse: 0.2819\n",
            "Epoch 15/30\n",
            "16/16 [==============================] - 34s 2s/step - loss: 0.5378 - accuracy: 0.3397 - mse: 0.0276 - val_loss: 2.4407 - val_accuracy: 0.2191 - val_mse: 0.2842\n",
            "\n",
            "Epoch 00015: ReduceLROnPlateau reducing learning rate to 0.0001250000059371814.\n",
            "Epoch 16/30\n",
            "16/16 [==============================] - 35s 2s/step - loss: 0.5383 - accuracy: 0.3392 - mse: 0.0277 - val_loss: 2.5911 - val_accuracy: 0.2191 - val_mse: 0.2854\n",
            "Epoch 17/30\n",
            "16/16 [==============================] - 36s 2s/step - loss: 0.5387 - accuracy: 0.3390 - mse: 0.0277 - val_loss: 2.7259 - val_accuracy: 0.2191 - val_mse: 0.2863\n",
            "Epoch 18/30\n",
            "16/16 [==============================] - 34s 2s/step - loss: 0.5380 - accuracy: 0.3399 - mse: 0.0277 - val_loss: 2.8386 - val_accuracy: 0.2191 - val_mse: 0.2869\n",
            "\n",
            "Epoch 00018: ReduceLROnPlateau reducing learning rate to 6.25000029685907e-05.\n",
            "Epoch 19/30\n",
            "16/16 [==============================] - 34s 2s/step - loss: 0.5381 - accuracy: 0.3396 - mse: 0.0276 - val_loss: 2.9372 - val_accuracy: 0.2191 - val_mse: 0.2872\n",
            "Epoch 20/30\n",
            "16/16 [==============================] - 35s 2s/step - loss: 0.5386 - accuracy: 0.3381 - mse: 0.0274 - val_loss: 2.9944 - val_accuracy: 0.2191 - val_mse: 0.2874\n",
            "Epoch 21/30\n",
            "16/16 [==============================] - 35s 2s/step - loss: 0.5382 - accuracy: 0.3391 - mse: 0.0275 - val_loss: 3.0423 - val_accuracy: 0.2191 - val_mse: 0.2875\n",
            "\n",
            "Epoch 00021: ReduceLROnPlateau reducing learning rate to 3.125000148429535e-05.\n",
            "Epoch 22/30\n",
            "16/16 [==============================] - 35s 2s/step - loss: 0.5379 - accuracy: 0.3394 - mse: 0.0275 - val_loss: 3.0226 - val_accuracy: 0.2191 - val_mse: 0.2873\n",
            "Epoch 23/30\n",
            "16/16 [==============================] - 35s 2s/step - loss: 0.5377 - accuracy: 0.3400 - mse: 0.0275 - val_loss: 2.9849 - val_accuracy: 0.2191 - val_mse: 0.2869\n",
            "Epoch 24/30\n",
            "16/16 [==============================] - 35s 2s/step - loss: 0.5383 - accuracy: 0.3388 - mse: 0.0275 - val_loss: 2.8954 - val_accuracy: 0.2191 - val_mse: 0.2862\n",
            "\n",
            "Epoch 00024: ReduceLROnPlateau reducing learning rate to 1.5625000742147677e-05.\n",
            "Epoch 25/30\n",
            "16/16 [==============================] - 35s 2s/step - loss: 0.5380 - accuracy: 0.3389 - mse: 0.0274 - val_loss: 2.8009 - val_accuracy: 0.2191 - val_mse: 0.2852\n",
            "Epoch 26/30\n",
            "16/16 [==============================] - 35s 2s/step - loss: 0.5386 - accuracy: 0.3368 - mse: 0.0272 - val_loss: 2.6816 - val_accuracy: 0.2191 - val_mse: 0.2835\n",
            "Epoch 27/30\n",
            "16/16 [==============================] - 35s 2s/step - loss: 0.5379 - accuracy: 0.3399 - mse: 0.0276 - val_loss: 2.5607 - val_accuracy: 0.2191 - val_mse: 0.2808\n",
            "\n",
            "Epoch 00027: ReduceLROnPlateau reducing learning rate to 7.812500371073838e-06.\n",
            "Epoch 28/30\n",
            "16/16 [==============================] - 35s 2s/step - loss: 0.5376 - accuracy: 0.3408 - mse: 0.0277 - val_loss: 2.4111 - val_accuracy: 0.2191 - val_mse: 0.2760\n",
            "Epoch 29/30\n",
            "16/16 [==============================] - 35s 2s/step - loss: 0.5379 - accuracy: 0.3392 - mse: 0.0274 - val_loss: 2.2246 - val_accuracy: 0.2192 - val_mse: 0.2678\n",
            "Epoch 30/30\n",
            "16/16 [==============================] - 35s 2s/step - loss: 0.5383 - accuracy: 0.3381 - mse: 0.0273 - val_loss: 2.0124 - val_accuracy: 0.2196 - val_mse: 0.2555\n",
            "\n",
            "Epoch 00030: ReduceLROnPlateau reducing learning rate to 3.906250185536919e-06.\n"
          ],
          "name": "stdout"
        }
      ]
    },
    {
      "cell_type": "code",
      "metadata": {
        "colab": {
          "base_uri": "https://localhost:8080/"
        },
        "id": "7I5wyiTWAQHg",
        "outputId": "c1de1e5c-c205-4381-8ac3-67b2befc62e9"
      },
      "source": [
        "y_test\n",
        "y_test = y_test.reset_index(drop=True)\n",
        "print(y.unique())"
      ],
      "execution_count": null,
      "outputs": [
        {
          "output_type": "stream",
          "text": [
            "['Scratch' 'Edge-Ring' 'Center' 'Edge-Loc' 'Random' 'Loc' 'none' 'Donut'\n",
            " 'Near-full']\n"
          ],
          "name": "stdout"
        }
      ]
    },
    {
      "cell_type": "code",
      "metadata": {
        "id": "-TsgFIIdA5Yj"
      },
      "source": [
        "labeldict={'Scratch':0, 'Edge-Ring':1, 'Center':2, 'Edge-Loc':3, 'Random':4, 'Loc':5, 'none':6, 'Donut':7,\n",
        " 'Near-full':8}"
      ],
      "execution_count": null,
      "outputs": []
    },
    {
      "cell_type": "code",
      "metadata": {
        "colab": {
          "base_uri": "https://localhost:8080/",
          "height": 1000
        },
        "id": "C7EvQTSNwYR3",
        "outputId": "e6ade548-ec86-4721-9159-71b03df30134"
      },
      "source": [
        "from sklearn.manifold import TSNE\n",
        "from sklearn.decomposition import PCA\n",
        "\n",
        "def plot_latent(mode, count, technique):\n",
        "    idx = np.random.choice(len(x_test), count)\n",
        "    inputs = x_test[idx]\n",
        "    fig, ax = plt.subplots(figsize=(8, 5))\n",
        "    ax.set_title(technique)\n",
        "    if technique == 'autoencoder':\n",
        "        coords = encoder.predict(inputs)\n",
        "        print(coords.shape)\n",
        "    elif technique == 'pca':\n",
        "        coords = PCA(n_components=2).fit_transform(inputs.reshape(count, -1))\n",
        "    elif technique == 'tsne':\n",
        "        coords = TSNE(n_components=2).fit_transform(inputs.reshape(count, -1))\n",
        "\n",
        "    if mode == 'imgs':\n",
        "        for image, (x, y) in zip(inputs, coords):\n",
        "            im = OffsetImage(image.reshape(28, 28), zoom=1, cmap='gray')\n",
        "            ab = AnnotationBbox(im, (x, y), xycoords='data', frameon=False)\n",
        "            ax.add_artist(ab)\n",
        "        ax.update_datalim(coords)\n",
        "        ax.autoscale()\n",
        "    elif mode == 'dots':\n",
        "        classes = y_test[idx]\n",
        "        \n",
        "        plt.scatter(coords[:, 0], coords[:, 1], c=classes)\n",
        "        plt.colorbar()\n",
        "\n",
        "    plt.show()\n",
        "\n",
        "\n",
        "plot_latent('dots', 1999, 'autoencoder')\n",
        "plot_latent('dots', 200, 'pca')\n",
        "plot_latent('dots', 200, 'tsne')\n",
        "\n",
        "plot_latent('imgs', 300, 'autoencoder')\n",
        "plot_latent('imgs', 50, 'pca')\n",
        "plot_latent('imgs', 50, 'tsne')"
      ],
      "execution_count": null,
      "outputs": [
        {
          "output_type": "stream",
          "text": [
            "(1999, 2)\n"
          ],
          "name": "stdout"
        },
        {
          "output_type": "display_data",
          "data": {
            "image/png": "[encoded data removed]",
            "text/plain": [
              "<Figure size 576x360 with 2 Axes>"
            ]
          },
          "metadata": {
            "tags": [],
            "needs_background": "light"
          }
        },
        {
          "output_type": "display_data",
          "data": {
            "image/png": "[encoded data removed]",
            "text/plain": [
              "<Figure size 576x360 with 2 Axes>"
            ]
          },
          "metadata": {
            "tags": [],
            "needs_background": "light"
          }
        },
        {
          "output_type": "display_data",
          "data": {
            "image/png": "[encoded data removed]",
            "text/plain": [
              "<Figure size 576x360 with 2 Axes>"
            ]
          },
          "metadata": {
            "tags": [],
            "needs_background": "light"
          }
        },
        {
          "output_type": "stream",
          "text": [
            "(300, 2)\n"
          ],
          "name": "stdout"
        },
        {
          "output_type": "display_data",
          "data": {
            "image/png": "[encoded data removed]",
            "text/plain": [
              "<Figure size 576x360 with 1 Axes>"
            ]
          },
          "metadata": {
            "tags": [],
            "needs_background": "light"
          }
        },
        {
          "output_type": "display_data",
          "data": {
            "image/png": "[encoded data removed]",
            "text/plain": [
              "<Figure size 576x360 with 1 Axes>"
            ]
          },
          "metadata": {
            "tags": [],
            "needs_background": "light"
          }
        },
        {
          "output_type": "display_data",
          "data": {
            "image/png": "[encoded data removed]",
            "text/plain": [
              "<Figure size 576x360 with 1 Axes>"
            ]
          },
          "metadata": {
            "tags": [],
            "needs_background": "light"
          }
        }
      ]
    },
    {
      "cell_type": "code",
      "metadata": {
        "colab": {
          "base_uri": "https://localhost:8080/",
          "height": 162
        },
        "id": "cGJZTGBS78Rx",
        "outputId": "e4e6c954-1057-4b30-e62f-3677cb0ddf9c"
      },
      "source": [
        "\n"
      ],
      "execution_count": null,
      "outputs": [
        {
          "output_type": "error",
          "ename": "NameError",
          "evalue": "ignored",
          "traceback": [
            "\u001b[0;31m---------------------------------------------------------------------------\u001b[0m",
            "\u001b[0;31mNameError\u001b[0m                                 Traceback (most recent call last)",
            "\u001b[0;32m<ipython-input-44-d4d861448dd6>\u001b[0m in \u001b[0;36m<module>\u001b[0;34m()\u001b[0m\n\u001b[0;32m----> 1\u001b[0;31m \u001b[0midx\u001b[0m\u001b[0;34m\u001b[0m\u001b[0;34m\u001b[0m\u001b[0m\n\u001b[0m",
            "\u001b[0;31mNameError\u001b[0m: name 'idx' is not defined"
          ]
        }
      ]
    },
    {
      "cell_type": "code",
      "metadata": {
        "id": "QIgB19xNwYT_"
      },
      "source": [
        ""
      ],
      "execution_count": null,
      "outputs": []
    },
    {
      "cell_type": "code",
      "metadata": {
        "colab": {
          "base_uri": "https://localhost:8080/",
          "height": 162
        },
        "id": "6CUa03_twYW0",
        "outputId": "40beeaa4-c9d7-4a76-9639-7bcda2009915"
      },
      "source": [
        ""
      ],
      "execution_count": null,
      "outputs": [
        {
          "output_type": "error",
          "ename": "ValueError",
          "evalue": "ignored",
          "traceback": [
            "\u001b[0;31m---------------------------------------------------------------------------\u001b[0m",
            "\u001b[0;31mValueError\u001b[0m                                Traceback (most recent call last)",
            "\u001b[0;32m<ipython-input-75-a43fccb74718>\u001b[0m in \u001b[0;36m<module>\u001b[0;34m()\u001b[0m\n\u001b[0;32m----> 1\u001b[0;31m \u001b[0mcoords\u001b[0m \u001b[0;34m=\u001b[0m \u001b[0mPCA\u001b[0m\u001b[0;34m(\u001b[0m\u001b[0mn_components\u001b[0m\u001b[0;34m=\u001b[0m\u001b[0;36m2\u001b[0m\u001b[0;34m)\u001b[0m\u001b[0;34m.\u001b[0m\u001b[0mfit_transform\u001b[0m\u001b[0;34m(\u001b[0m\u001b[0mx_test\u001b[0m\u001b[0;34m.\u001b[0m\u001b[0mreshape\u001b[0m\u001b[0;34m(\u001b[0m\u001b[0;36m200\u001b[0m\u001b[0;34m,\u001b[0m \u001b[0;34m-\u001b[0m\u001b[0;36m1\u001b[0m\u001b[0;34m)\u001b[0m\u001b[0;34m)\u001b[0m\u001b[0;34m\u001b[0m\u001b[0;34m\u001b[0m\u001b[0m\n\u001b[0m",
            "\u001b[0;31mValueError\u001b[0m: cannot reshape array of size 1567216 into shape (200,newaxis)"
          ]
        }
      ]
    },
    {
      "cell_type": "code",
      "metadata": {
        "colab": {
          "base_uri": "https://localhost:8080/"
        },
        "id": "tpXiz29e-Sl7",
        "outputId": "31b8319c-b397-480a-b83f-4d08bc4dcc4e"
      },
      "source": [
        "x_test.shape"
      ],
      "execution_count": null,
      "outputs": [
        {
          "output_type": "execute_result",
          "data": {
            "text/plain": [
              "(1999, 28, 28, 1)"
            ]
          },
          "metadata": {
            "tags": []
          },
          "execution_count": 69
        }
      ]
    },
    {
      "cell_type": "code",
      "metadata": {
        "colab": {
          "base_uri": "https://localhost:8080/"
        },
        "id": "mPIzeFVV-T1o",
        "outputId": "53394ff7-d180-43d7-ea18-2811257e35d9"
      },
      "source": [
        "coords.shape"
      ],
      "execution_count": null,
      "outputs": [
        {
          "output_type": "execute_result",
          "data": {
            "text/plain": [
              "(1999, 2)"
            ]
          },
          "metadata": {
            "tags": []
          },
          "execution_count": 70
        }
      ]
    },
    {
      "cell_type": "code",
      "metadata": {
        "id": "LL5K2H4D-VDS"
      },
      "source": [
        "idx = np.random.choice(len(x_test), 200)\n",
        "inputs = x_test[idx]\n",
        "coords = TSNE(n_components=2).fit_transform(inputs.reshape(200, -1))"
      ],
      "execution_count": null,
      "outputs": []
    },
    {
      "cell_type": "code",
      "metadata": {
        "colab": {
          "base_uri": "https://localhost:8080/",
          "height": 282
        },
        "id": "7gAn1Jja-fIc",
        "outputId": "eb63bf7b-921d-4019-d226-807bda0d3693"
      },
      "source": [
        "classes = y_test2[idx]\n",
        "        \n",
        "plt.scatter(coords[:, 0], coords[:, 1], c=classes)"
      ],
      "execution_count": null,
      "outputs": [
        {
          "output_type": "execute_result",
          "data": {
            "text/plain": [
              "<matplotlib.collections.PathCollection at 0x7fe9ad16b6d0>"
            ]
          },
          "metadata": {
            "tags": []
          },
          "execution_count": 98
        },
        {
          "output_type": "display_data",
          "data": {
            "image/png": "[encoded data removed]",
            "text/plain": [
              "<Figure size 432x288 with 1 Axes>"
            ]
          },
          "metadata": {
            "tags": [],
            "needs_background": "light"
          }
        }
      ]
    },
    {
      "cell_type": "code",
      "metadata": {
        "id": "tqV66mcB_TZb"
      },
      "source": [
        "y_test\n",
        "y_test2 = y_test.reset_index(drop=True)"
      ],
      "execution_count": null,
      "outputs": []
    },
    {
      "cell_type": "code",
      "metadata": {
        "colab": {
          "base_uri": "https://localhost:8080/"
        },
        "id": "xUlAv2FS_Wkl",
        "outputId": "697f55ad-9c30-484e-9b13-3e1bac2a1454"
      },
      "source": [
        "y_test2"
      ],
      "execution_count": null,
      "outputs": [
        {
          "output_type": "execute_result",
          "data": {
            "text/plain": [
              "0       5\n",
              "1       2\n",
              "2       1\n",
              "3       1\n",
              "4       3\n",
              "       ..\n",
              "1994    1\n",
              "1995    0\n",
              "1996    6\n",
              "1997    2\n",
              "1998    2\n",
              "Name: y, Length: 1999, dtype: object"
            ]
          },
          "metadata": {
            "tags": []
          },
          "execution_count": 97
        }
      ]
    },
    {
      "cell_type": "code",
      "metadata": {
        "id": "OYx7I4Md_5MA"
      },
      "source": [
        ""
      ],
      "execution_count": null,
      "outputs": []
    }
  ]
}